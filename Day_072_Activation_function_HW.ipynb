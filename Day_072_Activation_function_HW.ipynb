{
  "nbformat": 4,
  "nbformat_minor": 0,
  "metadata": {
    "colab": {
      "name": "Day72-Activation_function_HW.ipynb",
      "version": "0.3.2",
      "provenance": [],
      "collapsed_sections": []
    },
    "kernelspec": {
      "display_name": "Python 3",
      "language": "python",
      "name": "python3"
    }
  },
  "cells": [
    {
      "metadata": {
        "id": "afv4GUT0kdK7",
        "colab_type": "text"
      },
      "cell_type": "markdown",
      "source": [
        "# Rectified Linear Unit- Relu \n",
        "\n",
        "f(x)=max(0,x)\n"
      ]
    },
    {
      "metadata": {
        "id": "lncMR4EglGpF",
        "colab_type": "code",
        "colab": {}
      },
      "cell_type": "code",
      "source": [
        ""
      ],
      "execution_count": 0,
      "outputs": []
    },
    {
      "metadata": {
        "id": "xD1-zqGIkdK9",
        "colab_type": "code",
        "colab": {}
      },
      "cell_type": "code",
      "source": [
        "import numpy as np\n",
        "from numpy import *\n",
        "import matplotlib.pylab as plt\n",
        "%matplotlib inline\n"
      ],
      "execution_count": 0,
      "outputs": []
    },
    {
      "metadata": {
        "id": "bnFozr3tlHLp",
        "colab_type": "text"
      },
      "cell_type": "markdown",
      "source": [
        "ReLU是一個分段的函数，计算公式为：\n",
        "\n",
        "\\begin{equation} f(x)=\\left\\{ \\begin{aligned} x & & if \\quad x\\geq0 \\\\0 & & if \\quad x<0 \\end{aligned} \\right. \\end{equation}"
      ]
    },
    {
      "metadata": {
        "id": "KG95e1wJktOW",
        "colab_type": "code",
        "colab": {
          "base_uri": "https://localhost:8080/",
          "height": 265
        },
        "outputId": "1896f602-0644-4f5e-9134-92cd23ab15e7"
      },
      "cell_type": "code",
      "source": [
        "x =  np.arange(-10,10,0.01)\n",
        "\n",
        "y=list(map(lambda x:x if x>0 else 0,x))\n",
        "plt.plot(x,y)\n",
        "plt.grid(color='b' , linewidth='0.1' ,linestyle='--')\n"
      ],
      "execution_count": 2,
      "outputs": [
        {
          "output_type": "display_data",
          "data": {
            "image/png": "[encoded data removed]",
            "text/plain": [
              "<Figure size 432x288 with 1 Axes>"
            ]
          },
          "metadata": {
            "tags": []
          }
        }
      ]
    },
    {
      "metadata": {
        "id": "-vcBmfAolSHQ",
        "colab_type": "text"
      },
      "cell_type": "markdown",
      "source": [
        "函数導数 dReLU：\n",
        "\n",
        "\\begin{equation} f(x)’=\\left\\{ \\begin{aligned} 1 & & if \\quad x\\geq0 \\\\0 & & if \\quad x<0 \\end{aligned} \\right. \\end{equation}\n",
        "\n"
      ]
    },
    {
      "metadata": {
        "id": "GkPAW9jBkz78",
        "colab_type": "code",
        "colab": {
          "base_uri": "https://localhost:8080/",
          "height": 265
        },
        "outputId": "b8489b57-dd1a-46c2-95b0-0cb14250e19d"
      },
      "cell_type": "code",
      "source": [
        "#ReLU函数导数图像\n",
        "dev_y =list(map(lambda x: 1 if x>0 else 0,x))\n",
        "plt.plot(x,dev_y)\n",
        "plt.grid(color='b' , linewidth='0.1' ,linestyle='--')"
      ],
      "execution_count": 3,
      "outputs": [
        {
          "output_type": "display_data",
          "data": {
            "image/png": "[encoded data removed]",
            "text/plain": [
              "<Figure size 432x288 with 1 Axes>"
            ]
          },
          "metadata": {
            "tags": []
          }
        }
      ]
    }
  ]
}