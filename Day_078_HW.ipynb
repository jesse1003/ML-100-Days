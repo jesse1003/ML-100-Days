{
  "nbformat": 4,
  "nbformat_minor": 0,
  "metadata": {
    "colab": {
      "name": "Day078_HW.ipynb",
      "version": "0.3.2",
      "provenance": [],
      "collapsed_sections": []
    },
    "kernelspec": {
      "name": "python3",
      "display_name": "Python 3"
    },
    "accelerator": "GPU"
  },
  "cells": [
    {
      "metadata": {
        "id": "YnrjfxeIq8XK",
        "colab_type": "text"
      },
      "cell_type": "markdown",
      "source": [
        "## Work\n",
        "1. 請嘗試將 preproc_x 替換成以每筆資料的 min/max 進行標準化至 -1 ~ 1 間，再進行訓練\n",
        "2. 請嘗試將 mlp 疊更深 (e.g 5~10 層)，進行訓練後觀察 learning curve 的走勢\n",
        "3. (optional) 請改用 GPU 進行訓練 (如果你有 GPU 的話)，比較使用 CPU 與 GPU 的訓練速度"
      ]
    },
    {
      "metadata": {
        "id": "ZRz2fyw4q8XO",
        "colab_type": "code",
        "colab": {
          "base_uri": "https://localhost:8080/",
          "height": 34
        },
        "outputId": "4fd1a010-1d51-4d58-ef89-d822f3632aa0"
      },
      "cell_type": "code",
      "source": [
        "import os\n",
        "import keras\n",
        "from keras.models import Sequential\n",
        "from keras.layers import Dense\n"
      ],
      "execution_count": 1,
      "outputs": [
        {
          "output_type": "stream",
          "text": [
            "Using TensorFlow backend.\n"
          ],
          "name": "stderr"
        }
      ]
    },
    {
      "metadata": {
        "id": "TMV-IM8zq8XU",
        "colab_type": "code",
        "colab": {
          "base_uri": "https://localhost:8080/",
          "height": 51
        },
        "outputId": "fe1563cb-4804-4aee-e1f9-2b0f42e0da1b"
      },
      "cell_type": "code",
      "source": [
        "(x_train,y_train),(x_test,y_test) = keras.datasets.cifar10.load_data()"
      ],
      "execution_count": 2,
      "outputs": [
        {
          "output_type": "stream",
          "text": [
            "Downloading data from https://www.cs.toronto.edu/~kriz/cifar-10-python.tar.gz\n",
            "170500096/170498071 [==============================] - 35s 0us/step\n"
          ],
          "name": "stdout"
        }
      ]
    },
    {
      "metadata": {
        "id": "-UAvMAxyIE_h",
        "colab_type": "code",
        "colab": {
          "base_uri": "https://localhost:8080/",
          "height": 34
        },
        "outputId": "c30fe958-46e9-4b87-e83f-221019e7c064"
      },
      "cell_type": "code",
      "source": [
        "x_train.shape"
      ],
      "execution_count": 3,
      "outputs": [
        {
          "output_type": "execute_result",
          "data": {
            "text/plain": [
              "(50000, 32, 32, 3)"
            ]
          },
          "metadata": {
            "tags": []
          },
          "execution_count": 3
        }
      ]
    },
    {
      "metadata": {
        "id": "Vt7nbEgEq8Xb",
        "colab_type": "code",
        "colab": {}
      },
      "cell_type": "code",
      "source": [
        "## 資料前處理\n",
        "\"\"\"\n",
        "Your code here\n",
        "\"\"\"\n",
        "def preproc_x(x,flatten=True):\n",
        "    \n",
        "    x = (x - x.min(axis=0)) / (x.max(axis=0) - x.min(axis=0)) * 2 - 1\n",
        "       \n",
        "    if flatten:\n",
        "        x = x.reshape(len(x), -1)\n",
        "    return x\n",
        "\n",
        "    \n",
        "def preproc_y(y,num_classes=10):\n",
        "    \n",
        "    if y.shape[-1] == 1:\n",
        "        y = keras.utils.to_categorical(y, num_classes)\n",
        "    return y   "
      ],
      "execution_count": 0,
      "outputs": []
    },
    {
      "metadata": {
        "id": "Kcfqi38Lq8Xf",
        "colab_type": "code",
        "colab": {}
      },
      "cell_type": "code",
      "source": [
        "# Preproc the inputs\n",
        "x_train = preproc_x(x_train)\n",
        "x_test = preproc_x(x_test)\n",
        "\n",
        "# Preprc the outputs\n",
        "y_train = preproc_y(y_train)\n",
        "y_test = preproc_y(y_test)"
      ],
      "execution_count": 0,
      "outputs": []
    },
    {
      "metadata": {
        "id": "Pf0sUECiMHdX",
        "colab_type": "code",
        "colab": {
          "base_uri": "https://localhost:8080/",
          "height": 34
        },
        "outputId": "0c1a874a-dc24-4997-914a-5957f0856ae8"
      },
      "cell_type": "code",
      "source": [
        "x_train.shape"
      ],
      "execution_count": 6,
      "outputs": [
        {
          "output_type": "execute_result",
          "data": {
            "text/plain": [
              "(50000, 3072)"
            ]
          },
          "metadata": {
            "tags": []
          },
          "execution_count": 6
        }
      ]
    },
    {
      "metadata": {
        "id": "cJk16Rtuq8Xi",
        "colab_type": "code",
        "colab": {}
      },
      "cell_type": "code",
      "source": [
        "def build_mlp(input_shape, output_units=10, num_neurons=[512, 256, 128, 64, 32]):\n",
        "    \n",
        "    model = Sequential()\n",
        "    model.add(Dense(units = input_shape[1] ,input_dim = input_shape[1], kernel_initializer = 'normal', activation = 'relu',name = 'input'))\n",
        "    \n",
        "    for i, n_units in enumerate(num_neurons):\n",
        "        model.add(Dense(units=n_units, kernel_initializer='normal', activation='relu',name=\"hidden_layer\"+str(i+1)))  \n",
        "           \n",
        "                \n",
        "    model.add(Dense(units=output_units,kernel_initializer='normal', activation='softmax',name='output'))\n",
        "\n",
        "    return(model)\n"
      ],
      "execution_count": 0,
      "outputs": []
    },
    {
      "metadata": {
        "id": "VRTWus_-2ESn",
        "colab_type": "code",
        "colab": {
          "base_uri": "https://localhost:8080/",
          "height": 445
        },
        "outputId": "bdc2630e-f7ae-416e-a473-76ac18fcd544"
      },
      "cell_type": "code",
      "source": [
        "model = build_mlp(input_shape=x_train.shape)\n",
        "model.summary()"
      ],
      "execution_count": 8,
      "outputs": [
        {
          "output_type": "stream",
          "text": [
            "WARNING:tensorflow:From /usr/local/lib/python3.6/dist-packages/tensorflow/python/framework/op_def_library.py:263: colocate_with (from tensorflow.python.framework.ops) is deprecated and will be removed in a future version.\n",
            "Instructions for updating:\n",
            "Colocations handled automatically by placer.\n",
            "_________________________________________________________________\n",
            "Layer (type)                 Output Shape              Param #   \n",
            "=================================================================\n",
            "input (Dense)                (None, 3072)              9440256   \n",
            "_________________________________________________________________\n",
            "hidden_layer1 (Dense)        (None, 512)               1573376   \n",
            "_________________________________________________________________\n",
            "hidden_layer2 (Dense)        (None, 256)               131328    \n",
            "_________________________________________________________________\n",
            "hidden_layer3 (Dense)        (None, 128)               32896     \n",
            "_________________________________________________________________\n",
            "hidden_layer4 (Dense)        (None, 64)                8256      \n",
            "_________________________________________________________________\n",
            "hidden_layer5 (Dense)        (None, 32)                2080      \n",
            "_________________________________________________________________\n",
            "output (Dense)               (None, 10)                330       \n",
            "=================================================================\n",
            "Total params: 11,188,522\n",
            "Trainable params: 11,188,522\n",
            "Non-trainable params: 0\n",
            "_________________________________________________________________\n"
          ],
          "name": "stdout"
        }
      ]
    },
    {
      "metadata": {
        "id": "QLDOlnEGq8Xk",
        "colab_type": "code",
        "colab": {}
      },
      "cell_type": "code",
      "source": [
        "## 超參數設定\n",
        "LEARNING_RATE = 0.001\n",
        "EPOCHS = 100\n",
        "BATCH_SIZE = 256"
      ],
      "execution_count": 0,
      "outputs": []
    },
    {
      "metadata": {
        "id": "cGNrxiCJq8Xn",
        "colab_type": "code",
        "colab": {}
      },
      "cell_type": "code",
      "source": [
        "optimizer = keras.optimizers.Adam(lr=LEARNING_RATE)\n",
        "model.compile(loss=\"categorical_crossentropy\", metrics=[\"accuracy\"], optimizer=optimizer)"
      ],
      "execution_count": 0,
      "outputs": []
    },
    {
      "metadata": {
        "id": "NNAByD_Kq8Xq",
        "colab_type": "code",
        "colab": {
          "base_uri": "https://localhost:8080/",
          "height": 3522
        },
        "outputId": "1719229f-75f1-46bd-d933-d2a70b609791"
      },
      "cell_type": "code",
      "source": [
        "model.fit(x_train, y_train, \n",
        "          epochs=EPOCHS, \n",
        "          batch_size=BATCH_SIZE, \n",
        "          validation_data=(x_test, y_test), \n",
        "          shuffle=True)"
      ],
      "execution_count": 11,
      "outputs": [
        {
          "output_type": "stream",
          "text": [
            "WARNING:tensorflow:From /usr/local/lib/python3.6/dist-packages/tensorflow/python/ops/math_ops.py:3066: to_int32 (from tensorflow.python.ops.math_ops) is deprecated and will be removed in a future version.\n",
            "Instructions for updating:\n",
            "Use tf.cast instead.\n",
            "Train on 50000 samples, validate on 10000 samples\n",
            "Epoch 1/100\n",
            "50000/50000 [==============================] - 9s 171us/step - loss: 1.7169 - acc: 0.3826 - val_loss: 1.5370 - val_acc: 0.4605\n",
            "Epoch 2/100\n",
            "50000/50000 [==============================] - 5s 108us/step - loss: 1.4658 - acc: 0.4851 - val_loss: 1.4263 - val_acc: 0.5001\n",
            "Epoch 3/100\n",
            "50000/50000 [==============================] - 5s 108us/step - loss: 1.3326 - acc: 0.5331 - val_loss: 1.3615 - val_acc: 0.5171\n",
            "Epoch 4/100\n",
            "50000/50000 [==============================] - 5s 108us/step - loss: 1.2244 - acc: 0.5712 - val_loss: 1.3539 - val_acc: 0.5263\n",
            "Epoch 5/100\n",
            "50000/50000 [==============================] - 5s 108us/step - loss: 1.1283 - acc: 0.6013 - val_loss: 1.3180 - val_acc: 0.5404\n",
            "Epoch 6/100\n",
            "50000/50000 [==============================] - 5s 109us/step - loss: 1.0265 - acc: 0.6391 - val_loss: 1.3447 - val_acc: 0.5451\n",
            "Epoch 7/100\n",
            "50000/50000 [==============================] - 5s 108us/step - loss: 0.9247 - acc: 0.6753 - val_loss: 1.3954 - val_acc: 0.5398\n",
            "Epoch 8/100\n",
            "50000/50000 [==============================] - 6s 118us/step - loss: 0.8408 - acc: 0.7041 - val_loss: 1.3745 - val_acc: 0.5546\n",
            "Epoch 9/100\n",
            "50000/50000 [==============================] - 6s 112us/step - loss: 0.7517 - acc: 0.7327 - val_loss: 1.4405 - val_acc: 0.5460\n",
            "Epoch 10/100\n",
            "50000/50000 [==============================] - 6s 114us/step - loss: 0.6611 - acc: 0.7641 - val_loss: 1.5639 - val_acc: 0.5465\n",
            "Epoch 11/100\n",
            "50000/50000 [==============================] - 6s 113us/step - loss: 0.6012 - acc: 0.7854 - val_loss: 1.6142 - val_acc: 0.5519\n",
            "Epoch 12/100\n",
            "50000/50000 [==============================] - 6s 112us/step - loss: 0.5180 - acc: 0.8151 - val_loss: 1.7285 - val_acc: 0.5472\n",
            "Epoch 13/100\n",
            "50000/50000 [==============================] - 6s 113us/step - loss: 0.4650 - acc: 0.8358 - val_loss: 1.8216 - val_acc: 0.5385\n",
            "Epoch 14/100\n",
            "50000/50000 [==============================] - 6s 112us/step - loss: 0.4121 - acc: 0.8540 - val_loss: 1.9648 - val_acc: 0.5444\n",
            "Epoch 15/100\n",
            "50000/50000 [==============================] - 6s 112us/step - loss: 0.3628 - acc: 0.8723 - val_loss: 2.0754 - val_acc: 0.5545\n",
            "Epoch 16/100\n",
            "50000/50000 [==============================] - 6s 111us/step - loss: 0.3501 - acc: 0.8775 - val_loss: 2.1181 - val_acc: 0.5538\n",
            "Epoch 17/100\n",
            "50000/50000 [==============================] - 6s 112us/step - loss: 0.2973 - acc: 0.8963 - val_loss: 2.4573 - val_acc: 0.5475\n",
            "Epoch 18/100\n",
            "50000/50000 [==============================] - 6s 112us/step - loss: 0.2732 - acc: 0.9044 - val_loss: 2.2065 - val_acc: 0.5496\n",
            "Epoch 19/100\n",
            "50000/50000 [==============================] - 6s 112us/step - loss: 0.2521 - acc: 0.9130 - val_loss: 2.3154 - val_acc: 0.5579\n",
            "Epoch 20/100\n",
            "50000/50000 [==============================] - 6s 112us/step - loss: 0.2263 - acc: 0.9218 - val_loss: 2.5134 - val_acc: 0.5462\n",
            "Epoch 21/100\n",
            "50000/50000 [==============================] - 6s 113us/step - loss: 0.2227 - acc: 0.9221 - val_loss: 2.4808 - val_acc: 0.5446\n",
            "Epoch 22/100\n",
            "50000/50000 [==============================] - 6s 111us/step - loss: 0.1986 - acc: 0.9314 - val_loss: 2.4787 - val_acc: 0.5478\n",
            "Epoch 23/100\n",
            "50000/50000 [==============================] - 6s 113us/step - loss: 0.1828 - acc: 0.9376 - val_loss: 2.7000 - val_acc: 0.5453\n",
            "Epoch 24/100\n",
            "50000/50000 [==============================] - 6s 115us/step - loss: 0.1778 - acc: 0.9404 - val_loss: 2.7104 - val_acc: 0.5569\n",
            "Epoch 25/100\n",
            "50000/50000 [==============================] - 6s 113us/step - loss: 0.1651 - acc: 0.9444 - val_loss: 2.6943 - val_acc: 0.5462\n",
            "Epoch 26/100\n",
            "50000/50000 [==============================] - 6s 112us/step - loss: 0.1538 - acc: 0.9478 - val_loss: 2.7279 - val_acc: 0.5381\n",
            "Epoch 27/100\n",
            "50000/50000 [==============================] - 6s 111us/step - loss: 0.1421 - acc: 0.9510 - val_loss: 2.8121 - val_acc: 0.5462\n",
            "Epoch 28/100\n",
            "50000/50000 [==============================] - 6s 112us/step - loss: 0.1553 - acc: 0.9488 - val_loss: 2.7315 - val_acc: 0.5483\n",
            "Epoch 29/100\n",
            "50000/50000 [==============================] - 6s 112us/step - loss: 0.1438 - acc: 0.9516 - val_loss: 2.7228 - val_acc: 0.5393\n",
            "Epoch 30/100\n",
            "50000/50000 [==============================] - 6s 111us/step - loss: 0.1261 - acc: 0.9575 - val_loss: 2.8902 - val_acc: 0.5426\n",
            "Epoch 31/100\n",
            "50000/50000 [==============================] - 6s 111us/step - loss: 0.1340 - acc: 0.9558 - val_loss: 3.0035 - val_acc: 0.5446\n",
            "Epoch 32/100\n",
            "50000/50000 [==============================] - 6s 112us/step - loss: 0.1325 - acc: 0.9564 - val_loss: 3.0178 - val_acc: 0.5500\n",
            "Epoch 33/100\n",
            "50000/50000 [==============================] - 6s 114us/step - loss: 0.1073 - acc: 0.9639 - val_loss: 2.9812 - val_acc: 0.5524\n",
            "Epoch 34/100\n",
            "50000/50000 [==============================] - 6s 111us/step - loss: 0.1153 - acc: 0.9623 - val_loss: 2.9279 - val_acc: 0.5552\n",
            "Epoch 35/100\n",
            "50000/50000 [==============================] - 6s 111us/step - loss: 0.1107 - acc: 0.9632 - val_loss: 2.8340 - val_acc: 0.5452\n",
            "Epoch 36/100\n",
            "50000/50000 [==============================] - 6s 111us/step - loss: 0.1126 - acc: 0.9629 - val_loss: 3.0454 - val_acc: 0.5509\n",
            "Epoch 37/100\n",
            "50000/50000 [==============================] - 6s 114us/step - loss: 0.1143 - acc: 0.9623 - val_loss: 3.0540 - val_acc: 0.5531\n",
            "Epoch 38/100\n",
            "50000/50000 [==============================] - 6s 111us/step - loss: 0.0970 - acc: 0.9687 - val_loss: 3.0258 - val_acc: 0.5489\n",
            "Epoch 39/100\n",
            "50000/50000 [==============================] - 6s 111us/step - loss: 0.0981 - acc: 0.9689 - val_loss: 2.9888 - val_acc: 0.5445\n",
            "Epoch 40/100\n",
            "50000/50000 [==============================] - 6s 112us/step - loss: 0.1048 - acc: 0.9653 - val_loss: 3.0402 - val_acc: 0.5470\n",
            "Epoch 41/100\n",
            "50000/50000 [==============================] - 6s 111us/step - loss: 0.0936 - acc: 0.9693 - val_loss: 2.9593 - val_acc: 0.5494\n",
            "Epoch 42/100\n",
            "50000/50000 [==============================] - 6s 111us/step - loss: 0.0973 - acc: 0.9683 - val_loss: 3.0979 - val_acc: 0.5479\n",
            "Epoch 43/100\n",
            "50000/50000 [==============================] - 6s 111us/step - loss: 0.0967 - acc: 0.9688 - val_loss: 3.0319 - val_acc: 0.5425\n",
            "Epoch 44/100\n",
            "50000/50000 [==============================] - 6s 111us/step - loss: 0.0976 - acc: 0.9690 - val_loss: 3.1291 - val_acc: 0.5504\n",
            "Epoch 45/100\n",
            "50000/50000 [==============================] - 6s 112us/step - loss: 0.0862 - acc: 0.9724 - val_loss: 3.1357 - val_acc: 0.5503\n",
            "Epoch 46/100\n",
            "50000/50000 [==============================] - 6s 112us/step - loss: 0.0832 - acc: 0.9731 - val_loss: 3.0459 - val_acc: 0.5472\n",
            "Epoch 47/100\n",
            "50000/50000 [==============================] - 6s 112us/step - loss: 0.0848 - acc: 0.9727 - val_loss: 3.3342 - val_acc: 0.5445\n",
            "Epoch 48/100\n",
            "50000/50000 [==============================] - 6s 112us/step - loss: 0.0873 - acc: 0.9725 - val_loss: 2.9741 - val_acc: 0.5486\n",
            "Epoch 49/100\n",
            "50000/50000 [==============================] - 6s 113us/step - loss: 0.0822 - acc: 0.9740 - val_loss: 3.2243 - val_acc: 0.5466\n",
            "Epoch 50/100\n",
            "50000/50000 [==============================] - 6s 113us/step - loss: 0.0835 - acc: 0.9734 - val_loss: 3.0474 - val_acc: 0.5501\n",
            "Epoch 51/100\n",
            "50000/50000 [==============================] - 6s 112us/step - loss: 0.0719 - acc: 0.9766 - val_loss: 3.2334 - val_acc: 0.5459\n",
            "Epoch 52/100\n",
            "50000/50000 [==============================] - 6s 113us/step - loss: 0.0845 - acc: 0.9733 - val_loss: 2.9240 - val_acc: 0.5545\n",
            "Epoch 53/100\n",
            "50000/50000 [==============================] - 6s 112us/step - loss: 0.0791 - acc: 0.9748 - val_loss: 3.1692 - val_acc: 0.5443\n",
            "Epoch 54/100\n",
            "50000/50000 [==============================] - 6s 112us/step - loss: 0.0701 - acc: 0.9781 - val_loss: 3.1096 - val_acc: 0.5515\n",
            "Epoch 55/100\n",
            "50000/50000 [==============================] - 6s 111us/step - loss: 0.0767 - acc: 0.9757 - val_loss: 3.1757 - val_acc: 0.5514\n",
            "Epoch 56/100\n",
            "50000/50000 [==============================] - 6s 111us/step - loss: 0.0762 - acc: 0.9759 - val_loss: 3.1745 - val_acc: 0.5473\n",
            "Epoch 57/100\n",
            "50000/50000 [==============================] - 6s 111us/step - loss: 0.0677 - acc: 0.9786 - val_loss: 3.2591 - val_acc: 0.5546\n",
            "Epoch 58/100\n",
            "50000/50000 [==============================] - 6s 111us/step - loss: 0.0723 - acc: 0.9772 - val_loss: 3.2618 - val_acc: 0.5490\n",
            "Epoch 59/100\n",
            "50000/50000 [==============================] - 6s 112us/step - loss: 0.0697 - acc: 0.9776 - val_loss: 3.2301 - val_acc: 0.5515\n",
            "Epoch 60/100\n",
            "50000/50000 [==============================] - 6s 111us/step - loss: 0.0720 - acc: 0.9770 - val_loss: 3.1787 - val_acc: 0.5521\n",
            "Epoch 61/100\n",
            "50000/50000 [==============================] - 6s 112us/step - loss: 0.0650 - acc: 0.9802 - val_loss: 3.2000 - val_acc: 0.5442\n",
            "Epoch 62/100\n",
            "50000/50000 [==============================] - 6s 111us/step - loss: 0.0691 - acc: 0.9784 - val_loss: 3.3291 - val_acc: 0.5516\n",
            "Epoch 63/100\n",
            "50000/50000 [==============================] - 6s 112us/step - loss: 0.0620 - acc: 0.9806 - val_loss: 3.1473 - val_acc: 0.5515\n",
            "Epoch 64/100\n",
            "50000/50000 [==============================] - 6s 111us/step - loss: 0.0670 - acc: 0.9783 - val_loss: 3.4744 - val_acc: 0.5582\n",
            "Epoch 65/100\n",
            "50000/50000 [==============================] - 6s 111us/step - loss: 0.0699 - acc: 0.9773 - val_loss: 3.1303 - val_acc: 0.5472\n",
            "Epoch 66/100\n",
            "50000/50000 [==============================] - 6s 112us/step - loss: 0.0686 - acc: 0.9783 - val_loss: 3.2023 - val_acc: 0.5525\n",
            "Epoch 67/100\n",
            "50000/50000 [==============================] - 6s 111us/step - loss: 0.0532 - acc: 0.9831 - val_loss: 3.2862 - val_acc: 0.5572\n",
            "Epoch 68/100\n",
            "50000/50000 [==============================] - 6s 112us/step - loss: 0.0701 - acc: 0.9787 - val_loss: 3.3546 - val_acc: 0.5544\n",
            "Epoch 69/100\n",
            "50000/50000 [==============================] - 6s 111us/step - loss: 0.0530 - acc: 0.9831 - val_loss: 3.3075 - val_acc: 0.5520\n",
            "Epoch 70/100\n",
            "50000/50000 [==============================] - 6s 112us/step - loss: 0.0634 - acc: 0.9799 - val_loss: 3.2949 - val_acc: 0.5478\n",
            "Epoch 71/100\n",
            "50000/50000 [==============================] - 6s 111us/step - loss: 0.0625 - acc: 0.9803 - val_loss: 3.3135 - val_acc: 0.5543\n",
            "Epoch 72/100\n",
            "50000/50000 [==============================] - 6s 111us/step - loss: 0.0547 - acc: 0.9831 - val_loss: 3.4009 - val_acc: 0.5557\n",
            "Epoch 73/100\n",
            "50000/50000 [==============================] - 6s 111us/step - loss: 0.0606 - acc: 0.9811 - val_loss: 3.3125 - val_acc: 0.5475\n",
            "Epoch 74/100\n",
            "50000/50000 [==============================] - 6s 111us/step - loss: 0.0662 - acc: 0.9798 - val_loss: 3.3726 - val_acc: 0.5533\n",
            "Epoch 75/100\n",
            "50000/50000 [==============================] - 6s 111us/step - loss: 0.0587 - acc: 0.9820 - val_loss: 3.3258 - val_acc: 0.5526\n",
            "Epoch 76/100\n",
            "50000/50000 [==============================] - 6s 111us/step - loss: 0.0533 - acc: 0.9840 - val_loss: 3.2868 - val_acc: 0.5459\n",
            "Epoch 77/100\n",
            "50000/50000 [==============================] - 6s 111us/step - loss: 0.0601 - acc: 0.9813 - val_loss: 3.4006 - val_acc: 0.5553\n",
            "Epoch 78/100\n",
            "50000/50000 [==============================] - 6s 112us/step - loss: 0.0576 - acc: 0.9821 - val_loss: 3.3087 - val_acc: 0.5557\n",
            "Epoch 79/100\n",
            "50000/50000 [==============================] - 6s 114us/step - loss: 0.0436 - acc: 0.9864 - val_loss: 3.5758 - val_acc: 0.5570\n",
            "Epoch 80/100\n",
            "50000/50000 [==============================] - 6s 111us/step - loss: 0.0501 - acc: 0.9845 - val_loss: 3.2997 - val_acc: 0.5472\n",
            "Epoch 81/100\n",
            "50000/50000 [==============================] - 6s 111us/step - loss: 0.0488 - acc: 0.9846 - val_loss: 3.4025 - val_acc: 0.5516\n",
            "Epoch 82/100\n",
            "50000/50000 [==============================] - 5s 110us/step - loss: 0.0586 - acc: 0.9824 - val_loss: 3.3314 - val_acc: 0.5522\n",
            "Epoch 83/100\n",
            "50000/50000 [==============================] - 6s 111us/step - loss: 0.0510 - acc: 0.9845 - val_loss: 3.2284 - val_acc: 0.5473\n",
            "Epoch 84/100\n",
            "50000/50000 [==============================] - 6s 111us/step - loss: 0.0522 - acc: 0.9842 - val_loss: 3.3189 - val_acc: 0.5472\n",
            "Epoch 85/100\n",
            "50000/50000 [==============================] - 6s 111us/step - loss: 0.0556 - acc: 0.9839 - val_loss: 3.1863 - val_acc: 0.5512\n",
            "Epoch 86/100\n",
            "50000/50000 [==============================] - 6s 110us/step - loss: 0.0482 - acc: 0.9856 - val_loss: 3.4092 - val_acc: 0.5503\n",
            "Epoch 87/100\n",
            "50000/50000 [==============================] - 6s 112us/step - loss: 0.0427 - acc: 0.9870 - val_loss: 3.4545 - val_acc: 0.5591\n",
            "Epoch 88/100\n",
            "50000/50000 [==============================] - 6s 113us/step - loss: 0.0567 - acc: 0.9829 - val_loss: 3.2895 - val_acc: 0.5533\n",
            "Epoch 89/100\n",
            "50000/50000 [==============================] - 6s 111us/step - loss: 0.0451 - acc: 0.9860 - val_loss: 3.3659 - val_acc: 0.5494\n",
            "Epoch 90/100\n",
            "50000/50000 [==============================] - 6s 112us/step - loss: 0.0389 - acc: 0.9884 - val_loss: 3.5155 - val_acc: 0.5572\n",
            "Epoch 91/100\n",
            "50000/50000 [==============================] - 6s 110us/step - loss: 0.0476 - acc: 0.9856 - val_loss: 3.5294 - val_acc: 0.5476\n",
            "Epoch 92/100\n",
            "50000/50000 [==============================] - 6s 112us/step - loss: 0.0498 - acc: 0.9855 - val_loss: 3.3734 - val_acc: 0.5572\n",
            "Epoch 93/100\n",
            "50000/50000 [==============================] - 6s 111us/step - loss: 0.0473 - acc: 0.9855 - val_loss: 3.4330 - val_acc: 0.5456\n",
            "Epoch 94/100\n",
            "50000/50000 [==============================] - 6s 112us/step - loss: 0.0483 - acc: 0.9859 - val_loss: 3.3673 - val_acc: 0.5562\n",
            "Epoch 95/100\n",
            "50000/50000 [==============================] - 6s 112us/step - loss: 0.0485 - acc: 0.9850 - val_loss: 3.3343 - val_acc: 0.5471\n",
            "Epoch 96/100\n",
            "50000/50000 [==============================] - 6s 113us/step - loss: 0.0530 - acc: 0.9841 - val_loss: 3.4055 - val_acc: 0.5587\n",
            "Epoch 97/100\n",
            "50000/50000 [==============================] - 6s 112us/step - loss: 0.0435 - acc: 0.9866 - val_loss: 3.3579 - val_acc: 0.5608\n",
            "Epoch 98/100\n",
            "50000/50000 [==============================] - 6s 111us/step - loss: 0.0418 - acc: 0.9875 - val_loss: 3.3946 - val_acc: 0.5520\n",
            "Epoch 99/100\n",
            "50000/50000 [==============================] - 6s 112us/step - loss: 0.0511 - acc: 0.9857 - val_loss: 3.2892 - val_acc: 0.5562\n",
            "Epoch 100/100\n",
            "50000/50000 [==============================] - 6s 111us/step - loss: 0.0394 - acc: 0.9879 - val_loss: 3.3729 - val_acc: 0.5519\n"
          ],
          "name": "stdout"
        },
        {
          "output_type": "execute_result",
          "data": {
            "text/plain": [
              "<keras.callbacks.History at 0x7f158b6ef438>"
            ]
          },
          "metadata": {
            "tags": []
          },
          "execution_count": 11
        }
      ]
    },
    {
      "metadata": {
        "id": "dA_cGIU4q8Xx",
        "colab_type": "code",
        "colab": {
          "base_uri": "https://localhost:8080/",
          "height": 707
        },
        "outputId": "9baf8d0c-ee63-4b79-ed9b-2a6b879adfcb"
      },
      "cell_type": "code",
      "source": [
        "import matplotlib.pyplot as plt\n",
        "\n",
        "\n",
        "train_loss = model.history.history[\"loss\"]\n",
        "valid_loss = model.history.history[\"val_loss\"]\n",
        "\n",
        "train_acc = model.history.history[\"acc\"]\n",
        "valid_acc = model.history.history[\"val_acc\"]\n",
        "\n",
        "plt.plot(range(len(train_loss)), train_loss, label=\"train loss\")\n",
        "plt.plot(range(len(valid_loss)), valid_loss, label=\"valid loss\")\n",
        "plt.legend()\n",
        "plt.title(\"Loss\")\n",
        "plt.show()\n",
        "\n",
        "plt.plot(range(len(train_acc)), train_acc, label=\"train accuracy\")\n",
        "plt.plot(range(len(valid_acc)), valid_acc, label=\"valid accuracy\")\n",
        "plt.legend()\n",
        "plt.title(\"Accuracy\")\n",
        "plt.show()"
      ],
      "execution_count": 12,
      "outputs": [
        {
          "output_type": "display_data",
          "data": {
            "image/png": "[encoded data removed]",
            "text/plain": [
              "<Figure size 576x396 with 1 Axes>"
            ]
          },
          "metadata": {
            "tags": []
          }
        },
        {
          "output_type": "display_data",
          "data": {
            "image/png": "[encoded data removed]",
            "text/plain": [
              "<Figure size 576x396 with 1 Axes>"
            ]
          },
          "metadata": {
            "tags": []
          }
        }
      ]
    }
  ]
}