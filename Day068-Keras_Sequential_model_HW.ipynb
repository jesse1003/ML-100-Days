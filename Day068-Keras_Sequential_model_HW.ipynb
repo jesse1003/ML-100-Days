{
 "cells": [
  {
   "cell_type": "code",
   "execution_count": 1,
   "metadata": {},
   "outputs": [
    {
     "name": "stderr",
     "output_type": "stream",
     "text": [
      "Using TensorFlow backend.\n"
     ]
    }
   ],
   "source": [
    "# 載入必須使用的 Library\n",
    "import keras\n",
    "from keras.datasets import cifar10\n",
    "from keras.models import Sequential, load_model\n",
    "from keras.layers import Dense, Dropout, Activation, Flatten\n",
    "from keras.layers import Conv2D, MaxPooling2D\n"
   ]
  },
  {
   "cell_type": "markdown",
   "metadata": {},
   "source": [
    "# 作業:\n",
    "請修改input shape: (Conv2D(64, (3, 3))的設定, 新增一層 Dense 並觀看 model.summary 的輸出"
   ]
  },
  {
   "cell_type": "code",
   "execution_count": 2,
   "metadata": {},
   "outputs": [
    {
     "name": "stdout",
     "output_type": "stream",
     "text": [
      "Downloading data from https://www.cs.toronto.edu/~kriz/cifar-10-python.tar.gz\n",
      "170500096/170498071 [==============================] - 1231s 7us/step\n"
     ]
    }
   ],
   "source": [
    "num_classes = 10\n",
    "\n",
    "# The data, shuffled and split between train and test sets:\n",
    "(x_train, y_train), (x_test, y_test) = cifar10.load_data()\n",
    "\n",
    "#Convert class vectors to binary class matrices.\n",
    "y_train = keras.utils.to_categorical(y_train, num_classes)\n",
    "y_test = keras.utils.to_categorical(y_test, num_classes)\n",
    "\n",
    "x_train = x_train.astype('float32') / 255.0\n",
    "x_test = x_test.astype('float32') / 255.0\n"
   ]
  },
  {
   "cell_type": "code",
   "execution_count": 13,
   "metadata": {},
   "outputs": [
    {
     "name": "stdout",
     "output_type": "stream",
     "text": [
      "_________________________________________________________________\n",
      "Layer (type)                 Output Shape              Param #   \n",
      "=================================================================\n",
      "conv2d_8 (Conv2D)            (None, 32, 32, 64)        1792      \n",
      "_________________________________________________________________\n",
      "flatten_6 (Flatten)          (None, 65536)             0         \n",
      "_________________________________________________________________\n",
      "dense_13 (Dense)             (None, 512)               33554944  \n",
      "_________________________________________________________________\n",
      "activation_13 (Activation)   (None, 512)               0         \n",
      "_________________________________________________________________\n",
      "dense_14 (Dense)             (None, 512)               262656    \n",
      "_________________________________________________________________\n",
      "activation_14 (Activation)   (None, 512)               0         \n",
      "_________________________________________________________________\n",
      "dropout_6 (Dropout)          (None, 512)               0         \n",
      "_________________________________________________________________\n",
      "dense_15 (Dense)             (None, 10)                5130      \n",
      "_________________________________________________________________\n",
      "activation_15 (Activation)   (None, 10)                0         \n",
      "=================================================================\n",
      "Total params: 33,824,522\n",
      "Trainable params: 33,824,522\n",
      "Non-trainable params: 0\n",
      "_________________________________________________________________\n",
      "None\n"
     ]
    }
   ],
   "source": [
    "# build our CNN model, 多加幾層\n",
    "model = Sequential()\n",
    "model.add(Conv2D(filters=64, kernel_size=(3, 3), padding='same',input_shape=x_train.shape[1:]))\n",
    "#model.add(Conv2D(filters=64, kernel_size=(3, 3)))\n",
    "model.add(Flatten())\n",
    "model.add(Dense(512))\n",
    "model.add(Activation('relu'))\n",
    "model.add(Dense(512))\n",
    "model.add(Activation('relu'))\n",
    "model.add(Dropout(0.5))\n",
    "model.add(Dense(num_classes))\n",
    "model.add(Activation('softmax'))\n",
    "\n",
    "print(model.summary())"
   ]
  },
  {
   "cell_type": "code",
   "execution_count": 14,
   "metadata": {},
   "outputs": [
    {
     "name": "stdout",
     "output_type": "stream",
     "text": [
      "Train on 40000 samples, validate on 10000 samples\n",
      "Epoch 1/10\n",
      "40000/40000 [==============================] - 224s 6ms/step - loss: 2.0390 - acc: 0.3436 - val_loss: 1.6131 - val_acc: 0.4355\n",
      "Epoch 2/10\n",
      "40000/40000 [==============================] - 206s 5ms/step - loss: 1.5552 - acc: 0.4547 - val_loss: 1.5083 - val_acc: 0.4696\n",
      "Epoch 3/10\n",
      "40000/40000 [==============================] - 231s 6ms/step - loss: 1.4295 - acc: 0.4978 - val_loss: 1.4612 - val_acc: 0.4811\n",
      "Epoch 4/10\n",
      "40000/40000 [==============================] - 212s 5ms/step - loss: 1.3241 - acc: 0.5320 - val_loss: 1.4599 - val_acc: 0.4917\n",
      "Epoch 5/10\n",
      "40000/40000 [==============================] - 204s 5ms/step - loss: 1.2533 - acc: 0.5543 - val_loss: 1.4494 - val_acc: 0.4980\n",
      "Epoch 6/10\n",
      "40000/40000 [==============================] - 208s 5ms/step - loss: 1.1707 - acc: 0.5831 - val_loss: 1.4540 - val_acc: 0.5040\n",
      "Epoch 7/10\n",
      "40000/40000 [==============================] - 213s 5ms/step - loss: 1.0907 - acc: 0.6121 - val_loss: 1.4890 - val_acc: 0.5081\n",
      "Epoch 8/10\n",
      "40000/40000 [==============================] - 207s 5ms/step - loss: 1.0065 - acc: 0.6412 - val_loss: 1.5542 - val_acc: 0.4966\n",
      "Epoch 9/10\n",
      "40000/40000 [==============================] - 261s 7ms/step - loss: 0.9373 - acc: 0.6653 - val_loss: 1.6038 - val_acc: 0.4942\n",
      "Epoch 10/10\n",
      "40000/40000 [==============================] - 260s 6ms/step - loss: 0.8678 - acc: 0.6884 - val_loss: 1.6336 - val_acc: 0.4999\n",
      "10000/10000 [==============================] - 21s 2ms/step\n",
      "Test accuracy: 0.4967\n"
     ]
    }
   ],
   "source": [
    "# initiate Adam optimizer\n",
    "opt = keras.optimizers.Adam()\n",
    "\n",
    "# Let's train the model using Adam\n",
    "model.compile(loss='categorical_crossentropy',optimizer=opt,metrics=['accuracy'])\n",
    "\n",
    "model_history = model.fit(x_train, y_train, validation_split=0.2, epochs=10, batch_size=128, verbose=1)  \n",
    "\n",
    "# Score trained model.\n",
    "scores = model.evaluate(x_test, y_test, verbose=1)\n",
    "print('Test accuracy:', scores[1])"
   ]
  },
  {
   "cell_type": "markdown",
   "metadata": {},
   "source": [
    "### 嘗試加不同類型的層，運算時間一定會加長但準確度不一定有明顯提升…"
   ]
  },
  {
   "cell_type": "code",
   "execution_count": null,
   "metadata": {},
   "outputs": [],
   "source": []
  }
 ],
 "metadata": {
  "kernelspec": {
   "display_name": "Python 3",
   "language": "python",
   "name": "python3"
  },
  "language_info": {
   "codemirror_mode": {
    "name": "ipython",
    "version": 3
   },
   "file_extension": ".py",
   "mimetype": "text/x-python",
   "name": "python",
   "nbconvert_exporter": "python",
   "pygments_lexer": "ipython3",
   "version": "3.6.8"
  }
 },
 "nbformat": 4,
 "nbformat_minor": 2
}
