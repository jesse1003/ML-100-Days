{
  "nbformat": 4,
  "nbformat_minor": 0,
  "metadata": {
    "colab": {
      "name": "Day95-CNN_Pooling_Padding_HW.ipynb",
      "version": "0.3.2",
      "provenance": [],
      "collapsed_sections": []
    },
    "language_info": {
      "codemirror_mode": {
        "name": "ipython",
        "version": 3
      },
      "file_extension": ".py",
      "mimetype": "text/x-python",
      "name": "python",
      "nbconvert_exporter": "python",
      "pygments_lexer": "ipython3",
      "version": "3.6.8"
    },
    "kernelspec": {
      "display_name": "Python 3",
      "language": "python",
      "name": "python3"
    }
  },
  "cells": [
    {
      "metadata": {
        "id": "kx97fxiCaeqJ",
        "colab_type": "text"
      },
      "cell_type": "markdown",
      "source": [
        "# 教學目標:\n",
        "    了解 Padding 的作法\n",
        "    \n",
        "    了解 Pooling 的作法"
      ]
    },
    {
      "metadata": {
        "id": "QoQd0CyZaeqM",
        "colab_type": "text"
      },
      "cell_type": "markdown",
      "source": [
        "# 範例說明:\n",
        "    (1)zero_pad - feature map 跟原圖的比對\n",
        "    \n",
        "    (2)pool_forward - 前行網路的 pooling layer"
      ]
    },
    {
      "metadata": {
        "id": "-zBvW2LAaeqO",
        "colab_type": "text"
      },
      "cell_type": "markdown",
      "source": [
        "# 作業:\n",
        "    (1) 調整Padding 的設定, 看 Pad 後的結果\n",
        "    \n",
        "    (2) 調整Pooling 的設定, 看 Poolin 後的結果"
      ]
    },
    {
      "metadata": {
        "id": "_wSVSojAaeqQ",
        "colab_type": "code",
        "colab": {}
      },
      "cell_type": "code",
      "source": [
        "import numpy as np\n",
        "import h5py\n",
        "import matplotlib.pyplot as plt\n",
        "\n",
        "# 繪圖結果直接顯示在Jupyter cell 之內\n",
        "%matplotlib inline  \n",
        "plt.rcParams['figure.figsize'] = (5.0, 4.0) #  設定繪圖板的大小\n",
        "plt.rcParams['image.interpolation'] = 'nearest'\n",
        "plt.rcParams['image.cmap'] = 'gray'\n",
        "\n",
        "# autoreload。可以讓我們不退出IPython就動態修改代碼，在執行代碼前IPython會幫我們自動重載改動的模塊\n",
        "%load_ext autoreload\n",
        "%autoreload 2\n",
        "np.random.seed(1)"
      ],
      "execution_count": 0,
      "outputs": []
    },
    {
      "metadata": {
        "id": "bKkLDGhlaeqa",
        "colab_type": "code",
        "colab": {}
      },
      "cell_type": "code",
      "source": [
        "# GRADED FUNCTION: zero_pad\n",
        "def zero_pad(X, pad):\n",
        "    \"\"\"\n",
        "    對image X 做 zero-padding. \n",
        "    參數定義如下:\n",
        "    X -- python numpy array, 呈現維度 (m, n_H, n_W, n_C), 代表一批 m 個圖像\n",
        "         n_H: 圖高, n_W: 圖寬, n_C: color channels 數\n",
        "    pad -- 整數, 加幾圈的 zero padding.\n",
        "    Returns:\n",
        "    X_pad -- image of shape (m, n_H + 2*pad, n_W + 2*pad, n_C) 做完zero-padding 的結果\n",
        "    \"\"\"\n",
        "    \n",
        "    X_pad = np.pad(X, ((0, 0), (pad, pad), (pad, pad), (0, 0)), 'constant', constant_values=(0, 0))\n",
        "  \n",
        "    return X_pad"
      ],
      "execution_count": 0,
      "outputs": []
    },
    {
      "metadata": {
        "id": "xxH5QXDZaeqk",
        "colab_type": "code",
        "colab": {
          "base_uri": "https://localhost:8080/",
          "height": 420
        },
        "outputId": "09b2a317-351a-4f5b-82e9-f37944d1ad71"
      },
      "cell_type": "code",
      "source": [
        "\n",
        "np.random.seed(1)\n",
        "\n",
        "x = np.random.randn(4, 3, 3, 2) #產生gray image\n",
        "x_pad = zero_pad(x, 2) # 加兩圈 Pad\n",
        "\n",
        "print (\"x.shape =\", x.shape)\n",
        "print (\"x_pad.shape =\", x_pad.shape)\n",
        "print (\"x[1,1] =\", x[1,1])\n",
        "print (\"x_pad[1,1] =\", x_pad[1,1])\n",
        "fig, axarr = plt.subplots(1, 2)\n",
        "axarr[0].set_title('x')\n",
        "axarr[0].imshow(x[0,:,:,0])\n",
        "axarr[1].set_title('x_pad')\n",
        "axarr[1].imshow(x_pad[0,:,:,0])"
      ],
      "execution_count": 5,
      "outputs": [
        {
          "output_type": "stream",
          "text": [
            "x.shape = (4, 3, 3, 2)\n",
            "x_pad.shape = (4, 7, 7, 2)\n",
            "x[1,1] = [[ 0.90085595 -0.68372786]\n",
            " [-0.12289023 -0.93576943]\n",
            " [-0.26788808  0.53035547]]\n",
            "x_pad[1,1] = [[0. 0.]\n",
            " [0. 0.]\n",
            " [0. 0.]\n",
            " [0. 0.]\n",
            " [0. 0.]\n",
            " [0. 0.]\n",
            " [0. 0.]]\n"
          ],
          "name": "stdout"
        },
        {
          "output_type": "execute_result",
          "data": {
            "text/plain": [
              "<matplotlib.image.AxesImage at 0x7fda194a3828>"
            ]
          },
          "metadata": {
            "tags": []
          },
          "execution_count": 5
        },
        {
          "output_type": "display_data",
          "data": {
            "image/png": "[encoded data removed]",
            "text/plain": [
              "<Figure size 360x288 with 2 Axes>"
            ]
          },
          "metadata": {
            "tags": []
          }
        }
      ]
    },
    {
      "metadata": {
        "id": "txPKlL-xcyio",
        "colab_type": "code",
        "colab": {
          "base_uri": "https://localhost:8080/",
          "height": 455
        },
        "outputId": "ae60be81-b93b-48b9-e90f-f88242c52fb4"
      },
      "cell_type": "code",
      "source": [
        "#作業修改\n",
        "np.random.seed(1)\n",
        "\n",
        "x = np.random.randn(4, 3, 3, 2) #產生gray image\n",
        "x_pad = zero_pad(x, 3) # 加三圈 Pad\n",
        "\n",
        "print (\"x.shape =\", x.shape)\n",
        "print (\"x_pad.shape =\", x_pad.shape)\n",
        "print (\"x[1,1] =\", x[1,1])\n",
        "print (\"x_pad[1,1] =\", x_pad[1,1])\n",
        "fig, axarr = plt.subplots(1, 2)\n",
        "axarr[0].set_title('x')\n",
        "axarr[0].imshow(x[0,:,:,0])\n",
        "axarr[1].set_title('x_pad')\n",
        "axarr[1].imshow(x_pad[0,:,:,0])"
      ],
      "execution_count": 6,
      "outputs": [
        {
          "output_type": "stream",
          "text": [
            "x.shape = (4, 3, 3, 2)\n",
            "x_pad.shape = (4, 9, 9, 2)\n",
            "x[1,1] = [[ 0.90085595 -0.68372786]\n",
            " [-0.12289023 -0.93576943]\n",
            " [-0.26788808  0.53035547]]\n",
            "x_pad[1,1] = [[0. 0.]\n",
            " [0. 0.]\n",
            " [0. 0.]\n",
            " [0. 0.]\n",
            " [0. 0.]\n",
            " [0. 0.]\n",
            " [0. 0.]\n",
            " [0. 0.]\n",
            " [0. 0.]]\n"
          ],
          "name": "stdout"
        },
        {
          "output_type": "execute_result",
          "data": {
            "text/plain": [
              "<matplotlib.image.AxesImage at 0x7fda193c1320>"
            ]
          },
          "metadata": {
            "tags": []
          },
          "execution_count": 6
        },
        {
          "output_type": "display_data",
          "data": {
            "image/png": "[encoded data removed]",
            "text/plain": [
              "<Figure size 360x288 with 2 Axes>"
            ]
          },
          "metadata": {
            "tags": []
          }
        }
      ]
    },
    {
      "metadata": {
        "id": "W897-IbUaeqq",
        "colab_type": "code",
        "colab": {}
      },
      "cell_type": "code",
      "source": [
        "# GRADED FUNCTION: pool_forward\n",
        "def pool_forward(A_prev, hparameters, mode = \"max\"):\n",
        "    \"\"\"\n",
        "    設計一個前行網路的池化層\n",
        "    參數定義如下:\n",
        "    A_prev -- 輸入的numpy 陣列, 維度 (m, n_H_prev, n_W_prev, n_C_prev)\n",
        "    hparameter 超參數 --  \"f\" and \"stride\" 所形成的python 字典\n",
        "    mode -- 池化的模式: \"max\" or \"average\"\n",
        "    \n",
        "    返回:\n",
        "        A -- 輸出的池化層, 維度為 (m, n_H, n_W, n_C) 的 numpy 陣列\n",
        "        cache -- 可以應用在 backward pass pooling layer 資料, 包含 input and hparameter\n",
        "    \"\"\"\n",
        "\n",
        "    # 檢索尺寸 from the input shape\n",
        "    (m, n_H_prev, n_W_prev, n_C_prev) = A_prev.shape\n",
        " \n",
        "    # 檢索超參數 from \"hparameters\"\n",
        "    f = hparameters[\"f\"]\n",
        "    stride = hparameters[\"stride\"]\n",
        "\n",
        "    # 定義輸出的dimensions\n",
        "    n_H = int(1 + (n_H_prev - f) / stride)\n",
        "    n_W = int(1 + (n_W_prev - f) / stride)\n",
        "    n_C = n_C_prev\n",
        "\n",
        "    # 初始化輸出的 matrix A\n",
        "    A = np.zeros((m, n_H, n_W, n_C))\n",
        "\n",
        "    ### 程式起始位置  ###\n",
        "    for i in range(m): # 訓練樣本的for 迴圈\n",
        "        for h in range(n_H): # 輸出樣本的for 迴圈, 針對vertical axis\n",
        "            for w in range(n_W): #  輸出樣本的for 迴圈, 針對 horizontal axis\n",
        "                for c in range (n_C): #  輸出樣本的for 迴圈, 針對channels\n",
        "\n",
        "                     # 找出特徵圖的寬度跟高度四個點\n",
        "                    vert_start = h * stride\n",
        "                    vert_end = h * stride+ f\n",
        "                    horiz_start = w * stride\n",
        "                    horiz_end = w * stride + f\n",
        "\n",
        "                    # 定義第i個訓練示例\n",
        "                    a_prev_slice = A_prev[i, vert_start:vert_end, horiz_start:horiz_end,c]\n",
        "\n",
        "                    # 計算輸入data 的池化結果. 使用 if statment 去做分類\n",
        "                    if mode == \"max\":\n",
        "                        A[i, h, w, c] = np.max(a_prev_slice)\n",
        "                    elif mode == \"average\":\n",
        "                        A[i, h, w, c] = np.mean(a_prev_slice)\n",
        "\n",
        "                        ### 程式結束  ###\n",
        "    \n",
        "    # 儲存輸入的特徵圖跟所設定的超參數, 可以用在 pool_backward()\n",
        "    cache = (A_prev, hparameters)\n",
        "    \n",
        "    # 確認輸出的資料維度\n",
        "    assert(A.shape == (m, n_H, n_W, n_C))\n",
        "    return A, cache"
      ],
      "execution_count": 0,
      "outputs": []
    },
    {
      "metadata": {
        "id": "CijQHnU3djuZ",
        "colab_type": "code",
        "colab": {
          "base_uri": "https://localhost:8080/",
          "height": 298
        },
        "outputId": "df4328aa-064a-4e44-e5a3-21b06fafe484"
      },
      "cell_type": "code",
      "source": [
        "np.random.seed(1)\n",
        "A_prev = np.random.randn(2, 4, 4, 3)\n",
        "print('A_prev=',A)\n",
        "print()\n",
        "hparameters = {\"stride\" : 2, \"f\": 3}\n",
        "A, cache = pool_forward(A_prev, hparameters)\n",
        "print(\"mode = max\")\n",
        "print(\"A =\", A)\n",
        "print()\n",
        "A, cache = pool_forward(A_prev, hparameters, mode = \"average\")\n",
        "print(\"mode = average\")\n",
        "print(\"A =\", A)"
      ],
      "execution_count": 10,
      "outputs": [
        {
          "output_type": "stream",
          "text": [
            "A_prev= [[[[-0.09498456  0.11180064 -0.14263511]]]\n",
            "\n",
            "\n",
            " [[[-0.09525108  0.28325018  0.33035185]]]]\n",
            "\n",
            "mode = max\n",
            "A = [[[[1.74481176 0.86540763 1.13376944]]]\n",
            "\n",
            "\n",
            " [[[1.13162939 1.51981682 2.18557541]]]]\n",
            "\n",
            "mode = average\n",
            "A = [[[[ 0.02105773 -0.20328806 -0.40389855]]]\n",
            "\n",
            "\n",
            " [[[-0.22154621  0.51716526  0.48155844]]]]\n"
          ],
          "name": "stdout"
        }
      ]
    },
    {
      "metadata": {
        "id": "xnYK_Qk9aeqw",
        "colab_type": "code",
        "colab": {
          "base_uri": "https://localhost:8080/",
          "height": 210
        },
        "outputId": "a58282d3-7239-4420-918f-2f59391ea270"
      },
      "cell_type": "code",
      "source": [
        "#作業修改\n",
        "hparameters = {\"stride\" : 3, \"f\": 4}\n",
        "\n",
        "A, cache = pool_forward(A_prev, hparameters)\n",
        "print(\"mode = max\")\n",
        "print(\"A =\", A)\n",
        "print()\n",
        "A, cache = pool_forward(A_prev, hparameters, mode = \"average\")\n",
        "print(\"mode = average\")\n",
        "print(\"A =\", A)"
      ],
      "execution_count": 11,
      "outputs": [
        {
          "output_type": "stream",
          "text": [
            "mode = max\n",
            "A = [[[[1.74481176 1.6924546  2.10025514]]]\n",
            "\n",
            "\n",
            " [[[1.19891788 1.51981682 2.18557541]]]]\n",
            "\n",
            "mode = average\n",
            "A = [[[[-0.09498456  0.11180064 -0.14263511]]]\n",
            "\n",
            "\n",
            " [[[-0.09525108  0.28325018  0.33035185]]]]\n"
          ],
          "name": "stdout"
        }
      ]
    },
    {
      "metadata": {
        "id": "PDMqUJ_Gaeq6",
        "colab_type": "code",
        "colab": {}
      },
      "cell_type": "code",
      "source": [
        ""
      ],
      "execution_count": 0,
      "outputs": []
    }
  ]
}