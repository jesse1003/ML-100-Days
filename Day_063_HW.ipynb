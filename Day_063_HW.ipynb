{
 "cells": [
  {
   "cell_type": "code",
   "execution_count": 1,
   "metadata": {},
   "outputs": [],
   "source": [
    "import numpy as np\n",
    "\n",
    "#Input array\n",
    "X = np.array([[1, 0, 1, 0], [1 ,0 ,1 ,1 ],[ 0 , 1 , 0 , 1 ]])\n",
    "\n",
    "#Output\n",
    "y = np.array([[1], [1], [0]])"
   ]
  },
  {
   "cell_type": "code",
   "execution_count": 2,
   "metadata": {},
   "outputs": [],
   "source": [
    "#Sigmoid Function\n",
    "def sigmoid(x): \n",
    "    return  1/(1+np.exp(-x))\n",
    "\n",
    "#Derivative of Sigmoid Function\n",
    "def derivatives_sigmoid(x): \n",
    "    return x*(1-x)"
   ]
  },
  {
   "cell_type": "code",
   "execution_count": 3,
   "metadata": {},
   "outputs": [],
   "source": [
    "#Variable initialization\n",
    "epoch = 5000 #Setting training iterations\n",
    "lr = 0.1 #Setting learning rate\n",
    "inputlayer_neurons = X.shape[1] #number of features in data set \n",
    "hiddenlayer_neurons = 3 #number of hidden layers neurons\n",
    "output_neurons = 1 #number of neurons at output layer"
   ]
  },
  {
   "cell_type": "code",
   "execution_count": 4,
   "metadata": {},
   "outputs": [],
   "source": [
    "#weight and bias initialization\n",
    "wh = np.random.uniform( size = ( inputlayer_neurons , hiddenlayer_neurons ) ) \n",
    "bh = np.random.uniform( size = ( 1 , hiddenlayer_neurons ) ) \n",
    "wout = np.random.uniform( size = ( hiddenlayer_neurons , output_neurons ) ) \n",
    "bout = np.random.uniform( size = ( 1 , output_neurons ) )"
   ]
  },
  {
   "cell_type": "code",
   "execution_count": 5,
   "metadata": {},
   "outputs": [
    {
     "name": "stdout",
     "output_type": "stream",
     "text": [
      "X.shape[1]= 4\n",
      "wh = \n",
      " [[0.36124571 0.0516458  0.44022221]\n",
      " [0.58769202 0.61012895 0.25665259]\n",
      " [0.03824144 0.81089666 0.68448556]\n",
      " [0.95961504 0.78364576 0.25771059]]\n",
      "\n",
      "bh = \n",
      " [[0.74423777 0.29661454 0.58586049]]\n",
      "\n",
      "wout = \n",
      " [[0.44232493]\n",
      " [0.26564681]\n",
      " [0.99560216]]\n",
      "\n",
      "bout = \n",
      " [[0.14755941]]\n",
      "\n"
     ]
    }
   ],
   "source": [
    "print(f'X.shape[1]= {X.shape[1]}')\n",
    "print(f'wh = \\n {wh}\\n')\n",
    "print(f'bh = \\n {bh}\\n')\n",
    "print(f'wout = \\n {wout}\\n')\n",
    "print(f'bout = \\n {bout}\\n')"
   ]
  },
  {
   "cell_type": "markdown",
   "metadata": {
    "collapsed": true
   },
   "source": [
    "# 作業 \n",
    "* 請參閱範例中的 hidden Layer 寫法, 完成 output Layer 的程式"
   ]
  },
  {
   "cell_type": "code",
   "execution_count": 33,
   "metadata": {},
   "outputs": [],
   "source": [
    "for i in  range ( epoch ) :\n",
    "    #Forward Propogation\n",
    "    hidden_layer_input1 = np.dot(X, wh) \n",
    "    hidden_layer_input = hidden_layer_input1 + bh\n",
    "    hiddenlayer_activations =  sigmoid( hidden_layer_input ) \n",
    "    \n",
    "    output_layer_input1 = np.dot( hiddenlayer_activations, wout) \n",
    "    output_layer_input = output_layer_input1 + bout\n",
    "    output = sigmoid(output_layer_input) "
   ]
  },
  {
   "cell_type": "code",
   "execution_count": 38,
   "metadata": {},
   "outputs": [
    {
     "name": "stdout",
     "output_type": "stream",
     "text": [
      "hiddenlayer_activations = \n",
      " [[0.75836288 0.7611795  0.84690997]\n",
      " [0.89122738 0.87465973 0.87742612]\n",
      " [0.90817436 0.84427534 0.75030201]]\n",
      "\n",
      "output of Forward Propogation:\n",
      "[[0.6142119 ]\n",
      " [0.62717047]\n",
      " [0.62663167]] \n",
      "\n"
     ]
    }
   ],
   "source": [
    "print(f'hiddenlayer_activations = \\n {hiddenlayer_activations}\\n')\n",
    "print (f\"output of Forward Propogation:\\n{output} \\n\") "
   ]
  },
  {
   "cell_type": "code",
   "execution_count": 36,
   "metadata": {},
   "outputs": [],
   "source": [
    "B_wout = derivatives_sigmoid(wout)\n",
    "B_bout = derivatives_sigmoid(bout)"
   ]
  },
  {
   "cell_type": "code",
   "execution_count": 37,
   "metadata": {
    "scrolled": true
   },
   "outputs": [
    {
     "name": "stdout",
     "output_type": "stream",
     "text": [
      "wout of Backpropagation:\n",
      "[[0.18582573]\n",
      " [0.15702293]\n",
      " [0.00435933]]\n",
      "\n",
      "bout of Backpropagation:\n",
      "[[0.10996361]]\n",
      "\n"
     ]
    }
   ],
   "source": [
    "print ( f\"wout of Backpropagation:\\n{B_wout}\\n\")\n",
    "print ( f\"bout of Backpropagation:\\n{B_bout}\\n\")"
   ]
  },
  {
   "cell_type": "code",
   "execution_count": null,
   "metadata": {},
   "outputs": [],
   "source": []
  }
 ],
 "metadata": {
  "kernelspec": {
   "display_name": "Python 3",
   "language": "python",
   "name": "python3"
  },
  "language_info": {
   "codemirror_mode": {
    "name": "ipython",
    "version": 3
   },
   "file_extension": ".py",
   "mimetype": "text/x-python",
   "name": "python",
   "nbconvert_exporter": "python",
   "pygments_lexer": "ipython3",
   "version": "3.7.2"
  }
 },
 "nbformat": 4,
 "nbformat_minor": 2
}
