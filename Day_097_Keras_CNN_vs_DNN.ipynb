{
  "nbformat": 4,
  "nbformat_minor": 0,
  "metadata": {
    "colab": {
      "name": "Day097_Keras_CNN_vs_DNN.ipynb",
      "version": "0.3.2",
      "provenance": [],
      "collapsed_sections": []
    },
    "language_info": {
      "codemirror_mode": {
        "name": "ipython",
        "version": 3
      },
      "file_extension": ".py",
      "mimetype": "text/x-python",
      "name": "python",
      "nbconvert_exporter": "python",
      "pygments_lexer": "ipython3",
      "version": "3.6.2"
    },
    "kernelspec": {
      "name": "python3",
      "display_name": "Python 3"
    },
    "accelerator": "GPU"
  },
  "cells": [
    {
      "metadata": {
        "id": "t3zpRNe6eB7g",
        "colab_type": "code",
        "outputId": "a1f6620d-ffaf-451a-c9c0-01271ae5eb41",
        "colab": {
          "base_uri": "https://localhost:8080/",
          "height": 34
        }
      },
      "cell_type": "code",
      "source": [
        "import keras\n",
        "from keras.datasets import cifar10\n",
        "from keras.preprocessing.image import ImageDataGenerator\n",
        "from keras.models import Sequential\n",
        "from keras.layers import Dense, Dropout, Activation, Flatten\n",
        "from keras.layers import Conv2D, MaxPooling2D\n",
        "from keras.optimizers import RMSprop, Adam\n",
        "import os"
      ],
      "execution_count": 1,
      "outputs": [
        {
          "output_type": "stream",
          "text": [
            "Using TensorFlow backend.\n"
          ],
          "name": "stderr"
        }
      ]
    },
    {
      "metadata": {
        "id": "zJNXSK9veB7p",
        "colab_type": "code",
        "outputId": "71960f79-fee3-487d-fb3c-88aba531237b",
        "colab": {
          "base_uri": "https://localhost:8080/",
          "height": 105
        }
      },
      "cell_type": "code",
      "source": [
        "batch_size = 128 # batch 的大小，如果出現 OOM error，請降低這個值\n",
        "num_classes = 10 # 類別的數量，Cifar 10 共有 10 個類別\n",
        "epochs = 10 # 訓練的 epochs 數量\n",
        "\n",
        "# 讀取資料並檢視\n",
        "(x_train, y_train), (x_test, y_test) = cifar10.load_data()\n",
        "print('x_train shape:', x_train.shape)\n",
        "print(x_train.shape[0], 'train samples')\n",
        "print(x_test.shape[0], 'test samples')\n",
        "\n",
        "# 對 label 進行 one-hot encoding (y_trian 原本是純數字)\n",
        "y_train = keras.utils.to_categorical(y_train, num_classes)\n",
        "y_test = keras.utils.to_categorical(y_test, num_classes)"
      ],
      "execution_count": 2,
      "outputs": [
        {
          "output_type": "stream",
          "text": [
            "Downloading data from https://www.cs.toronto.edu/~kriz/cifar-10-python.tar.gz\n",
            "170500096/170498071 [==============================] - 7s 0us/step\n",
            "x_train shape: (50000, 32, 32, 3)\n",
            "50000 train samples\n",
            "10000 test samples\n"
          ],
          "name": "stdout"
        }
      ]
    },
    {
      "metadata": {
        "id": "eVgbYteSeB7t",
        "colab_type": "text"
      },
      "cell_type": "markdown",
      "source": [
        "## 首先我們使用一般的 DNN (MLP) 來訓練\n",
        "由於 DNN 只能輸入一維的資料，我們要先將影像進行攤平，若 (50000, 32, 32, 3) 的影像，攤平後會變成 (50000, 32*32*3) = (50000, 3072)"
      ]
    },
    {
      "metadata": {
        "id": "8oBPk9E8eB7u",
        "colab_type": "code",
        "outputId": "2ab96ae4-cf8c-4637-f23a-3ccbcd152410",
        "colab": {
          "base_uri": "https://localhost:8080/",
          "height": 52
        }
      },
      "cell_type": "code",
      "source": [
        "# 將資料攤平成一維資料\n",
        "x_train = x_train.reshape(50000, 3072) \n",
        "x_test = x_test.reshape(10000, 3072)\n",
        "\n",
        "# 將資料變為 float32 並標準化\n",
        "x_train = x_train.astype('float32')\n",
        "x_test = x_test.astype('float32')\n",
        "x_train /= 255\n",
        "x_test /= 255\n",
        "print(x_train.shape[0], 'train samples')\n",
        "print(x_test.shape[0], 'test samples')"
      ],
      "execution_count": 3,
      "outputs": [
        {
          "output_type": "stream",
          "text": [
            "50000 train samples\n",
            "10000 test samples\n"
          ],
          "name": "stdout"
        }
      ]
    },
    {
      "metadata": {
        "id": "3T2nEbvzeB7x",
        "colab_type": "code",
        "outputId": "efbec452-b563-40ef-9a61-c0f5564e956d",
        "colab": {
          "base_uri": "https://localhost:8080/",
          "height": 928
        }
      },
      "cell_type": "code",
      "source": [
        "model = Sequential()\n",
        "model.add(Dense(512, activation='relu', input_shape=(3072,)))\n",
        "model.add(Dropout(0.2))\n",
        "model.add(Dense(512, activation='relu'))\n",
        "model.add(Dropout(0.2))\n",
        "model.add(Dense(num_classes, activation='softmax'))\n",
        "\n",
        "model.summary()\n",
        "\n",
        "model.compile(loss='categorical_crossentropy',\n",
        "              optimizer=RMSprop(),\n",
        "              metrics=['accuracy'])\n",
        "\n",
        "history = model.fit(x_train, y_train,\n",
        "                    batch_size=batch_size,\n",
        "                    epochs=epochs,\n",
        "                    verbose=1,\n",
        "                    validation_data=(x_test, y_test))\n",
        "score = model.evaluate(x_test, y_test, verbose=0)\n",
        "print('Test loss:', score[0])\n",
        "print('Test accuracy:', score[1])"
      ],
      "execution_count": 4,
      "outputs": [
        {
          "output_type": "stream",
          "text": [
            "WARNING:tensorflow:From /usr/local/lib/python3.6/dist-packages/tensorflow/python/framework/op_def_library.py:263: colocate_with (from tensorflow.python.framework.ops) is deprecated and will be removed in a future version.\n",
            "Instructions for updating:\n",
            "Colocations handled automatically by placer.\n",
            "WARNING:tensorflow:From /usr/local/lib/python3.6/dist-packages/keras/backend/tensorflow_backend.py:3445: calling dropout (from tensorflow.python.ops.nn_ops) with keep_prob is deprecated and will be removed in a future version.\n",
            "Instructions for updating:\n",
            "Please use `rate` instead of `keep_prob`. Rate should be set to `rate = 1 - keep_prob`.\n",
            "_________________________________________________________________\n",
            "Layer (type)                 Output Shape              Param #   \n",
            "=================================================================\n",
            "dense_1 (Dense)              (None, 512)               1573376   \n",
            "_________________________________________________________________\n",
            "dropout_1 (Dropout)          (None, 512)               0         \n",
            "_________________________________________________________________\n",
            "dense_2 (Dense)              (None, 512)               262656    \n",
            "_________________________________________________________________\n",
            "dropout_2 (Dropout)          (None, 512)               0         \n",
            "_________________________________________________________________\n",
            "dense_3 (Dense)              (None, 10)                5130      \n",
            "=================================================================\n",
            "Total params: 1,841,162\n",
            "Trainable params: 1,841,162\n",
            "Non-trainable params: 0\n",
            "_________________________________________________________________\n",
            "WARNING:tensorflow:From /usr/local/lib/python3.6/dist-packages/tensorflow/python/ops/math_ops.py:3066: to_int32 (from tensorflow.python.ops.math_ops) is deprecated and will be removed in a future version.\n",
            "Instructions for updating:\n",
            "Use tf.cast instead.\n",
            "Train on 50000 samples, validate on 10000 samples\n",
            "Epoch 1/10\n",
            "50000/50000 [==============================] - 6s 123us/step - loss: 2.1893 - acc: 0.2507 - val_loss: 1.8866 - val_acc: 0.3159\n",
            "Epoch 2/10\n",
            "50000/50000 [==============================] - 3s 69us/step - loss: 1.8520 - acc: 0.3347 - val_loss: 1.7194 - val_acc: 0.3938\n",
            "Epoch 3/10\n",
            "50000/50000 [==============================] - 4s 72us/step - loss: 1.7773 - acc: 0.3615 - val_loss: 1.6984 - val_acc: 0.3896\n",
            "Epoch 4/10\n",
            "50000/50000 [==============================] - 4s 71us/step - loss: 1.7309 - acc: 0.3822 - val_loss: 1.7300 - val_acc: 0.3692\n",
            "Epoch 5/10\n",
            "50000/50000 [==============================] - 4s 71us/step - loss: 1.6970 - acc: 0.3940 - val_loss: 1.7421 - val_acc: 0.3784\n",
            "Epoch 6/10\n",
            "50000/50000 [==============================] - 3s 69us/step - loss: 1.6678 - acc: 0.4033 - val_loss: 1.6526 - val_acc: 0.4232\n",
            "Epoch 7/10\n",
            "50000/50000 [==============================] - 4s 71us/step - loss: 1.6491 - acc: 0.4114 - val_loss: 1.6048 - val_acc: 0.4438\n",
            "Epoch 8/10\n",
            "50000/50000 [==============================] - 3s 70us/step - loss: 1.6333 - acc: 0.4190 - val_loss: 1.5896 - val_acc: 0.4300\n",
            "Epoch 9/10\n",
            "50000/50000 [==============================] - 4s 71us/step - loss: 1.6097 - acc: 0.4258 - val_loss: 1.5890 - val_acc: 0.4480\n",
            "Epoch 10/10\n",
            "50000/50000 [==============================] - 4s 70us/step - loss: 1.6046 - acc: 0.4252 - val_loss: 1.5665 - val_acc: 0.4450\n",
            "Test loss: 1.5664534614562988\n",
            "Test accuracy: 0.445\n"
          ],
          "name": "stdout"
        }
      ]
    },
    {
      "metadata": {
        "id": "3HUtfymQeB71",
        "colab_type": "text"
      },
      "cell_type": "markdown",
      "source": [
        "## 接下來我們使用 CNN 來訓練神經網路\n",
        "CNN 的原理非常適合處理影像類的資料，就讓我們來看看，同樣的訓練條件，CNN 是否顯著優於 DNN 呢?"
      ]
    },
    {
      "metadata": {
        "id": "udhW_TuReB72",
        "colab_type": "code",
        "outputId": "40b8ceb2-08d3-43e4-99b7-42334a5bcf7c",
        "colab": {
          "base_uri": "https://localhost:8080/",
          "height": 70
        }
      },
      "cell_type": "code",
      "source": [
        "(x_train, y_train), (x_test, y_test) = cifar10.load_data()\n",
        "print('x_train shape:', x_train.shape)\n",
        "print(x_train.shape[0], 'train samples')\n",
        "print(x_test.shape[0], 'test samples')\n",
        "x_train = x_train.astype('float32')\n",
        "x_test = x_test.astype('float32')\n",
        "x_train /= 255\n",
        "x_test /= 255\n",
        "\n",
        "# Convert class vectors to binary class matrices.\n",
        "y_train = keras.utils.to_categorical(y_train, num_classes)\n",
        "y_test = keras.utils.to_categorical(y_test, num_classes)"
      ],
      "execution_count": 5,
      "outputs": [
        {
          "output_type": "stream",
          "text": [
            "x_train shape: (50000, 32, 32, 3)\n",
            "50000 train samples\n",
            "10000 test samples\n"
          ],
          "name": "stdout"
        }
      ]
    },
    {
      "metadata": {
        "id": "kQlQi0EKeB76",
        "colab_type": "code",
        "outputId": "96df8cd8-7d8e-44f1-ed31-e56ab3f7ce60",
        "colab": {
          "base_uri": "https://localhost:8080/",
          "height": 1198
        }
      },
      "cell_type": "code",
      "source": [
        "model = Sequential()\n",
        "model.add(Conv2D(32, (3, 3), padding='same',\n",
        "                 input_shape=x_train.shape[1:]))\n",
        "model.add(Activation('relu'))\n",
        "model.add(Conv2D(32, (3, 3)))\n",
        "model.add(Activation('relu'))\n",
        "model.add(MaxPooling2D(pool_size=(2, 2)))\n",
        "model.add(Dropout(0.25))\n",
        "\n",
        "model.add(Conv2D(64, (3, 3), padding='same'))\n",
        "model.add(Activation('relu'))\n",
        "model.add(Conv2D(64, (3, 3)))\n",
        "model.add(Activation('relu'))\n",
        "model.add(MaxPooling2D(pool_size=(2, 2)))\n",
        "model.add(Dropout(0.25))\n",
        "\n",
        "model.add(Flatten())\n",
        "model.add(Dense(512))\n",
        "model.add(Activation('relu'))\n",
        "model.add(Dropout(0.5))\n",
        "model.add(Dense(num_classes))\n",
        "model.add(Activation('softmax'))\n",
        "model.summary()\n",
        "\n",
        "model.compile(loss='categorical_crossentropy',\n",
        "              optimizer=RMSprop(),\n",
        "              metrics=['accuracy'])\n",
        "\n",
        "history = model.fit(x_train, y_train,\n",
        "                    batch_size=batch_size,\n",
        "                    epochs=epochs,\n",
        "                    verbose=1,\n",
        "                    validation_data=(x_test, y_test))\n",
        "score = model.evaluate(x_test, y_test, verbose=0)\n",
        "print('Test loss:', score[0])\n",
        "print('Test accuracy:', score[1])"
      ],
      "execution_count": 6,
      "outputs": [
        {
          "output_type": "stream",
          "text": [
            "_________________________________________________________________\n",
            "Layer (type)                 Output Shape              Param #   \n",
            "=================================================================\n",
            "conv2d_1 (Conv2D)            (None, 32, 32, 32)        896       \n",
            "_________________________________________________________________\n",
            "activation_1 (Activation)    (None, 32, 32, 32)        0         \n",
            "_________________________________________________________________\n",
            "conv2d_2 (Conv2D)            (None, 30, 30, 32)        9248      \n",
            "_________________________________________________________________\n",
            "activation_2 (Activation)    (None, 30, 30, 32)        0         \n",
            "_________________________________________________________________\n",
            "max_pooling2d_1 (MaxPooling2 (None, 15, 15, 32)        0         \n",
            "_________________________________________________________________\n",
            "dropout_3 (Dropout)          (None, 15, 15, 32)        0         \n",
            "_________________________________________________________________\n",
            "conv2d_3 (Conv2D)            (None, 15, 15, 64)        18496     \n",
            "_________________________________________________________________\n",
            "activation_3 (Activation)    (None, 15, 15, 64)        0         \n",
            "_________________________________________________________________\n",
            "conv2d_4 (Conv2D)            (None, 13, 13, 64)        36928     \n",
            "_________________________________________________________________\n",
            "activation_4 (Activation)    (None, 13, 13, 64)        0         \n",
            "_________________________________________________________________\n",
            "max_pooling2d_2 (MaxPooling2 (None, 6, 6, 64)          0         \n",
            "_________________________________________________________________\n",
            "dropout_4 (Dropout)          (None, 6, 6, 64)          0         \n",
            "_________________________________________________________________\n",
            "flatten_1 (Flatten)          (None, 2304)              0         \n",
            "_________________________________________________________________\n",
            "dense_4 (Dense)              (None, 512)               1180160   \n",
            "_________________________________________________________________\n",
            "activation_5 (Activation)    (None, 512)               0         \n",
            "_________________________________________________________________\n",
            "dropout_5 (Dropout)          (None, 512)               0         \n",
            "_________________________________________________________________\n",
            "dense_5 (Dense)              (None, 10)                5130      \n",
            "_________________________________________________________________\n",
            "activation_6 (Activation)    (None, 10)                0         \n",
            "=================================================================\n",
            "Total params: 1,250,858\n",
            "Trainable params: 1,250,858\n",
            "Non-trainable params: 0\n",
            "_________________________________________________________________\n",
            "Train on 50000 samples, validate on 10000 samples\n",
            "Epoch 1/10\n",
            "50000/50000 [==============================] - 15s 295us/step - loss: 1.7699 - acc: 0.3630 - val_loss: 1.5292 - val_acc: 0.4551\n",
            "Epoch 2/10\n",
            "50000/50000 [==============================] - 12s 238us/step - loss: 1.3259 - acc: 0.5277 - val_loss: 1.1277 - val_acc: 0.5934\n",
            "Epoch 3/10\n",
            "50000/50000 [==============================] - 12s 243us/step - loss: 1.1208 - acc: 0.6036 - val_loss: 1.0150 - val_acc: 0.6443\n",
            "Epoch 4/10\n",
            "50000/50000 [==============================] - 12s 241us/step - loss: 0.9876 - acc: 0.6549 - val_loss: 0.8539 - val_acc: 0.7019\n",
            "Epoch 5/10\n",
            "50000/50000 [==============================] - 12s 244us/step - loss: 0.8959 - acc: 0.6881 - val_loss: 0.8741 - val_acc: 0.6997\n",
            "Epoch 6/10\n",
            "50000/50000 [==============================] - 12s 242us/step - loss: 0.8236 - acc: 0.7137 - val_loss: 0.9566 - val_acc: 0.6818\n",
            "Epoch 7/10\n",
            "50000/50000 [==============================] - 12s 238us/step - loss: 0.7723 - acc: 0.7324 - val_loss: 0.8127 - val_acc: 0.7249\n",
            "Epoch 8/10\n",
            "50000/50000 [==============================] - 12s 246us/step - loss: 0.7274 - acc: 0.7468 - val_loss: 0.7077 - val_acc: 0.7583\n",
            "Epoch 9/10\n",
            "50000/50000 [==============================] - 12s 245us/step - loss: 0.6990 - acc: 0.7586 - val_loss: 0.7737 - val_acc: 0.7387\n",
            "Epoch 10/10\n",
            "50000/50000 [==============================] - 12s 243us/step - loss: 0.6720 - acc: 0.7691 - val_loss: 0.7171 - val_acc: 0.7620\n",
            "Test loss: 0.7170540821552277\n",
            "Test accuracy: 0.762\n"
          ],
          "name": "stdout"
        }
      ]
    },
    {
      "metadata": {
        "id": "XgZiaC_3eB79",
        "colab_type": "text"
      },
      "cell_type": "markdown",
      "source": [
        "## 同樣運算 10 個 epochs，但 CNN 在 test data 的準確率顯著優於 DNN!"
      ]
    },
    {
      "metadata": {
        "id": "cJV0LF_QeB7-",
        "colab_type": "text"
      },
      "cell_type": "markdown",
      "source": [
        "## 作業\n",
        "1. 請試著調整各個超參數，並說明那些超參數對於結果有明顯的影響?\n",
        "\n",
        "    1.卷積層的數量會影響準確度\n",
        "\n",
        "    2.輸入層padding 的方式會影響準確度\n",
        "\n",
        "    3.優化器的種類會影響準確度\n",
        "\n",
        "    4.Dropout  rate會影響準確度\n",
        "\n",
        "    5.倒數第二層的全聯接層的神經元數量會影響準確度\n",
        "\n",
        "2. CNN 與 DNN 哪個模型的參數數量比較多? 造成參數的數量不同的原因在哪?\n",
        "\n",
        "    DNN 的參數比較多。原因是 CNN 有池化層可以將資料維度減少"
      ]
    },
    {
      "metadata": {
        "id": "aLP9M59peB7_",
        "colab_type": "code",
        "outputId": "06311009-1446-41e6-8439-dfc03bbac51a",
        "colab": {
          "base_uri": "https://localhost:8080/",
          "height": 1198
        }
      },
      "cell_type": "code",
      "source": [
        "model = Sequential()\n",
        "model.add(Conv2D(32, (3, 3), padding='same',\n",
        "                 input_shape=x_train.shape[1:]))\n",
        "model.add(Activation('relu'))\n",
        "model.add(Conv2D(32, (3, 3)))\n",
        "model.add(Activation('relu'))\n",
        "model.add(MaxPooling2D(pool_size=(2, 2)))\n",
        "model.add(Dropout(0.25))\n",
        "\n",
        "model.add(Conv2D(64, (3, 3), padding='same'))\n",
        "model.add(Activation('relu'))\n",
        "model.add(Conv2D(64, (3, 3)))\n",
        "model.add(Activation('relu'))\n",
        "model.add(MaxPooling2D(pool_size=(2, 2)))\n",
        "model.add(Dropout(0.25))\n",
        "\n",
        "model.add(Flatten())\n",
        "model.add(Dense(1024))\n",
        "model.add(Activation('relu'))\n",
        "model.add(Dropout(0.5))\n",
        "model.add(Dense(num_classes))\n",
        "model.add(Activation('softmax'))\n",
        "model.summary()\n",
        "\n",
        "model.compile(loss='categorical_crossentropy',\n",
        "              optimizer=Adam(),\n",
        "              metrics=['accuracy'])\n",
        "\n",
        "history = model.fit(x_train, y_train,\n",
        "                    batch_size=batch_size,\n",
        "                    epochs=epochs,\n",
        "                    verbose=1,\n",
        "                    validation_data=(x_test, y_test))\n",
        "score = model.evaluate(x_test, y_test, verbose=0)\n",
        "print('Test loss:', score[0])\n",
        "print('Test accuracy:', score[1])"
      ],
      "execution_count": 11,
      "outputs": [
        {
          "output_type": "stream",
          "text": [
            "_________________________________________________________________\n",
            "Layer (type)                 Output Shape              Param #   \n",
            "=================================================================\n",
            "conv2d_21 (Conv2D)           (None, 32, 32, 32)        896       \n",
            "_________________________________________________________________\n",
            "activation_29 (Activation)   (None, 32, 32, 32)        0         \n",
            "_________________________________________________________________\n",
            "conv2d_22 (Conv2D)           (None, 30, 30, 32)        9248      \n",
            "_________________________________________________________________\n",
            "activation_30 (Activation)   (None, 30, 30, 32)        0         \n",
            "_________________________________________________________________\n",
            "max_pooling2d_11 (MaxPooling (None, 15, 15, 32)        0         \n",
            "_________________________________________________________________\n",
            "dropout_17 (Dropout)         (None, 15, 15, 32)        0         \n",
            "_________________________________________________________________\n",
            "conv2d_23 (Conv2D)           (None, 15, 15, 64)        18496     \n",
            "_________________________________________________________________\n",
            "activation_31 (Activation)   (None, 15, 15, 64)        0         \n",
            "_________________________________________________________________\n",
            "conv2d_24 (Conv2D)           (None, 13, 13, 64)        36928     \n",
            "_________________________________________________________________\n",
            "activation_32 (Activation)   (None, 13, 13, 64)        0         \n",
            "_________________________________________________________________\n",
            "max_pooling2d_12 (MaxPooling (None, 6, 6, 64)          0         \n",
            "_________________________________________________________________\n",
            "dropout_18 (Dropout)         (None, 6, 6, 64)          0         \n",
            "_________________________________________________________________\n",
            "flatten_6 (Flatten)          (None, 2304)              0         \n",
            "_________________________________________________________________\n",
            "dense_12 (Dense)             (None, 1024)              2360320   \n",
            "_________________________________________________________________\n",
            "activation_33 (Activation)   (None, 1024)              0         \n",
            "_________________________________________________________________\n",
            "dropout_19 (Dropout)         (None, 1024)              0         \n",
            "_________________________________________________________________\n",
            "dense_13 (Dense)             (None, 10)                10250     \n",
            "_________________________________________________________________\n",
            "activation_34 (Activation)   (None, 10)                0         \n",
            "=================================================================\n",
            "Total params: 2,436,138\n",
            "Trainable params: 2,436,138\n",
            "Non-trainable params: 0\n",
            "_________________________________________________________________\n",
            "Train on 50000 samples, validate on 10000 samples\n",
            "Epoch 1/10\n",
            "50000/50000 [==============================] - 14s 280us/step - loss: 1.5950 - acc: 0.4154 - val_loss: 1.2659 - val_acc: 0.5499\n",
            "Epoch 2/10\n",
            "50000/50000 [==============================] - 13s 257us/step - loss: 1.1492 - acc: 0.5925 - val_loss: 1.0023 - val_acc: 0.6505\n",
            "Epoch 3/10\n",
            "50000/50000 [==============================] - 13s 253us/step - loss: 0.9753 - acc: 0.6576 - val_loss: 0.8801 - val_acc: 0.6881\n",
            "Epoch 4/10\n",
            "50000/50000 [==============================] - 13s 254us/step - loss: 0.8729 - acc: 0.6927 - val_loss: 0.7804 - val_acc: 0.7301\n",
            "Epoch 5/10\n",
            "50000/50000 [==============================] - 13s 256us/step - loss: 0.7986 - acc: 0.7208 - val_loss: 0.7478 - val_acc: 0.7376\n",
            "Epoch 6/10\n",
            "50000/50000 [==============================] - 13s 260us/step - loss: 0.7242 - acc: 0.7447 - val_loss: 0.7020 - val_acc: 0.7602\n",
            "Epoch 7/10\n",
            "50000/50000 [==============================] - 13s 255us/step - loss: 0.6685 - acc: 0.7655 - val_loss: 0.7038 - val_acc: 0.7581\n",
            "Epoch 8/10\n",
            "50000/50000 [==============================] - 13s 257us/step - loss: 0.6286 - acc: 0.7771 - val_loss: 0.6583 - val_acc: 0.7722\n",
            "Epoch 9/10\n",
            "50000/50000 [==============================] - 13s 254us/step - loss: 0.5749 - acc: 0.7987 - val_loss: 0.6382 - val_acc: 0.7795\n",
            "Epoch 10/10\n",
            "50000/50000 [==============================] - 13s 251us/step - loss: 0.5360 - acc: 0.8106 - val_loss: 0.6450 - val_acc: 0.7803\n",
            "Test loss: 0.6449980700016021\n",
            "Test accuracy: 0.7803\n"
          ],
          "name": "stdout"
        }
      ]
    }
  ]
}