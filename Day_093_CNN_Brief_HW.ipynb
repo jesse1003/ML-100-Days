{
  "nbformat": 4,
  "nbformat_minor": 0,
  "metadata": {
    "colab": {
      "name": "D93-CNN_Brief_HW.ipynb",
      "version": "0.3.2",
      "provenance": [],
      "collapsed_sections": []
    },
    "kernelspec": {
      "name": "python3",
      "display_name": "Python 3"
    }
  },
  "cells": [
    {
      "metadata": {
        "id": "zexeQ7pdFyIe",
        "colab_type": "text"
      },
      "cell_type": "markdown",
      "source": [
        "# 目標:\n",
        "    運用 Keras 模組建構CNN, 了解 CNN 的架構\n",
        "    \n",
        "    "
      ]
    },
    {
      "metadata": {
        "id": "2H1ri7MqFyIf",
        "colab_type": "text"
      },
      "cell_type": "markdown",
      "source": [
        "# 範例重點\n",
        "    CNN 模型必要的: Convolution, Pooling, Flatten, Fully connection, Output, "
      ]
    },
    {
      "metadata": {
        "id": "IjuyRnWHFyIg",
        "colab_type": "text"
      },
      "cell_type": "markdown",
      "source": [
        "# 作業¶\n",
        "(1)嘗試比對 Dense 與 layers.Conv2D 架構NN 的差異\n",
        "\n",
        "(2) 有沒有Pooling layer, 對於參數量的差異\n",
        "\n",
        "注意: input_shape 請勿修改"
      ]
    },
    {
      "metadata": {
        "id": "HBkkn3f_FyIh",
        "colab_type": "code",
        "colab": {
          "base_uri": "https://localhost:8080/",
          "height": 54
        },
        "outputId": "21960a9e-d164-4aad-a0fb-a5399227c730"
      },
      "cell_type": "code",
      "source": [
        "#導入相關模組\n",
        "import keras\n",
        "from keras import layers\n",
        "from keras import models\n",
        "from keras.models import Sequential\n",
        "from keras.layers import Conv2D, Activation, MaxPooling2D, Flatten, Dense\n",
        "\n",
        "#確認keras 版本\n",
        "print(keras.__version__)"
      ],
      "execution_count": 1,
      "outputs": [
        {
          "output_type": "stream",
          "text": [
            "Using TensorFlow backend.\n"
          ],
          "name": "stderr"
        },
        {
          "output_type": "stream",
          "text": [
            "2.2.4\n"
          ],
          "name": "stdout"
        }
      ]
    },
    {
      "metadata": {
        "id": "o4nfq6dKFyIm",
        "colab_type": "code",
        "colab": {
          "base_uri": "https://localhost:8080/",
          "height": 363
        },
        "outputId": "81065049-126a-47aa-d4bd-ce7564ede5ba"
      },
      "cell_type": "code",
      "source": [
        "#建立一個序列模型\n",
        "model = models.Sequential()\n",
        "\n",
        "#建立兩個全連接層\n",
        "model.add(Dense(32, input_shape=(784,)))\n",
        "model.add(Activation('relu'))\n",
        "\n",
        "model.add(Dense(32, input_shape=(784,)))\n",
        "model.add(Activation('relu'))\n",
        "\n",
        "#建立一個輸出層, 並採用softmax          \n",
        "model.add(Dense(10))\n",
        "model.add(Activation('softmax'))\n",
        "          \n",
        "model.summary()          "
      ],
      "execution_count": 8,
      "outputs": [
        {
          "output_type": "stream",
          "text": [
            "_________________________________________________________________\n",
            "Layer (type)                 Output Shape              Param #   \n",
            "=================================================================\n",
            "dense_8 (Dense)              (None, 32)                25120     \n",
            "_________________________________________________________________\n",
            "activation_7 (Activation)    (None, 32)                0         \n",
            "_________________________________________________________________\n",
            "dense_9 (Dense)              (None, 32)                1056      \n",
            "_________________________________________________________________\n",
            "activation_8 (Activation)    (None, 32)                0         \n",
            "_________________________________________________________________\n",
            "dense_10 (Dense)             (None, 10)                330       \n",
            "_________________________________________________________________\n",
            "activation_9 (Activation)    (None, 10)                0         \n",
            "=================================================================\n",
            "Total params: 26,506\n",
            "Trainable params: 26,506\n",
            "Non-trainable params: 0\n",
            "_________________________________________________________________\n"
          ],
          "name": "stdout"
        }
      ]
    },
    {
      "metadata": {
        "id": "1OmXsN1bFyIp",
        "colab_type": "text"
      },
      "cell_type": "markdown",
      "source": [
        "# layers.Conv2D 模型, 用作比對\n",
        "\n",
        "![CNN_Model.png](attachment:CNN_Model.png)\n",
        "\n"
      ]
    },
    {
      "metadata": {
        "id": "LknuFTAdFyIq",
        "colab_type": "code",
        "colab": {
          "base_uri": "https://localhost:8080/",
          "height": 326
        },
        "outputId": "a486ed2e-bc99-48e6-bb4b-8e909b17953a"
      },
      "cell_type": "code",
      "source": [
        "#建立一個序列模型\n",
        "model = models.Sequential()\n",
        "\n",
        "#建立兩個卷積層, 32 個內核, 內核大小 3x3, \n",
        "#輸入影像大小 28x28x1\n",
        "model.add(layers.Conv2D(32, (3, 3), input_shape=(28, 28, 1)))\n",
        "\n",
        "\n",
        "#建立第二個卷積層,\n",
        "model.add(layers.Conv2D(25, (3, 3)))\n",
        "\n",
        "#新增平坦層\n",
        "model.add(Flatten())\n",
        "\n",
        "#建立一個輸出層, 並採用softmax\n",
        "model.add(Dense(units=10))\n",
        "model.add(Activation('softmax'))\n",
        "\n",
        "model.summary()"
      ],
      "execution_count": 9,
      "outputs": [
        {
          "output_type": "stream",
          "text": [
            "_________________________________________________________________\n",
            "Layer (type)                 Output Shape              Param #   \n",
            "=================================================================\n",
            "conv2d_1 (Conv2D)            (None, 26, 26, 32)        320       \n",
            "_________________________________________________________________\n",
            "conv2d_2 (Conv2D)            (None, 24, 24, 25)        7225      \n",
            "_________________________________________________________________\n",
            "flatten_1 (Flatten)          (None, 14400)             0         \n",
            "_________________________________________________________________\n",
            "dense_11 (Dense)             (None, 10)                144010    \n",
            "_________________________________________________________________\n",
            "activation_10 (Activation)   (None, 10)                0         \n",
            "=================================================================\n",
            "Total params: 151,555\n",
            "Trainable params: 151,555\n",
            "Non-trainable params: 0\n",
            "_________________________________________________________________\n"
          ],
          "name": "stdout"
        }
      ]
    },
    {
      "metadata": {
        "id": "5NQrUChIL_e7",
        "colab_type": "text"
      },
      "cell_type": "markdown",
      "source": [
        "## 加入池化層"
      ]
    },
    {
      "metadata": {
        "id": "rKKcDos-MMvb",
        "colab_type": "code",
        "colab": {
          "base_uri": "https://localhost:8080/",
          "height": 399
        },
        "outputId": "6bfa40a7-3a70-49b1-d708-2cf06f5006c2"
      },
      "cell_type": "code",
      "source": [
        "#建立一個序列模型\n",
        "model = models.Sequential()\n",
        "#建立兩個卷積層, 32 個內核, 內核大小 3x3, \n",
        "#輸入影像大小 28x28x1\n",
        "model.add(layers.Conv2D(32, (3, 3), input_shape=(28, 28, 1)))\n",
        "\n",
        "#新增一池化層, 採用maxpooling\n",
        "model.add(MaxPooling2D(2,2))\n",
        "\n",
        "#建立第二個卷積層, 池化層, \n",
        "#請注意, 不需要再輸入 input_shape\n",
        "model.add(layers.Conv2D(25, (3, 3)))\n",
        "model.add(MaxPooling2D(2,2))\n",
        "\n",
        "#新增平坦層\n",
        "model.add(Flatten())\n",
        "\n",
        "#建立一個輸出層, 並採用softmax\n",
        "model.add(Dense(units=10))\n",
        "model.add(Activation('softmax'))\n",
        "\n",
        "model.summary()"
      ],
      "execution_count": 10,
      "outputs": [
        {
          "output_type": "stream",
          "text": [
            "_________________________________________________________________\n",
            "Layer (type)                 Output Shape              Param #   \n",
            "=================================================================\n",
            "conv2d_3 (Conv2D)            (None, 26, 26, 32)        320       \n",
            "_________________________________________________________________\n",
            "max_pooling2d_1 (MaxPooling2 (None, 13, 13, 32)        0         \n",
            "_________________________________________________________________\n",
            "conv2d_4 (Conv2D)            (None, 11, 11, 25)        7225      \n",
            "_________________________________________________________________\n",
            "max_pooling2d_2 (MaxPooling2 (None, 5, 5, 25)          0         \n",
            "_________________________________________________________________\n",
            "flatten_2 (Flatten)          (None, 625)               0         \n",
            "_________________________________________________________________\n",
            "dense_12 (Dense)             (None, 10)                6260      \n",
            "_________________________________________________________________\n",
            "activation_11 (Activation)   (None, 10)                0         \n",
            "=================================================================\n",
            "Total params: 13,805\n",
            "Trainable params: 13,805\n",
            "Non-trainable params: 0\n",
            "_________________________________________________________________\n"
          ],
          "name": "stdout"
        }
      ]
    }
  ]
}