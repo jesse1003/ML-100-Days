{
  "nbformat": 4,
  "nbformat_minor": 0,
  "metadata": {
    "colab": {
      "name": "Day098_Python_generator.ipynb",
      "version": "0.3.2",
      "provenance": [],
      "collapsed_sections": []
    },
    "language_info": {
      "codemirror_mode": {
        "name": "ipython",
        "version": 3
      },
      "file_extension": ".py",
      "mimetype": "text/x-python",
      "name": "python",
      "nbconvert_exporter": "python",
      "pygments_lexer": "ipython3",
      "version": "3.6.2"
    },
    "kernelspec": {
      "name": "python3",
      "display_name": "Python 3"
    },
    "accelerator": "GPU"
  },
  "cells": [
    {
      "metadata": {
        "id": "FYHmLp5CcOcc",
        "colab_type": "text"
      },
      "cell_type": "markdown",
      "source": [
        "## Generator 可以使用 next 來進行循環中的一步\n",
        "文字上有點難解釋，直接來看範例就能了解什麼是 Generator!"
      ]
    },
    {
      "metadata": {
        "id": "hCyqEOL5cOcj",
        "colab_type": "text"
      },
      "cell_type": "markdown",
      "source": [
        "### 撰寫一個 Generator，一次吐出 list 中的一個值"
      ]
    },
    {
      "metadata": {
        "id": "-lreOJ39cOcl",
        "colab_type": "code",
        "colab": {}
      },
      "cell_type": "code",
      "source": [
        "def output_from_list_generator(your_list):\n",
        "    for i in your_list:\n",
        "        yield i "
      ],
      "execution_count": 0,
      "outputs": []
    },
    {
      "metadata": {
        "id": "qYN45z0BcOc0",
        "colab_type": "code",
        "colab": {}
      },
      "cell_type": "code",
      "source": [
        "my_list = [1, 2, 3, 4, 5]"
      ],
      "execution_count": 0,
      "outputs": []
    },
    {
      "metadata": {
        "id": "Sn6gvbdocOdE",
        "colab_type": "code",
        "colab": {}
      },
      "cell_type": "code",
      "source": [
        "gen = output_from_list_generator(my_list)"
      ],
      "execution_count": 0,
      "outputs": []
    },
    {
      "metadata": {
        "id": "3vHoyR9pcOdY",
        "colab_type": "code",
        "outputId": "9efb6dfa-df26-4ad9-c167-4ca254710cfb",
        "colab": {
          "base_uri": "https://localhost:8080/",
          "height": 34
        }
      },
      "cell_type": "code",
      "source": [
        "print(next(gen))"
      ],
      "execution_count": 22,
      "outputs": [
        {
          "output_type": "stream",
          "text": [
            "1\n"
          ],
          "name": "stdout"
        }
      ]
    },
    {
      "metadata": {
        "id": "mVxmK7k1cOdt",
        "colab_type": "code",
        "outputId": "519f49d5-314e-4abe-b7ae-019a5e46c3c8",
        "colab": {
          "base_uri": "https://localhost:8080/",
          "height": 34
        }
      },
      "cell_type": "code",
      "source": [
        "print(next(gen))"
      ],
      "execution_count": 23,
      "outputs": [
        {
          "output_type": "stream",
          "text": [
            "2\n"
          ],
          "name": "stdout"
        }
      ]
    },
    {
      "metadata": {
        "id": "GU7ckScCcOd8",
        "colab_type": "code",
        "outputId": "0d6443e4-38c8-4c42-a4b5-8a199b8ebd40",
        "colab": {
          "base_uri": "https://localhost:8080/",
          "height": 34
        }
      },
      "cell_type": "code",
      "source": [
        "print(next(gen))"
      ],
      "execution_count": 24,
      "outputs": [
        {
          "output_type": "stream",
          "text": [
            "3\n"
          ],
          "name": "stdout"
        }
      ]
    },
    {
      "metadata": {
        "id": "7aq1E6RycOeK",
        "colab_type": "code",
        "outputId": "2089c719-066c-410f-a9df-1986e07f5524",
        "colab": {
          "base_uri": "https://localhost:8080/",
          "height": 34
        }
      },
      "cell_type": "code",
      "source": [
        "print(next(gen))"
      ],
      "execution_count": 25,
      "outputs": [
        {
          "output_type": "stream",
          "text": [
            "4\n"
          ],
          "name": "stdout"
        }
      ]
    },
    {
      "metadata": {
        "id": "XR4k_JERcOec",
        "colab_type": "code",
        "outputId": "c2189a5d-dd53-4a97-e22c-f75d11f7df7b",
        "colab": {
          "base_uri": "https://localhost:8080/",
          "height": 34
        }
      },
      "cell_type": "code",
      "source": [
        "print(next(gen))"
      ],
      "execution_count": 26,
      "outputs": [
        {
          "output_type": "stream",
          "text": [
            "5\n"
          ],
          "name": "stdout"
        }
      ]
    },
    {
      "metadata": {
        "id": "c4J1gLsvcOew",
        "colab_type": "code",
        "outputId": "70c06511-8252-4fee-bfee-07ee1efc0463",
        "colab": {
          "base_uri": "https://localhost:8080/",
          "height": 167
        }
      },
      "cell_type": "code",
      "source": [
        "print(next(gen))"
      ],
      "execution_count": 27,
      "outputs": [
        {
          "output_type": "error",
          "ename": "StopIteration",
          "evalue": "ignored",
          "traceback": [
            "\u001b[0;31m---------------------------------------------------------------------------\u001b[0m",
            "\u001b[0;31mStopIteration\u001b[0m                             Traceback (most recent call last)",
            "\u001b[0;32m<ipython-input-27-be0d7584d73f>\u001b[0m in \u001b[0;36m<module>\u001b[0;34m()\u001b[0m\n\u001b[0;32m----> 1\u001b[0;31m \u001b[0mprint\u001b[0m\u001b[0;34m(\u001b[0m\u001b[0mnext\u001b[0m\u001b[0;34m(\u001b[0m\u001b[0mgen\u001b[0m\u001b[0;34m)\u001b[0m\u001b[0;34m)\u001b[0m\u001b[0;34m\u001b[0m\u001b[0;34m\u001b[0m\u001b[0m\n\u001b[0m",
            "\u001b[0;31mStopIteration\u001b[0m: "
          ]
        }
      ]
    },
    {
      "metadata": {
        "id": "9LUE1s7YcOfG",
        "colab_type": "text"
      },
      "cell_type": "markdown",
      "source": [
        "### 從上面的範例程式碼我們可以看到，當使用一次 next，generator 就會跑 for_loop 一次，因此得到 list 中的第一個值，當再使用一次後，for_loop 記得上次的循環，所以吐出第二個值。最後一次，因為 for loop 已經執行結束了，所以再使用 next 就會看到 StopIteration，無法在得到值"
      ]
    },
    {
      "metadata": {
        "id": "D21uJf5WcOfI",
        "colab_type": "text"
      },
      "cell_type": "markdown",
      "source": [
        "### 我們可以撰寫一個無限循環的 Generator，只要使用 While True 即可"
      ]
    },
    {
      "metadata": {
        "id": "i3PJ5bMCcOfs",
        "colab_type": "code",
        "colab": {}
      },
      "cell_type": "code",
      "source": [
        "gen = inf_loop_generator(my_list)"
      ],
      "execution_count": 0,
      "outputs": []
    },
    {
      "metadata": {
        "id": "tfWMVcEIcOfb",
        "colab_type": "code",
        "colab": {}
      },
      "cell_type": "code",
      "source": [
        "def inf_loop_generator(your_list):\n",
        "    while True:\n",
        "        for i in your_list:\n",
        "            yield i"
      ],
      "execution_count": 0,
      "outputs": []
    },
    {
      "metadata": {
        "id": "9v6lZ8a3cOga",
        "colab_type": "code",
        "colab": {}
      },
      "cell_type": "code",
      "source": [
        "print(next(gen))"
      ],
      "execution_count": 0,
      "outputs": []
    },
    {
      "metadata": {
        "id": "cTPHbZu2cOhG",
        "colab_type": "code",
        "colab": {}
      },
      "cell_type": "code",
      "source": [
        "print(next(gen))"
      ],
      "execution_count": 0,
      "outputs": []
    },
    {
      "metadata": {
        "id": "XO_3vZkCcOhR",
        "colab_type": "code",
        "colab": {}
      },
      "cell_type": "code",
      "source": [
        "print(next(gen))"
      ],
      "execution_count": 0,
      "outputs": []
    },
    {
      "metadata": {
        "id": "yqiQ8_YFcOhj",
        "colab_type": "code",
        "colab": {}
      },
      "cell_type": "code",
      "source": [
        "print(next(gen))"
      ],
      "execution_count": 0,
      "outputs": []
    },
    {
      "metadata": {
        "id": "bvZ4kaqucOhu",
        "colab_type": "code",
        "colab": {}
      },
      "cell_type": "code",
      "source": [
        "print(next(gen))"
      ],
      "execution_count": 0,
      "outputs": []
    },
    {
      "metadata": {
        "id": "fYUcXRvpcOh-",
        "colab_type": "code",
        "colab": {}
      },
      "cell_type": "code",
      "source": [
        "print(next(gen))"
      ],
      "execution_count": 0,
      "outputs": []
    },
    {
      "metadata": {
        "id": "xrVE7_-PcOiH",
        "colab_type": "code",
        "colab": {}
      },
      "cell_type": "code",
      "source": [
        "print(next(gen))"
      ],
      "execution_count": 0,
      "outputs": []
    },
    {
      "metadata": {
        "id": "_iwLRLCYcOiT",
        "colab_type": "text"
      },
      "cell_type": "markdown",
      "source": [
        "### 上面的程式碼因為我們使用了 While True，所以 for loop 不會結束，只要 call next 就一定會跑一次循環，並返回值"
      ]
    },
    {
      "metadata": {
        "id": "xc8f7nVPcOiV",
        "colab_type": "code",
        "colab": {}
      },
      "cell_type": "code",
      "source": [
        ""
      ],
      "execution_count": 0,
      "outputs": []
    },
    {
      "metadata": {
        "id": "aEitsHTScOid",
        "colab_type": "text"
      },
      "cell_type": "markdown",
      "source": [
        "## 雖然 Cifar-10 的資料可以全部讀進記憶體，但讓我們試著用 Generator，批次的把 Cifar 10 的資料取出來，一次取 32 張出來！"
      ]
    },
    {
      "metadata": {
        "id": "_JBxwGLwcOif",
        "colab_type": "code",
        "colab": {}
      },
      "cell_type": "code",
      "source": [
        "def img_combine(img, ncols=8, size=1, path=False):\n",
        "    from math import ceil\n",
        "    import matplotlib.pyplot as plt\n",
        "    import numpy as np\n",
        "    nimg = len(img)\n",
        "    nrows = int(ceil(nimg/ncols))\n",
        "    fig, axes = plt.subplots(nrows=nrows, ncols=ncols, sharex=True, sharey=True, figsize=(ncols*size,nrows*size))\n",
        "    if nrows == 0:\n",
        "        return\n",
        "    elif ncols == 1:\n",
        "        for r, ax in zip(np.arange(nrows), axes):\n",
        "            nth=r\n",
        "            if nth < nimg:\n",
        "                ax.imshow(img[nth], cmap='rainbow', vmin=0, vmax=1)\n",
        "                \n",
        "            ax.set_axis_off()\n",
        "    elif nrows == 1:\n",
        "        for c, ax in zip(np.arange(ncols), axes):\n",
        "            nth=c\n",
        "            if nth < nimg:\n",
        "                ax.imshow(img[nth], cmap='rainbow', vmin=0, vmax=1)\n",
        "            ax.set_axis_off()\n",
        "    else:\n",
        "        for r, row in zip(np.arange(nrows), axes):\n",
        "            for c, ax in zip(np.arange(ncols), row):\n",
        "                nth=r*ncols+c\n",
        "                if nth < nimg:\n",
        "                    ax.imshow(img[nth], cmap='rainbow', vmin=0, vmax=1)\n",
        "                ax.set_axis_off()\n",
        "    plt.show()"
      ],
      "execution_count": 0,
      "outputs": []
    },
    {
      "metadata": {
        "id": "vhqakejQcOil",
        "colab_type": "code",
        "colab": {}
      },
      "cell_type": "code",
      "source": [
        "from keras.datasets import cifar10"
      ],
      "execution_count": 0,
      "outputs": []
    },
    {
      "metadata": {
        "id": "TcYMxGAVcOiv",
        "colab_type": "code",
        "colab": {}
      },
      "cell_type": "code",
      "source": [
        "(x_train, x_test), (y_train, y_test) = cifar10.load_data()"
      ],
      "execution_count": 0,
      "outputs": []
    },
    {
      "metadata": {
        "id": "NmHyAZzvcOi8",
        "colab_type": "code",
        "colab": {}
      },
      "cell_type": "code",
      "source": [
        "def cifar_generator(image_array, batch_size=32):\n",
        "    while True:\n",
        "        for indexs in range(0, len(image_array), batch_size):\n",
        "            images = x_train[indexs: indexs+batch_size]\n",
        "            labels = x_test[indexs: indexs+batch_size]\n",
        "            yield images, labels"
      ],
      "execution_count": 0,
      "outputs": []
    },
    {
      "metadata": {
        "id": "RUZJrW4kcOjC",
        "colab_type": "code",
        "colab": {}
      },
      "cell_type": "code",
      "source": [
        "cifar_gen = cifar_generator(x_train)"
      ],
      "execution_count": 0,
      "outputs": []
    },
    {
      "metadata": {
        "id": "0PI82VjTcOjK",
        "colab_type": "code",
        "colab": {}
      },
      "cell_type": "code",
      "source": [
        "images, labels = next(cifar_gen)"
      ],
      "execution_count": 0,
      "outputs": []
    },
    {
      "metadata": {
        "id": "jWdTjCcjcOjX",
        "colab_type": "code",
        "colab": {}
      },
      "cell_type": "code",
      "source": [
        "img_combine(images)"
      ],
      "execution_count": 0,
      "outputs": []
    },
    {
      "metadata": {
        "id": "IQiZA9VncOwO",
        "colab_type": "code",
        "colab": {}
      },
      "cell_type": "code",
      "source": [
        "images, labels = next(cifar_gen)"
      ],
      "execution_count": 0,
      "outputs": []
    },
    {
      "metadata": {
        "id": "ZFNkA9DgcOwn",
        "colab_type": "code",
        "colab": {}
      },
      "cell_type": "code",
      "source": [
        "img_combine(images)"
      ],
      "execution_count": 0,
      "outputs": []
    },
    {
      "metadata": {
        "id": "r_xfV0fhcOx2",
        "colab_type": "text"
      },
      "cell_type": "markdown",
      "source": [
        "## 可以看到兩次的圖片並不一樣，這樣就可以開始訓練囉！"
      ]
    },
    {
      "metadata": {
        "id": "cgKq4ztmcOx6",
        "colab_type": "text"
      },
      "cell_type": "markdown",
      "source": [
        "## 作業"
      ]
    },
    {
      "metadata": {
        "id": "5CyADoRxcOyN",
        "colab_type": "text"
      },
      "cell_type": "markdown",
      "source": [
        "請參考昨天的程式碼，將訓練資料讀取方式改寫成 Generator，並將原本的 model.fit 改為 model.fit_generator 來進行訓練。請參考 Keras [官方文件中 fit_generator 的說明](https://keras.io/models/sequential/)"
      ]
    },
    {
      "metadata": {
        "id": "mfWpLJKvcOyP",
        "colab_type": "code",
        "colab": {
          "base_uri": "https://localhost:8080/",
          "height": 34
        },
        "outputId": "cbcbb520-61cc-4064-da91-3935e0b142ae"
      },
      "cell_type": "code",
      "source": [
        "import keras\n",
        "from keras.datasets import cifar10\n",
        "from keras.preprocessing.image import ImageDataGenerator\n",
        "from keras.models import Sequential\n",
        "from keras.layers import Dense, Dropout, Activation, Flatten\n",
        "from keras.layers import Conv2D, MaxPooling2D\n",
        "from keras.optimizers import RMSprop, Adam"
      ],
      "execution_count": 28,
      "outputs": [
        {
          "output_type": "stream",
          "text": [
            "Using TensorFlow backend.\n"
          ],
          "name": "stderr"
        }
      ]
    },
    {
      "metadata": {
        "id": "ERUPAGxNstc4",
        "colab_type": "code",
        "colab": {
          "base_uri": "https://localhost:8080/",
          "height": 105
        },
        "outputId": "79ff3573-2352-4abe-8eb8-17b1aaa5cd76"
      },
      "cell_type": "code",
      "source": [
        "batch_size = 128 \n",
        "num_classes = 10 # 類別的數量，Cifar 10 共有 10 個類別\n",
        "epochs = 10 # 訓練的 epochs 數量\n",
        "\n",
        "# 讀取資料並檢視\n",
        "\n",
        "(x_train, y_train), (x_test, y_test) = cifar10.load_data()\n",
        "print('x_train shape:', x_train.shape)\n",
        "print(x_train.shape[0], 'train samples')\n",
        "print(x_test.shape[0], 'test samples')\n",
        "x_train = x_train.astype('float32')\n",
        "x_test = x_test.astype('float32')\n",
        "x_train /= 255\n",
        "x_test /= 255\n",
        "\n",
        "# Convert class vectors to binary class matrices.\n",
        "y_train = keras.utils.to_categorical(y_train, num_classes)\n",
        "y_test = keras.utils.to_categorical(y_test, num_classes)"
      ],
      "execution_count": 29,
      "outputs": [
        {
          "output_type": "stream",
          "text": [
            "Downloading data from https://www.cs.toronto.edu/~kriz/cifar-10-python.tar.gz\n",
            "170500096/170498071 [==============================] - 24s 0us/step\n",
            "x_train shape: (50000, 32, 32, 3)\n",
            "50000 train samples\n",
            "10000 test samples\n"
          ],
          "name": "stdout"
        }
      ]
    },
    {
      "metadata": {
        "id": "PfgBWNvlsw5W",
        "colab_type": "code",
        "colab": {}
      },
      "cell_type": "code",
      "source": [
        "#定義 批次讀取訓練資料函式\n",
        "#因為訓練模型需要 批次的x_train, y_train 資料，所以函式輸入參數，需要傳入整個 x_train, y_train 資料\n",
        "def cifar_generator(image_array,label_array, batch_size=32):\n",
        "    while True:\n",
        "        for indexs in range(0, len(image_array), batch_size):\n",
        "            images = image_array[indexs: indexs+batch_size]\n",
        "            labels = label_array[indexs: indexs+batch_size]\n",
        "            yield images, labels"
      ],
      "execution_count": 0,
      "outputs": []
    },
    {
      "metadata": {
        "id": "xVBU_XiWtSoZ",
        "colab_type": "code",
        "colab": {
          "base_uri": "https://localhost:8080/",
          "height": 899
        },
        "outputId": "e55fd4f4-aa50-4d41-9a04-6a4804ab6c9e"
      },
      "cell_type": "code",
      "source": [
        "#建立 CNN 神經網路模型\n",
        "model = Sequential()\n",
        "model.add(Conv2D(32, (3, 3), padding='same',\n",
        "                 input_shape=x_train.shape[1:]))\n",
        "model.add(Activation('relu'))\n",
        "model.add(Conv2D(32, (3, 3)))\n",
        "model.add(Activation('relu'))\n",
        "model.add(MaxPooling2D(pool_size=(2, 2)))\n",
        "model.add(Dropout(0.25))\n",
        "\n",
        "model.add(Conv2D(64, (3, 3), padding='same'))\n",
        "model.add(Activation('relu'))\n",
        "model.add(Conv2D(64, (3, 3)))\n",
        "model.add(Activation('relu'))\n",
        "model.add(MaxPooling2D(pool_size=(2, 2)))\n",
        "model.add(Dropout(0.25))\n",
        "\n",
        "model.add(Flatten())\n",
        "model.add(Dense(512))\n",
        "model.add(Activation('relu'))\n",
        "model.add(Dropout(0.5))\n",
        "model.add(Dense(num_classes))\n",
        "model.add(Activation('softmax'))\n",
        "model.summary()\n"
      ],
      "execution_count": 31,
      "outputs": [
        {
          "output_type": "stream",
          "text": [
            "WARNING:tensorflow:From /usr/local/lib/python3.6/dist-packages/tensorflow/python/framework/op_def_library.py:263: colocate_with (from tensorflow.python.framework.ops) is deprecated and will be removed in a future version.\n",
            "Instructions for updating:\n",
            "Colocations handled automatically by placer.\n",
            "WARNING:tensorflow:From /usr/local/lib/python3.6/dist-packages/keras/backend/tensorflow_backend.py:3445: calling dropout (from tensorflow.python.ops.nn_ops) with keep_prob is deprecated and will be removed in a future version.\n",
            "Instructions for updating:\n",
            "Please use `rate` instead of `keep_prob`. Rate should be set to `rate = 1 - keep_prob`.\n",
            "_________________________________________________________________\n",
            "Layer (type)                 Output Shape              Param #   \n",
            "=================================================================\n",
            "conv2d_1 (Conv2D)            (None, 32, 32, 32)        896       \n",
            "_________________________________________________________________\n",
            "activation_1 (Activation)    (None, 32, 32, 32)        0         \n",
            "_________________________________________________________________\n",
            "conv2d_2 (Conv2D)            (None, 30, 30, 32)        9248      \n",
            "_________________________________________________________________\n",
            "activation_2 (Activation)    (None, 30, 30, 32)        0         \n",
            "_________________________________________________________________\n",
            "max_pooling2d_1 (MaxPooling2 (None, 15, 15, 32)        0         \n",
            "_________________________________________________________________\n",
            "dropout_1 (Dropout)          (None, 15, 15, 32)        0         \n",
            "_________________________________________________________________\n",
            "conv2d_3 (Conv2D)            (None, 15, 15, 64)        18496     \n",
            "_________________________________________________________________\n",
            "activation_3 (Activation)    (None, 15, 15, 64)        0         \n",
            "_________________________________________________________________\n",
            "conv2d_4 (Conv2D)            (None, 13, 13, 64)        36928     \n",
            "_________________________________________________________________\n",
            "activation_4 (Activation)    (None, 13, 13, 64)        0         \n",
            "_________________________________________________________________\n",
            "max_pooling2d_2 (MaxPooling2 (None, 6, 6, 64)          0         \n",
            "_________________________________________________________________\n",
            "dropout_2 (Dropout)          (None, 6, 6, 64)          0         \n",
            "_________________________________________________________________\n",
            "flatten_1 (Flatten)          (None, 2304)              0         \n",
            "_________________________________________________________________\n",
            "dense_1 (Dense)              (None, 512)               1180160   \n",
            "_________________________________________________________________\n",
            "activation_5 (Activation)    (None, 512)               0         \n",
            "_________________________________________________________________\n",
            "dropout_3 (Dropout)          (None, 512)               0         \n",
            "_________________________________________________________________\n",
            "dense_2 (Dense)              (None, 10)                5130      \n",
            "_________________________________________________________________\n",
            "activation_6 (Activation)    (None, 10)                0         \n",
            "=================================================================\n",
            "Total params: 1,250,858\n",
            "Trainable params: 1,250,858\n",
            "Non-trainable params: 0\n",
            "_________________________________________________________________\n"
          ],
          "name": "stdout"
        }
      ]
    },
    {
      "metadata": {
        "id": "-AxaqZ6S3IxH",
        "colab_type": "code",
        "colab": {
          "base_uri": "https://localhost:8080/",
          "height": 494
        },
        "outputId": "b8312929-ca33-475c-af62-2a51a0c58cad"
      },
      "cell_type": "code",
      "source": [
        "\n",
        "model.compile(loss='categorical_crossentropy',\n",
        "              optimizer=Adam(),\n",
        "              metrics=['accuracy'])\n",
        "\n",
        "#不分批資料訓練模型\n",
        "history = model.fit(x_train, y_train,\n",
        "                    batch_size=batch_size,\n",
        "                    epochs=epochs,\n",
        "                    verbose=1,\n",
        "                    validation_data=(x_test, y_test))\n",
        "score = model.evaluate(x_test, y_test, verbose=0)\n",
        "print('Test loss:', score[0])\n",
        "print('Test accuracy:', score[1])"
      ],
      "execution_count": 32,
      "outputs": [
        {
          "output_type": "stream",
          "text": [
            "WARNING:tensorflow:From /usr/local/lib/python3.6/dist-packages/tensorflow/python/ops/math_ops.py:3066: to_int32 (from tensorflow.python.ops.math_ops) is deprecated and will be removed in a future version.\n",
            "Instructions for updating:\n",
            "Use tf.cast instead.\n",
            "Train on 50000 samples, validate on 10000 samples\n",
            "Epoch 1/10\n",
            "50000/50000 [==============================] - 17s 338us/step - loss: 1.6338 - acc: 0.4031 - val_loss: 1.2562 - val_acc: 0.5429\n",
            "Epoch 2/10\n",
            "50000/50000 [==============================] - 12s 235us/step - loss: 1.2061 - acc: 0.5710 - val_loss: 1.0069 - val_acc: 0.6427\n",
            "Epoch 3/10\n",
            "50000/50000 [==============================] - 12s 234us/step - loss: 1.0341 - acc: 0.6344 - val_loss: 0.9202 - val_acc: 0.6778\n",
            "Epoch 4/10\n",
            "50000/50000 [==============================] - 12s 234us/step - loss: 0.9133 - acc: 0.6794 - val_loss: 0.8187 - val_acc: 0.7135\n",
            "Epoch 5/10\n",
            "50000/50000 [==============================] - 12s 234us/step - loss: 0.8283 - acc: 0.7102 - val_loss: 0.7497 - val_acc: 0.7391\n",
            "Epoch 6/10\n",
            "50000/50000 [==============================] - 12s 237us/step - loss: 0.7648 - acc: 0.7310 - val_loss: 0.7146 - val_acc: 0.7503\n",
            "Epoch 7/10\n",
            "50000/50000 [==============================] - 12s 235us/step - loss: 0.7163 - acc: 0.7491 - val_loss: 0.6931 - val_acc: 0.7599\n",
            "Epoch 8/10\n",
            "50000/50000 [==============================] - 12s 234us/step - loss: 0.6810 - acc: 0.7594 - val_loss: 0.6940 - val_acc: 0.7627\n",
            "Epoch 9/10\n",
            "50000/50000 [==============================] - 12s 236us/step - loss: 0.6385 - acc: 0.7765 - val_loss: 0.6415 - val_acc: 0.7778\n",
            "Epoch 10/10\n",
            "50000/50000 [==============================] - 12s 235us/step - loss: 0.6123 - acc: 0.7842 - val_loss: 0.6443 - val_acc: 0.7796\n",
            "Test loss: 0.6442961510658264\n",
            "Test accuracy: 0.7796\n"
          ],
          "name": "stdout"
        }
      ]
    },
    {
      "metadata": {
        "id": "7GF6RYCG48Mj",
        "colab_type": "code",
        "colab": {
          "base_uri": "https://localhost:8080/",
          "height": 404
        },
        "outputId": "b2551731-f6ce-43b0-fa48-5ffc202cfa3f"
      },
      "cell_type": "code",
      "source": [
        "#使用分批資料訓練麼型 \n",
        "img_gen = cifar_generator(x_train,y_train)\n",
        "model.fit_generator(img_gen,\n",
        "                    steps_per_epoch=int(len(x_train) /32), \n",
        "                    epochs=epochs,\n",
        "                    verbose=1)\n",
        "    \n",
        "score = model.evaluate(x_test, y_test, verbose=0)\n",
        "print('Test loss:', score[0])\n",
        "print('Test accuracy:', score[1])  "
      ],
      "execution_count": 33,
      "outputs": [
        {
          "output_type": "stream",
          "text": [
            "Epoch 1/10\n",
            "1562/1562 [==============================] - 20s 13ms/step - loss: 0.7572 - acc: 0.7325\n",
            "Epoch 2/10\n",
            "1562/1562 [==============================] - 20s 13ms/step - loss: 0.6691 - acc: 0.7663\n",
            "Epoch 3/10\n",
            "1562/1562 [==============================] - 20s 13ms/step - loss: 0.6426 - acc: 0.7731\n",
            "Epoch 4/10\n",
            "1562/1562 [==============================] - 20s 13ms/step - loss: 0.6101 - acc: 0.7842\n",
            "Epoch 5/10\n",
            "1562/1562 [==============================] - 20s 13ms/step - loss: 0.5899 - acc: 0.7921\n",
            "Epoch 6/10\n",
            "1562/1562 [==============================] - 20s 13ms/step - loss: 0.5656 - acc: 0.8023\n",
            "Epoch 7/10\n",
            "1562/1562 [==============================] - 20s 13ms/step - loss: 0.5539 - acc: 0.8046\n",
            "Epoch 8/10\n",
            "1562/1562 [==============================] - 20s 13ms/step - loss: 0.5352 - acc: 0.8111\n",
            "Epoch 9/10\n",
            "1562/1562 [==============================] - 20s 13ms/step - loss: 0.5189 - acc: 0.8176\n",
            "Epoch 10/10\n",
            "1562/1562 [==============================] - 20s 13ms/step - loss: 0.5116 - acc: 0.8213\n",
            "Test loss: 0.6617286973953247\n",
            "Test accuracy: 0.7815\n"
          ],
          "name": "stdout"
        }
      ]
    }
  ]
}