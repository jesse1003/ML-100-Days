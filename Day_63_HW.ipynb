{
 "cells": [
  {
   "cell_type": "code",
   "execution_count": 1,
   "metadata": {},
   "outputs": [],
   "source": [
    "import numpy as np\n",
    "\n",
    "#Input array\n",
    "X = np.array([[1, 0, 1, 0], [1 ,0 ,1 ,1 ],[ 0 , 1 , 0 , 1 ]])\n",
    "\n",
    "#Output\n",
    "y = np.array([[1], [1], [0]])"
   ]
  },
  {
   "cell_type": "code",
   "execution_count": 2,
   "metadata": {},
   "outputs": [],
   "source": [
    "#Sigmoid Function\n",
    "def sigmoid(x): \n",
    "    return  1/(1+np.exp(-x))\n",
    "\n",
    "#Derivative of Sigmoid Function\n",
    "def derivatives_sigmoid(x): \n",
    "    return x*(1-x)"
   ]
  },
  {
   "cell_type": "code",
   "execution_count": 3,
   "metadata": {},
   "outputs": [],
   "source": [
    "#Variable initialization\n",
    "epoch = 5000 #Setting training iterations\n",
    "lr = 0.1 #Setting learning rate\n",
    "inputlayer_neurons = X.shape[1] #number of features in data set \n",
    "hiddenlayer_neurons = 3 #number of hidden layers neurons\n",
    "output_neurons = 1 #number of neurons at output layer"
   ]
  },
  {
   "cell_type": "code",
   "execution_count": 4,
   "metadata": {},
   "outputs": [],
   "source": [
    "#weight and bias initialization\n",
    "wh = np.random.uniform( size = ( inputlayer_neurons , hiddenlayer_neurons ) ) \n",
    "bh = np.random.uniform( size = ( 1 , hiddenlayer_neurons ) ) \n",
    "wout = np.random.uniform( size = ( hiddenlayer_neurons , output_neurons ) ) \n",
    "bout = np.random.uniform( size = ( 1 , output_neurons ) )"
   ]
  },
  {
   "cell_type": "code",
   "execution_count": 5,
   "metadata": {},
   "outputs": [
    {
     "name": "stdout",
     "output_type": "stream",
     "text": [
      "X.shape[1]= 4\n",
      "wh = \n",
      " [[0.47546471 0.73993944 0.18013886]\n",
      " [0.31287196 0.26961258 0.32856566]\n",
      " [0.48472493 0.97650586 0.20616255]\n",
      " [0.90364807 0.89844097 0.89388715]]\n",
      "\n",
      "bh = \n",
      " [[0.36371443 0.58292481 0.09438722]]\n",
      "\n",
      "wout = \n",
      " [[0.81814447]\n",
      " [0.40162515]\n",
      " [0.22377611]]\n",
      "\n",
      "bout = \n",
      " [[0.04451827]]\n",
      "\n"
     ]
    }
   ],
   "source": [
    "print(f'X.shape[1]= {X.shape[1]}')\n",
    "print(f'wh = \\n {wh}\\n')\n",
    "print(f'bh = \\n {bh}\\n')\n",
    "print(f'wout = \\n {wout}\\n')\n",
    "print(f'bout = \\n {bout}\\n')"
   ]
  },
  {
   "cell_type": "markdown",
   "metadata": {
    "collapsed": true
   },
   "source": [
    "# 作業 \n",
    "* 請參閱範例中的 hidden Layer 寫法, 完成 output Layer 的程式"
   ]
  },
  {
   "cell_type": "code",
   "execution_count": 6,
   "metadata": {},
   "outputs": [],
   "source": [
    "for i in  range ( epoch ) :\n",
    "    #Forward Propogation\n",
    "    hidden_layer_input1 = np.dot(X, wh) \n",
    "    hidden_layer_input = hidden_layer_input1 + bh\n",
    "    hiddenlayer_activations =  sigmoid( hidden_layer_input ) \n",
    "   "
   ]
  },
  {
   "cell_type": "code",
   "execution_count": 7,
   "metadata": {},
   "outputs": [
    {
     "name": "stdout",
     "output_type": "stream",
     "text": [
      "hidden_layer_input = \n",
      " [[1.32390407 2.29937011 0.48068863]\n",
      " [2.22755213 3.19781109 1.37457578]\n",
      " [1.58023446 1.75097836 1.31684003]]\n",
      "\n",
      "hiddenlayer_activations = \n",
      " [[0.78983051 0.90882486 0.61791047]\n",
      " [0.90269656 0.96075182 0.79811843]\n",
      " [0.82923772 0.85207616 0.78865549]]\n",
      "\n"
     ]
    }
   ],
   "source": [
    "print(f'hidden_layer_input = \\n {hidden_layer_input}\\n')\n",
    "print(f'hiddenlayer_activations = \\n {hiddenlayer_activations}\\n')\n"
   ]
  },
  {
   "cell_type": "code",
   "execution_count": 8,
   "metadata": {},
   "outputs": [],
   "source": [
    "for i in  range ( epoch ) :\n",
    "    #Forward Propogation\n",
    "    output_layer_input1 = np.dot( hiddenlayer_activations, wout) \n",
    "    output_layer_input = output_layer_input1 + bout\n",
    "    output =  derivatives_sigmoid(output_layer_input) \n",
    "   "
   ]
  },
  {
   "cell_type": "code",
   "execution_count": 10,
   "metadata": {},
   "outputs": [
    {
     "name": "stdout",
     "output_type": "stream",
     "text": [
      "output_layer_input = \n",
      " [[1.19399426]\n",
      " [1.3475164 ]\n",
      " [1.241652  ]]\n",
      "\n",
      "output = \n",
      " [[-0.23162803]\n",
      " [-0.46828405]\n",
      " [-0.30004769]]\n",
      "\n"
     ]
    }
   ],
   "source": [
    "print(f'output_layer_input = \\n {output_layer_input}\\n')\n",
    "print(f'output = \\n {output}\\n')\n"
   ]
  },
  {
   "cell_type": "code",
   "execution_count": 12,
   "metadata": {},
   "outputs": [
    {
     "name": "stdout",
     "output_type": "stream",
     "text": [
      "output of Forward Propogation:\n",
      "[[-0.23162803]\n",
      " [-0.46828405]\n",
      " [-0.30004769]] \n",
      "\n",
      "wout of Backpropagation:\n",
      "[[0.81814447]\n",
      " [0.40162515]\n",
      " [0.22377611]]\n",
      "\n",
      "bout of Backpropagation:\n",
      "[[0.04451827]]\n",
      "\n"
     ]
    }
   ],
   "source": [
    "print ( f\"output of Forward Propogation:\\n{output} \\n\") \n",
    "print ( f\"wout of Backpropagation:\\n{wout}\\n\")\n",
    "print ( f\"bout of Backpropagation:\\n{bout}\\n\")"
   ]
  },
  {
   "cell_type": "code",
   "execution_count": null,
   "metadata": {},
   "outputs": [],
   "source": []
  }
 ],
 "metadata": {
  "kernelspec": {
   "display_name": "Python 3",
   "language": "python",
   "name": "python3"
  },
  "language_info": {
   "codemirror_mode": {
    "name": "ipython",
    "version": 3
   },
   "file_extension": ".py",
   "mimetype": "text/x-python",
   "name": "python",
   "nbconvert_exporter": "python",
   "pygments_lexer": "ipython3",
   "version": "3.7.2"
  }
 },
 "nbformat": 4,
 "nbformat_minor": 2
}
