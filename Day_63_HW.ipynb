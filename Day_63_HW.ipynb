{
 "cells": [
  {
   "cell_type": "code",
   "execution_count": 1,
   "metadata": {},
   "outputs": [],
   "source": [
    "import numpy as np\n",
    "\n",
    "#Input array\n",
    "X = np.array([[1, 0, 1, 0], [1 ,0 ,1 ,1 ],[ 0 , 1 , 0 , 1 ]])\n",
    "\n",
    "#Output\n",
    "y = np.array([[1], [1], [0]])"
   ]
  },
  {
   "cell_type": "code",
   "execution_count": 2,
   "metadata": {},
   "outputs": [],
   "source": [
    "#Sigmoid Function\n",
    "def sigmoid(x): \n",
    "    return  1/(1+np.exp(-x))\n",
    "\n",
    "#Derivative of Sigmoid Function\n",
    "def derivatives_sigmoid(x): \n",
    "    return x*(1-x)"
   ]
  },
  {
   "cell_type": "code",
   "execution_count": 3,
   "metadata": {},
   "outputs": [],
   "source": [
    "#Variable initialization\n",
    "epoch = 5000 #Setting training iterations\n",
    "lr = 0.1 #Setting learning rate\n",
    "inputlayer_neurons = X.shape[1] #number of features in data set \n",
    "hiddenlayer_neurons = 3 #number of hidden layers neurons\n",
    "output_neurons = 1 #number of neurons at output layer"
   ]
  },
  {
   "cell_type": "code",
   "execution_count": 4,
   "metadata": {},
   "outputs": [],
   "source": [
    "#weight and bias initialization\n",
    "wh = np.random.uniform( size = ( inputlayer_neurons , hiddenlayer_neurons ) ) \n",
    "bh = np.random.uniform( size = ( 1 , hiddenlayer_neurons ) ) \n",
    "wout = np.random.uniform( size = ( hiddenlayer_neurons , output_neurons ) ) \n",
    "bout = np.random.uniform( size = ( 1 , output_neurons ) )"
   ]
  },
  {
   "cell_type": "code",
   "execution_count": 6,
   "metadata": {},
   "outputs": [
    {
     "name": "stdout",
     "output_type": "stream",
     "text": [
      "X.shape[1]= 4\n",
      "wh = \n",
      " [[0.87631888 0.28713645 0.3067132 ]\n",
      " [0.17607711 0.70084905 0.78030301]\n",
      " [0.18238334 0.48764805 0.44490742]\n",
      " [0.02640247 0.06893001 0.56110297]]\n",
      "\n",
      "bh = \n",
      " [[0.63475579 0.86519446 0.59169102]]\n",
      "\n",
      "wout = \n",
      " [[0.70048181]\n",
      " [0.67183918]\n",
      " [0.20066888]]\n",
      "\n",
      "bout = \n",
      " [[0.26041398]]\n",
      "\n"
     ]
    }
   ],
   "source": [
    "print(f'X.shape[1]= {X.shape[1]}')\n",
    "print(f'wh = \\n {wh}\\n')\n",
    "print(f'bh = \\n {bh}\\n')\n",
    "print(f'wout = \\n {wout}\\n')\n",
    "print(f'bout = \\n {bout}\\n')"
   ]
  },
  {
   "cell_type": "markdown",
   "metadata": {
    "collapsed": true
   },
   "source": [
    "# 作業 \n",
    "* 請參閱範例中的 hidden Layer 寫法, 完成 output Layer 的程式"
   ]
  },
  {
   "cell_type": "code",
   "execution_count": 7,
   "metadata": {},
   "outputs": [],
   "source": [
    "for i in  range ( epoch ) :\n",
    "    #Forward Propogation\n",
    "    hidden_layer_input1 = np.dot(X, wh) \n",
    "    hidden_layer_input = hidden_layer_input1 + bh\n",
    "    hiddenlayer_activations =  sigmoid( hidden_layer_input ) \n",
    "   "
   ]
  },
  {
   "cell_type": "code",
   "execution_count": 8,
   "metadata": {},
   "outputs": [
    {
     "name": "stdout",
     "output_type": "stream",
     "text": [
      "hidden_layer_input = \n",
      " [[1.69345801 1.63997896 1.34331164]\n",
      " [1.71986048 1.70890898 1.90441461]\n",
      " [0.83723537 1.63497353 1.93309699]]\n",
      "\n",
      "hiddenlayer_activations = \n",
      " [[0.84467838 0.83753207 0.79303401]\n",
      " [0.84811086 0.84669472 0.87039036]\n",
      " [0.69788263 0.83684982 0.87359181]]\n",
      "\n"
     ]
    }
   ],
   "source": [
    "print(f'hidden_layer_input = \\n {hidden_layer_input}\\n')\n",
    "print(f'hiddenlayer_activations = \\n {hiddenlayer_activations}\\n')\n"
   ]
  },
  {
   "cell_type": "code",
   "execution_count": 9,
   "metadata": {},
   "outputs": [],
   "source": [
    "for i in  range ( epoch ) :\n",
    "    #Forward Propogation\n",
    "    output_layer_input1 = np.dot( hidden_layer_input, wout) \n",
    "    output_layer_input = output_layer_input1 + bout\n",
    "    output =  derivatives_sigmoid(output_layer_input) \n",
    "   "
   ]
  },
  {
   "cell_type": "code",
   "execution_count": 10,
   "metadata": {},
   "outputs": [
    {
     "name": "stdout",
     "output_type": "stream",
     "text": [
      "output_layer_input = \n",
      " [[1.69345801 1.63997896 1.34331164]\n",
      " [1.71986048 1.70890898 1.90441461]\n",
      " [0.83723537 1.63497353 1.93309699]]\n",
      "\n",
      "output = \n",
      " [[0.84467838 0.83753207 0.79303401]\n",
      " [0.84811086 0.84669472 0.87039036]\n",
      " [0.69788263 0.83684982 0.87359181]]\n",
      "\n"
     ]
    }
   ],
   "source": [
    "print(f'output_layer_input = \\n {hidden_layer_input}\\n')\n",
    "print(f'output = \\n {hiddenlayer_activations}\\n')\n"
   ]
  },
  {
   "cell_type": "code",
   "execution_count": 7,
   "metadata": {},
   "outputs": [
    {
     "name": "stdout",
     "output_type": "stream",
     "text": [
      "output of Forward Propogation:\n",
      "[[-10.68002739]\n",
      " [-21.22951088]\n",
      " [ -4.85374782]] \n",
      "\n",
      "wout of Backpropagation:\n",
      "[[0.58796202]\n",
      " [0.70861283]\n",
      " [0.92437601]]\n",
      "\n",
      "bout of Backpropagation:\n",
      "[[0.59171531]]\n",
      "\n"
     ]
    }
   ],
   "source": [
    "print ( f\"output of Forward Propogation:\\n{output} \\n\") \n",
    "print ( f\"wout of Backpropagation:\\n{wout}\\n\")\n",
    "print ( f\"bout of Backpropagation:\\n{bout}\\n\")"
   ]
  },
  {
   "cell_type": "code",
   "execution_count": null,
   "metadata": {},
   "outputs": [],
   "source": []
  }
 ],
 "metadata": {
  "kernelspec": {
   "display_name": "Python 3",
   "language": "python",
   "name": "python3"
  },
  "language_info": {
   "codemirror_mode": {
    "name": "ipython",
    "version": 3
   },
   "file_extension": ".py",
   "mimetype": "text/x-python",
   "name": "python",
   "nbconvert_exporter": "python",
   "pygments_lexer": "ipython3",
   "version": "3.7.2"
  }
 },
 "nbformat": 4,
 "nbformat_minor": 2
}
