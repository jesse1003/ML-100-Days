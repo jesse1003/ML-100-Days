{
  "nbformat": 4,
  "nbformat_minor": 0,
  "metadata": {
    "colab": {
      "name": "kaggle test 2.ipynb",
      "version": "0.3.2",
      "provenance": [],
      "collapsed_sections": []
    },
    "kernelspec": {
      "name": "python3",
      "display_name": "Python 3"
    },
    "accelerator": "GPU"
  },
  "cells": [
    {
      "metadata": {
        "id": "Mol5uPrvNiFb",
        "colab_type": "text"
      },
      "cell_type": "markdown",
      "source": [
        "##連結 Google Deive，以讀取目錄中的圖片資料"
      ]
    },
    {
      "metadata": {
        "id": "4V1GwAUeUXJl",
        "colab_type": "code",
        "outputId": "47622d1f-9d7d-4e11-eeca-6f176259445f",
        "colab": {
          "base_uri": "https://localhost:8080/",
          "height": 424
        }
      },
      "cell_type": "code",
      "source": [
        "!apt-get install -y -qq software-properties-common python-software-properties module-init-tools\n",
        "!add-apt-repository -y ppa:alessandro-strada/ppa 2>&1 > /dev/null\n",
        "!apt-get update -qq 2>&1 > /dev/null\n",
        "!apt-get -y install -qq google-drive-ocamlfuse fuse\n",
        "\n",
        "from google.colab import auth\n",
        "auth.authenticate_user()\n",
        "from oauth2client.client import GoogleCredentials\n",
        "creds = GoogleCredentials.get_application_default()\n",
        "import getpass\n",
        "!google-drive-ocamlfuse -headless -id={creds.client_id} -secret={creds.client_secret} < /dev/null 2>&1 | grep URL\n",
        "vcode = getpass.getpass()\n",
        "!echo {vcode} | google-drive-ocamlfuse -headless -id={creds.client_id} -secret={creds.client_secret}\n",
        "\n",
        "# 指定Google Drive云端硬盘的根目录，名为drive\n",
        "!mkdir -p drive\n",
        "!google-drive-ocamlfuse drive\n",
        "# 指定当前的工作目录\n",
        "import os\n",
        "\n",
        "# 此处为google drive中的文件路径,drive为之前指定的工作根目录，要加上\n",
        "os.chdir(\"drive/\") \n",
        "\n",
        "# 查看文件目录，是否包含所需的文件\n",
        "!ls"
      ],
      "execution_count": 3,
      "outputs": [
        {
          "output_type": "stream",
          "text": [
            "E: Package 'python-software-properties' has no installation candidate\n",
            "\n",
            "Selecting previously unselected package google-drive-ocamlfuse.\n",
            "(Reading database ... 131304 files and directories currently installed.)\n",
            "Preparing to unpack .../google-drive-ocamlfuse_0.7.3-0ubuntu3~ubuntu18.04.1_amd64.deb ...\n",
            "Unpacking google-drive-ocamlfuse (0.7.3-0ubuntu3~ubuntu18.04.1) ...\n",
            "Setting up google-drive-ocamlfuse (0.7.3-0ubuntu3~ubuntu18.04.1) ...\n",
            "Processing triggers for man-db (2.8.3-2ubuntu0.1) ...\n",
            "Please, open the following URL in a web browser: https://accounts.google.com/o/oauth2/auth?client_id=32555940559.apps.googleusercontent.com&redirect_uri=urn%3Aietf%3Awg%3Aoauth%3A2.0%3Aoob&scope=https%3A%2F%2Fwww.googleapis.com%2Fauth%2Fdrive&response_type=code&access_type=offline&approval_prompt=force\n",
            "··········\n",
            "Please, open the following URL in a web browser: https://accounts.google.com/o/oauth2/auth?client_id=32555940559.apps.googleusercontent.com&redirect_uri=urn%3Aietf%3Awg%3Aoauth%3A2.0%3Aoob&scope=https%3A%2F%2Fwww.googleapis.com%2Fauth%2Fdrive&response_type=code&access_type=offline&approval_prompt=force\n",
            "Please enter the verification code: Access token retrieved correctly.\n",
            " 2018_02_02-16:53:56.txt.odt\n",
            "'Colab Notebooks'\n",
            " drive\n",
            " Flowerclass_21.csv\n",
            " flower_identify_VGG16_01.h5\n",
            "'Google 相簿'\n",
            " image_data\n",
            " image_data2\n",
            " MindMapperPlanner\n",
            "'電腦玩物的 Google 商務資訊圖表簡報範本中文版 - 副本.pdf'\n"
          ],
          "name": "stdout"
        }
      ]
    },
    {
      "metadata": {
        "id": "Y96iknrUi9vm",
        "colab_type": "code",
        "outputId": "946db605-cc5c-4a77-90d5-14cc42fa3a0c",
        "colab": {
          "base_uri": "https://localhost:8080/",
          "height": 35
        }
      },
      "cell_type": "code",
      "source": [
        "import keras\n",
        "from keras.models import Model\n",
        "from keras.layers import Flatten, Dense, Dropout,Input\n",
        "from keras.applications.vgg16 import VGG16\n",
        "from keras.optimizers import Adam\n",
        "from keras.preprocessing.image import ImageDataGenerator\n",
        "from keras.callbacks import EarlyStopping, ReduceLROnPlateau\n",
        "import pandas as pd \n",
        "import numpy as np"
      ],
      "execution_count": 0,
      "outputs": [
        {
          "output_type": "stream",
          "text": [
            "Using TensorFlow backend.\n"
          ],
          "name": "stderr"
        }
      ]
    },
    {
      "metadata": {
        "id": "qTCpTJyuEUuA",
        "colab_type": "text"
      },
      "cell_type": "markdown",
      "source": [
        "## 設定參數"
      ]
    },
    {
      "metadata": {
        "id": "x3tknaLV-b7A",
        "colab_type": "code",
        "colab": {}
      },
      "cell_type": "code",
      "source": [
        " #資料路徑\n",
        "DATASET_PATH  = 'image_data2'\n",
        "\n",
        "# 影像大小\n",
        "IMAGE_SIZE = (224,224)\n",
        "\n",
        "# 影像類別數\n",
        "NUM_CLASSES = 5\n",
        "\n",
        "# 若 GPU 記憶體不足，可調降 batch size 或凍結更多層網路\n",
        "BATCH_SIZE = 16\n",
        "\n",
        "# 凍結網路層數\n",
        "FREEZE_LAYERS = 2\n",
        "\n",
        "# Epoch 數\n",
        "NUM_EPOCHS = 100\n",
        "\n"
      ],
      "execution_count": 0,
      "outputs": []
    },
    {
      "metadata": {
        "id": "poAriTLWE03A",
        "colab_type": "text"
      },
      "cell_type": "markdown",
      "source": [
        "## 建立模型"
      ]
    },
    {
      "metadata": {
        "id": "d3ieYx1Z-zRg",
        "colab_type": "code",
        "outputId": "65545ccb-913f-46da-f7e7-ba537f1d357f",
        "colab": {
          "base_uri": "https://localhost:8080/",
          "height": 128
        }
      },
      "cell_type": "code",
      "source": [
        "# 以訓練好的基礎來建立模型，\n",
        "# 捨棄頂層的 fully connected layers\n",
        "keras.backend.clear_session()\n",
        "net = VGG16 (include_top=False, weights='imagenet', input_shape=(IMAGE_SIZE[0],IMAGE_SIZE[1],3))\n",
        "x = net.output\n"
      ],
      "execution_count": 0,
      "outputs": [
        {
          "output_type": "stream",
          "text": [
            "WARNING:tensorflow:From /usr/local/lib/python3.6/dist-packages/tensorflow/python/framework/op_def_library.py:263: colocate_with (from tensorflow.python.framework.ops) is deprecated and will be removed in a future version.\n",
            "Instructions for updating:\n",
            "Colocations handled automatically by placer.\n",
            "Downloading data from https://github.com/fchollet/deep-learning-models/releases/download/v0.1/vgg16_weights_tf_dim_ordering_tf_kernels_notop.h5\n",
            "58892288/58889256 [==============================] - 1s 0us/step\n"
          ],
          "name": "stdout"
        }
      ]
    },
    {
      "metadata": {
        "id": "fOMjW2WWoRa4",
        "colab_type": "code",
        "outputId": "09ec5308-1389-4ed6-d453-c30011485ef9",
        "colab": {
          "base_uri": "https://localhost:8080/",
          "height": 92
        }
      },
      "cell_type": "code",
      "source": [
        "#增加層數\n",
        "D_rate = 0.3\n",
        "\n",
        "x = Flatten()(x)\n",
        "x = Dropout(D_rate)(x)\n",
        "\n",
        "# 增加 Dense layer，以 softmax 產生個類別的機率值\n",
        "output_layer = Dense(NUM_CLASSES, activation='softmax', name='output')(x)\n"
      ],
      "execution_count": 0,
      "outputs": [
        {
          "output_type": "stream",
          "text": [
            "WARNING:tensorflow:From /usr/local/lib/python3.6/dist-packages/keras/backend/tensorflow_backend.py:3445: calling dropout (from tensorflow.python.ops.nn_ops) with keep_prob is deprecated and will be removed in a future version.\n",
            "Instructions for updating:\n",
            "Please use `rate` instead of `keep_prob`. Rate should be set to `rate = 1 - keep_prob`.\n"
          ],
          "name": "stdout"
        }
      ]
    },
    {
      "metadata": {
        "id": "6idlgDry-6JW",
        "colab_type": "code",
        "colab": {}
      },
      "cell_type": "code",
      "source": [
        "# 設定凍結與要進行訓練的網路層\n",
        "net_final = Model(inputs=net.input, outputs=output_layer,name='vgg16_pretrain')\n",
        "\n",
        "if FREEZE_LAYERS == -1 :\n",
        "    for layer in net_final.layers:\n",
        "        layer.trainable = False\n",
        "else:\n",
        "    for layer in net_final.layers[:FREEZE_LAYERS]:\n",
        "        layer.trainable = False\n",
        "\n",
        "    for layer in net_final.layers[FREEZE_LAYERS:]:\n",
        "        layer.trainable = True\n"
      ],
      "execution_count": 0,
      "outputs": []
    },
    {
      "metadata": {
        "id": "WToI0MIW-9Q_",
        "colab_type": "code",
        "outputId": "ee66ebb0-4d31-4503-e772-0ed2b346d288",
        "colab": {
          "base_uri": "https://localhost:8080/",
          "height": 963
        }
      },
      "cell_type": "code",
      "source": [
        "# 使用 Adam optimizer，以較低的 learning rate 進行 fine-tuning\n",
        "net_final.compile(optimizer = Adam(lr=1e-5),loss='categorical_crossentropy', metrics=['accuracy'])\n",
        "\n",
        "# 輸出整個網路結構\n",
        "print(net_final.summary())\n"
      ],
      "execution_count": 0,
      "outputs": [
        {
          "output_type": "stream",
          "text": [
            "_________________________________________________________________\n",
            "Layer (type)                 Output Shape              Param #   \n",
            "=================================================================\n",
            "input_1 (InputLayer)         (None, 224, 224, 3)       0         \n",
            "_________________________________________________________________\n",
            "block1_conv1 (Conv2D)        (None, 224, 224, 64)      1792      \n",
            "_________________________________________________________________\n",
            "block1_conv2 (Conv2D)        (None, 224, 224, 64)      36928     \n",
            "_________________________________________________________________\n",
            "block1_pool (MaxPooling2D)   (None, 112, 112, 64)      0         \n",
            "_________________________________________________________________\n",
            "block2_conv1 (Conv2D)        (None, 112, 112, 128)     73856     \n",
            "_________________________________________________________________\n",
            "block2_conv2 (Conv2D)        (None, 112, 112, 128)     147584    \n",
            "_________________________________________________________________\n",
            "block2_pool (MaxPooling2D)   (None, 56, 56, 128)       0         \n",
            "_________________________________________________________________\n",
            "block3_conv1 (Conv2D)        (None, 56, 56, 256)       295168    \n",
            "_________________________________________________________________\n",
            "block3_conv2 (Conv2D)        (None, 56, 56, 256)       590080    \n",
            "_________________________________________________________________\n",
            "block3_conv3 (Conv2D)        (None, 56, 56, 256)       590080    \n",
            "_________________________________________________________________\n",
            "block3_pool (MaxPooling2D)   (None, 28, 28, 256)       0         \n",
            "_________________________________________________________________\n",
            "block4_conv1 (Conv2D)        (None, 28, 28, 512)       1180160   \n",
            "_________________________________________________________________\n",
            "block4_conv2 (Conv2D)        (None, 28, 28, 512)       2359808   \n",
            "_________________________________________________________________\n",
            "block4_conv3 (Conv2D)        (None, 28, 28, 512)       2359808   \n",
            "_________________________________________________________________\n",
            "block4_pool (MaxPooling2D)   (None, 14, 14, 512)       0         \n",
            "_________________________________________________________________\n",
            "block5_conv1 (Conv2D)        (None, 14, 14, 512)       2359808   \n",
            "_________________________________________________________________\n",
            "block5_conv2 (Conv2D)        (None, 14, 14, 512)       2359808   \n",
            "_________________________________________________________________\n",
            "block5_conv3 (Conv2D)        (None, 14, 14, 512)       2359808   \n",
            "_________________________________________________________________\n",
            "block5_pool (MaxPooling2D)   (None, 7, 7, 512)         0         \n",
            "_________________________________________________________________\n",
            "flatten_1 (Flatten)          (None, 25088)             0         \n",
            "_________________________________________________________________\n",
            "dropout_1 (Dropout)          (None, 25088)             0         \n",
            "_________________________________________________________________\n",
            "output (Dense)               (None, 5)                 125445    \n",
            "=================================================================\n",
            "Total params: 14,840,133\n",
            "Trainable params: 14,838,341\n",
            "Non-trainable params: 1,792\n",
            "_________________________________________________________________\n",
            "None\n"
          ],
          "name": "stdout"
        }
      ]
    },
    {
      "metadata": {
        "id": "PT3ZHVnCNYLW",
        "colab_type": "text"
      },
      "cell_type": "markdown",
      "source": [
        "## 設定 callbacks 函式"
      ]
    },
    {
      "metadata": {
        "id": "9YO1O7waNNhl",
        "colab_type": "code",
        "colab": {}
      },
      "cell_type": "code",
      "source": [
        "earlystop = EarlyStopping(monitor=\"val_loss\", patience=5,verbose=1 )\n",
        "reduce_lr = ReduceLROnPlateau(factor=0.2,min_lr=1e-12, monitor='val_loss', patience=5, verbose=1)\n",
        "\n",
        "callbacks = [earlystop,reduce_lr]"
      ],
      "execution_count": 0,
      "outputs": []
    },
    {
      "metadata": {
        "id": "tB-QphFJE-VX",
        "colab_type": "text"
      },
      "cell_type": "markdown",
      "source": [
        "## 訓練模型"
      ]
    },
    {
      "metadata": {
        "id": "Pw_QYwco_ATR",
        "colab_type": "code",
        "outputId": "dfeaf17e-9121-4ffe-f31c-a1fba92e9fc8",
        "colab": {
          "base_uri": "https://localhost:8080/",
          "height": 1515
        }
      },
      "cell_type": "code",
      "source": [
        "# 透過 data augmentation 產生訓練與驗證用的影像資料\n",
        "\n",
        "\n",
        "train_datagen = ImageDataGenerator(rotation_range=20,\n",
        "                                   width_shift_range=0.2,\n",
        "                                   height_shift_range=0.2,\n",
        "                                   shear_range=0.3,\n",
        "                                   zoom_range=0.2,\n",
        "                                   channel_shift_range=20,\n",
        "                                   horizontal_flip=True,\n",
        "                                   fill_mode= \"nearest\",\n",
        "                                   rescale= 1./255,\n",
        "                                   vertical_flip = True,\n",
        "                                   zca_whitening = False,\n",
        "                                   featurewise_center=True,  \n",
        "                                   samplewise_center=True, \n",
        "                                   featurewise_std_normalization=True, \n",
        "                                   samplewise_std_normalization=True)\n",
        "\n",
        "train_batches = train_datagen.flow_from_directory(DATASET_PATH + '/train',\n",
        "                                                  target_size=IMAGE_SIZE,\n",
        "                                                  interpolation = \"bicubic\",\n",
        "                                                  class_mode='categorical',\n",
        "                                                  shuffle=True,\n",
        "                                                  batch_size=BATCH_SIZE)\n",
        "\n",
        "valid_datagen = ImageDataGenerator(rotation_range=20,\n",
        "                                   width_shift_range=0.2,\n",
        "                                   height_shift_range=0.2,\n",
        "                                   shear_range=0.2,\n",
        "                                   zoom_range=0.3,\n",
        "                                   channel_shift_range=10,\n",
        "                                   horizontal_flip=True,\n",
        "                                   fill_mode= \"nearest\",\n",
        "                                   rescale= 1./255,\n",
        "                                   vertical_flip = True,\n",
        "                                   zca_whitening = False,\n",
        "                                   featurewise_center=True,  \n",
        "                                   samplewise_center=True, \n",
        "                                   featurewise_std_normalization=True, \n",
        "                                   samplewise_std_normalization=True)\n",
        "\n",
        "valid_batches = valid_datagen.flow_from_directory(DATASET_PATH + '/valid',\n",
        "                                                  target_size=IMAGE_SIZE,\n",
        "                                                  interpolation =\"bicubic\",\n",
        "                                                  class_mode='categorical',\n",
        "                                                  shuffle=True,\n",
        "                                                  batch_size=BATCH_SIZE)\n",
        "# 輸出各類別的索引值\n",
        "for cls, idx in train_batches.class_indices.items():\n",
        "    print('Class #{} = {}'.format(idx, cls))\n",
        "    \n",
        "# 訓練模型\n",
        "history = net_final.fit_generator(train_batches,\n",
        "                        steps_per_epoch = train_batches.samples // BATCH_SIZE,\n",
        "                        validation_data = valid_batches,\n",
        "                        validation_steps = valid_batches.samples // BATCH_SIZE,\n",
        "                        epochs = NUM_EPOCHS,callbacks=callbacks)\n",
        "\n"
      ],
      "execution_count": 0,
      "outputs": [
        {
          "output_type": "stream",
          "text": [
            "WARNING:tensorflow:From /usr/local/lib/python3.6/dist-packages/tensorflow/python/ops/math_ops.py:3066: to_int32 (from tensorflow.python.ops.math_ops) is deprecated and will be removed in a future version.\n",
            "Instructions for updating:\n",
            "Use tf.cast instead.\n",
            "Epoch 1/100\n"
          ],
          "name": "stdout"
        },
        {
          "output_type": "stream",
          "text": [
            "/usr/local/lib/python3.6/dist-packages/keras_preprocessing/image/image_data_generator.py:699: UserWarning: This ImageDataGenerator specifies `featurewise_center`, but it hasn't been fit on any training data. Fit it first by calling `.fit(numpy_data)`.\n",
            "  warnings.warn('This ImageDataGenerator specifies '\n",
            "/usr/local/lib/python3.6/dist-packages/keras_preprocessing/image/image_data_generator.py:707: UserWarning: This ImageDataGenerator specifies `featurewise_std_normalization`, but it hasn't been fit on any training data. Fit it first by calling `.fit(numpy_data)`.\n",
            "  warnings.warn('This ImageDataGenerator specifies '\n"
          ],
          "name": "stderr"
        },
        {
          "output_type": "stream",
          "text": [
            "176/176 [==============================] - 1777s 10s/step - loss: 1.2937 - acc: 0.4670 - val_loss: 0.8370 - val_acc: 0.6900\n",
            "Epoch 2/100\n",
            "176/176 [==============================] - 66s 377ms/step - loss: 0.7308 - acc: 0.7309 - val_loss: 0.4979 - val_acc: 0.8205\n",
            "Epoch 3/100\n",
            "176/176 [==============================] - 64s 362ms/step - loss: 0.5723 - acc: 0.7819 - val_loss: 0.4569 - val_acc: 0.8308\n",
            "Epoch 4/100\n",
            "176/176 [==============================] - 64s 366ms/step - loss: 0.4747 - acc: 0.8277 - val_loss: 0.4310 - val_acc: 0.8231\n",
            "Epoch 5/100\n",
            "176/176 [==============================] - 64s 362ms/step - loss: 0.4051 - acc: 0.8544 - val_loss: 0.3104 - val_acc: 0.8615\n",
            "Epoch 6/100\n",
            "176/176 [==============================] - 64s 364ms/step - loss: 0.3825 - acc: 0.8608 - val_loss: 0.3446 - val_acc: 0.8641\n",
            "Epoch 7/100\n",
            "176/176 [==============================] - 64s 364ms/step - loss: 0.3535 - acc: 0.8704 - val_loss: 0.3839 - val_acc: 0.8744\n",
            "Epoch 8/100\n",
            "176/176 [==============================] - 64s 364ms/step - loss: 0.3263 - acc: 0.8763 - val_loss: 0.2714 - val_acc: 0.9128\n",
            "Epoch 9/100\n",
            "176/176 [==============================] - 64s 366ms/step - loss: 0.2859 - acc: 0.8922 - val_loss: 0.2231 - val_acc: 0.9308\n",
            "Epoch 10/100\n",
            "176/176 [==============================] - 64s 362ms/step - loss: 0.2693 - acc: 0.8999 - val_loss: 0.2198 - val_acc: 0.9282\n",
            "Epoch 11/100\n",
            "176/176 [==============================] - 64s 364ms/step - loss: 0.2364 - acc: 0.9162 - val_loss: 0.2129 - val_acc: 0.9128\n",
            "Epoch 12/100\n",
            "176/176 [==============================] - 64s 366ms/step - loss: 0.2256 - acc: 0.9222 - val_loss: 0.1788 - val_acc: 0.9359\n",
            "Epoch 13/100\n",
            "176/176 [==============================] - 64s 364ms/step - loss: 0.1962 - acc: 0.9278 - val_loss: 0.1653 - val_acc: 0.9385\n",
            "Epoch 14/100\n",
            "176/176 [==============================] - 64s 364ms/step - loss: 0.1963 - acc: 0.9308 - val_loss: 0.1473 - val_acc: 0.9513\n",
            "Epoch 15/100\n",
            "176/176 [==============================] - 64s 363ms/step - loss: 0.1984 - acc: 0.9267 - val_loss: 0.1381 - val_acc: 0.9564\n",
            "Epoch 16/100\n",
            "176/176 [==============================] - 64s 362ms/step - loss: 0.1720 - acc: 0.9399 - val_loss: 0.1527 - val_acc: 0.9436\n",
            "Epoch 17/100\n",
            "176/176 [==============================] - 64s 365ms/step - loss: 0.1356 - acc: 0.9534 - val_loss: 0.1124 - val_acc: 0.9487\n",
            "Epoch 18/100\n",
            "176/176 [==============================] - 64s 362ms/step - loss: 0.1589 - acc: 0.9457 - val_loss: 0.1341 - val_acc: 0.9462\n",
            "Epoch 19/100\n",
            "176/176 [==============================] - 65s 368ms/step - loss: 0.1476 - acc: 0.9449 - val_loss: 0.1156 - val_acc: 0.9615\n",
            "Epoch 20/100\n",
            "176/176 [==============================] - 64s 361ms/step - loss: 0.1280 - acc: 0.9581 - val_loss: 0.0822 - val_acc: 0.9692\n",
            "Epoch 21/100\n",
            "176/176 [==============================] - 64s 361ms/step - loss: 0.1211 - acc: 0.9612 - val_loss: 0.1652 - val_acc: 0.9359\n",
            "Epoch 22/100\n",
            "176/176 [==============================] - 63s 358ms/step - loss: 0.1330 - acc: 0.9524 - val_loss: 0.0973 - val_acc: 0.9590\n",
            "Epoch 23/100\n",
            "176/176 [==============================] - 64s 361ms/step - loss: 0.1048 - acc: 0.9631 - val_loss: 0.0912 - val_acc: 0.9692\n",
            "Epoch 24/100\n",
            "176/176 [==============================] - 64s 365ms/step - loss: 0.0961 - acc: 0.9682 - val_loss: 0.0709 - val_acc: 0.9641\n",
            "Epoch 25/100\n",
            "176/176 [==============================] - 64s 361ms/step - loss: 0.1179 - acc: 0.9610 - val_loss: 0.1010 - val_acc: 0.9641\n",
            "Epoch 26/100\n",
            "176/176 [==============================] - 65s 368ms/step - loss: 0.0752 - acc: 0.9748 - val_loss: 0.0698 - val_acc: 0.9667\n",
            "Epoch 27/100\n",
            "176/176 [==============================] - 63s 360ms/step - loss: 0.0882 - acc: 0.9662 - val_loss: 0.0434 - val_acc: 0.9875\n",
            "Epoch 28/100\n",
            "176/176 [==============================] - 64s 364ms/step - loss: 0.1033 - acc: 0.9644 - val_loss: 0.0798 - val_acc: 0.9744\n",
            "Epoch 29/100\n",
            "176/176 [==============================] - 63s 361ms/step - loss: 0.0760 - acc: 0.9769 - val_loss: 0.0759 - val_acc: 0.9718\n",
            "Epoch 30/100\n",
            "176/176 [==============================] - 64s 363ms/step - loss: 0.0720 - acc: 0.9741 - val_loss: 0.0854 - val_acc: 0.9692\n",
            "Epoch 31/100\n",
            "176/176 [==============================] - 64s 363ms/step - loss: 0.0764 - acc: 0.9744 - val_loss: 0.0393 - val_acc: 0.9949\n",
            "Epoch 32/100\n",
            "176/176 [==============================] - 64s 362ms/step - loss: 0.0508 - acc: 0.9840 - val_loss: 0.0298 - val_acc: 0.9923\n",
            "Epoch 33/100\n",
            "176/176 [==============================] - 64s 365ms/step - loss: 0.0616 - acc: 0.9826 - val_loss: 0.0441 - val_acc: 0.9821\n",
            "Epoch 34/100\n",
            "176/176 [==============================] - 63s 360ms/step - loss: 0.0524 - acc: 0.9830 - val_loss: 0.0542 - val_acc: 0.9821\n",
            "Epoch 35/100\n",
            "176/176 [==============================] - 64s 361ms/step - loss: 0.0889 - acc: 0.9659 - val_loss: 0.0495 - val_acc: 0.9821\n",
            "Epoch 36/100\n",
            "176/176 [==============================] - 64s 365ms/step - loss: 0.0426 - acc: 0.9858 - val_loss: 0.0545 - val_acc: 0.9795\n",
            "Epoch 37/100\n",
            "176/176 [==============================] - 63s 360ms/step - loss: 0.0357 - acc: 0.9886 - val_loss: 0.0393 - val_acc: 0.9923\n",
            "\n",
            "Epoch 00037: ReduceLROnPlateau reducing learning rate to 1.9999999494757505e-06.\n",
            "Epoch 00037: early stopping\n"
          ],
          "name": "stdout"
        }
      ]
    },
    {
      "metadata": {
        "id": "LZDAAFebAVfd",
        "colab_type": "code",
        "outputId": "f651b322-4815-4559-a920-db7e93ff296f",
        "colab": {
          "base_uri": "https://localhost:8080/",
          "height": 826
        }
      },
      "cell_type": "code",
      "source": [
        "import matplotlib.pyplot as plt\n",
        "%matplotlib inline\n",
        "\n",
        "plt.figure(figsize=(8,6))\n",
        "plt.plot(history.history['acc'])\n",
        "plt.plot(history.history['val_acc'])\n",
        "plt.title('Model accuracy')\n",
        "plt.ylabel('Accuracy')\n",
        "plt.xlabel('Epoch')\n",
        "plt.legend(['Train', 'Test'], loc='best')\n",
        "plt.show()         \n",
        "\n",
        "print(f\"平均訓練準確率為 {np.mean(history.history['acc']):4f}\")\n",
        "print(f\"平均驗證準確率為 {np.mean(history.history['val_acc']):4f}\")\n",
        "\n",
        "plt.figure(figsize=(8,6))\n",
        "plt.plot(history.history['loss'])\n",
        "plt.plot(history.history['val_loss'])\n",
        "plt.title('Model loss')\n",
        "plt.ylabel('Loss')\n",
        "plt.xlabel('Epoch')\n",
        "plt.legend(['Train', 'Test'], loc='best')\n",
        "plt.show()\n",
        "\n",
        "print(f\"平均訓練損失率為 {np.mean(history.history['loss']):4f}\")\n",
        "print(f\"平均驗證損失率為 {np.mean(history.history['val_loss']):4f}\")\n"
      ],
      "execution_count": 0,
      "outputs": [
        {
          "output_type": "display_data",
          "data": {
            "image/png": "[encoded data removed]",
            "text/plain": [
              "<Figure size 576x432 with 1 Axes>"
            ]
          },
          "metadata": {
            "tags": []
          }
        },
        {
          "output_type": "display_data",
          "data": {
            "image/png": "[encoded data removed]",
            "text/plain": [
              "<Figure size 576x432 with 1 Axes>"
            ]
          },
          "metadata": {
            "tags": []
          }
        },
        {
          "output_type": "stream",
          "text": [
            "平均驗證穩準確率為 0.934250\n",
            "平均驗證穩損失率為 0.178541\n"
          ],
          "name": "stdout"
        }
      ]
    },
    {
      "metadata": {
        "id": "VW5xCAt4BbMC",
        "colab_type": "code",
        "colab": {}
      },
      "cell_type": "code",
      "source": [
        "# 儲存訓練好的模型\n",
        "net_final.save( 'flower_identify_VGG16_01.h5')"
      ],
      "execution_count": 0,
      "outputs": []
    },
    {
      "metadata": {
        "id": "HmSHpnV__J5V",
        "colab_type": "text"
      },
      "cell_type": "markdown",
      "source": [
        "## 預測結果"
      ]
    },
    {
      "metadata": {
        "id": "Z8gHaAMx_KSu",
        "colab_type": "code",
        "colab": {}
      },
      "cell_type": "code",
      "source": [
        "import keras\n",
        "from keras.models import load_model\n",
        "from keras.preprocessing.image import ImageDataGenerator\n",
        "import pandas as pd\n",
        "import numpy as np\n",
        "from tqdm import tqdm"
      ],
      "execution_count": 0,
      "outputs": []
    },
    {
      "metadata": {
        "id": "_dwUu8IiMiWK",
        "colab_type": "code",
        "colab": {}
      },
      "cell_type": "code",
      "source": [
        "# 載入訓練好的模型\n",
        "net = load_model('flower_identify_VGG16_01.h5')"
      ],
      "execution_count": 0,
      "outputs": []
    },
    {
      "metadata": {
        "id": "_EJRU_GTH_wc",
        "colab_type": "text"
      },
      "cell_type": "markdown",
      "source": [
        "## 辨識每一張圖"
      ]
    },
    {
      "metadata": {
        "id": "8hc8b_TO32S9",
        "colab_type": "code",
        "outputId": "75cc1e6f-3b18-4a3f-8d70-1d8ace09baff",
        "colab": {
          "base_uri": "https://localhost:8080/",
          "height": 479
        }
      },
      "cell_type": "code",
      "source": [
        "#測試資料預處裡設定圖形產生器\n",
        "test_datagen = ImageDataGenerator(rescale = 1./255,\n",
        "                                  rotation_range=0,\n",
        "                                  zca_whitening = True,\n",
        "                                  featurewise_center=True,  \n",
        "                                  samplewise_center=True, \n",
        "                                  featurewise_std_normalization=True, \n",
        "                                  samplewise_std_normalization=True)\n",
        "\n",
        "test_batches = test_datagen.flow_from_directory('image_data/test',\n",
        "                                                target_size = (224,224),\n",
        "                                                interpolation = \"bicubic\",\n",
        "                                                class_mode = 'categorical',\n",
        "                                                shuffle = False,\n",
        "                                                batch_size = 50)\n",
        "\n",
        "#設定儲存資料的串列及DataFrame\n",
        "Pred_result = pd.DataFrame(columns=['id'])\n",
        "\n",
        "#將圖檔名稱轉換成預測 id 並將 id 存入串列\n",
        "print(\"\\n載入要預測圖檔的名稱....\\n\")\n",
        "for filename in tqdm(test_batches.filenames):\n",
        "    Pred_result = Pred_result.append({'id':filename.split('/')[1].split('.')[0]},\n",
        "                                      ignore_index = True) \n",
        "#載入要預測的圖像\n",
        "print(\"\\n載入圖檔預測中...\\n\")\n",
        "pred = net.predict_generator(test_batches,steps=2000/50,verbose=1)\n",
        "result = pd.DataFrame(pred.argsort())\n",
        "Pred_result['flower_class'] = result[4]\n",
        "Pred_result.head(5)   "
      ],
      "execution_count": 49,
      "outputs": [
        {
          "output_type": "stream",
          "text": [
            "/usr/local/lib/python3.6/dist-packages/keras_preprocessing/image/image_data_generator.py:339: UserWarning: This ImageDataGenerator specifies `zca_whitening` which overrides setting of`featurewise_std_normalization`.\n",
            "  warnings.warn('This ImageDataGenerator specifies '\n",
            "  4%|▍         | 75/2000 [00:00<00:02, 745.22it/s]"
          ],
          "name": "stderr"
        },
        {
          "output_type": "stream",
          "text": [
            "Found 2000 images belonging to 1 classes.\n",
            "\n",
            "載入要預測圖檔的名稱....\n",
            "\n"
          ],
          "name": "stdout"
        },
        {
          "output_type": "stream",
          "text": [
            "100%|██████████| 2000/2000 [00:02<00:00, 748.86it/s]\n",
            "/usr/local/lib/python3.6/dist-packages/keras_preprocessing/image/image_data_generator.py:699: UserWarning: This ImageDataGenerator specifies `featurewise_center`, but it hasn't been fit on any training data. Fit it first by calling `.fit(numpy_data)`.\n",
            "  warnings.warn('This ImageDataGenerator specifies '\n",
            "/usr/local/lib/python3.6/dist-packages/keras_preprocessing/image/image_data_generator.py:718: UserWarning: This ImageDataGenerator specifies `zca_whitening`, but it hasn't been fit on any training data. Fit it first by calling `.fit(numpy_data)`.\n",
            "  warnings.warn('This ImageDataGenerator specifies '\n"
          ],
          "name": "stderr"
        },
        {
          "output_type": "stream",
          "text": [
            "\n",
            "載入圖檔預測中...\n",
            "\n",
            "40/40 [==============================] - 15s 367ms/step\n"
          ],
          "name": "stdout"
        },
        {
          "output_type": "execute_result",
          "data": {
            "text/html": [
              "<div>\n",
              "<style scoped>\n",
              "    .dataframe tbody tr th:only-of-type {\n",
              "        vertical-align: middle;\n",
              "    }\n",
              "\n",
              "    .dataframe tbody tr th {\n",
              "        vertical-align: top;\n",
              "    }\n",
              "\n",
              "    .dataframe thead th {\n",
              "        text-align: right;\n",
              "    }\n",
              "</style>\n",
              "<table border=\"1\" class=\"dataframe\">\n",
              "  <thead>\n",
              "    <tr style=\"text-align: right;\">\n",
              "      <th></th>\n",
              "      <th>id</th>\n",
              "      <th>flower_class</th>\n",
              "    </tr>\n",
              "  </thead>\n",
              "  <tbody>\n",
              "    <tr>\n",
              "      <th>0</th>\n",
              "      <td>0028624c49b3e0610ff9f1d111f5d532</td>\n",
              "      <td>2</td>\n",
              "    </tr>\n",
              "    <tr>\n",
              "      <th>1</th>\n",
              "      <td>002c30700185b7971369258b438070d5</td>\n",
              "      <td>4</td>\n",
              "    </tr>\n",
              "    <tr>\n",
              "      <th>2</th>\n",
              "      <td>00852f4f666acecd0c0d140365b42efd</td>\n",
              "      <td>4</td>\n",
              "    </tr>\n",
              "    <tr>\n",
              "      <th>3</th>\n",
              "      <td>00c08828fce04e360c732cac01edad9e</td>\n",
              "      <td>4</td>\n",
              "    </tr>\n",
              "    <tr>\n",
              "      <th>4</th>\n",
              "      <td>00d366e7877b6a78b104b57d67b60e6b</td>\n",
              "      <td>4</td>\n",
              "    </tr>\n",
              "  </tbody>\n",
              "</table>\n",
              "</div>"
            ],
            "text/plain": [
              "                                 id  flower_class\n",
              "0  0028624c49b3e0610ff9f1d111f5d532             2\n",
              "1  002c30700185b7971369258b438070d5             4\n",
              "2  00852f4f666acecd0c0d140365b42efd             4\n",
              "3  00c08828fce04e360c732cac01edad9e             4\n",
              "4  00d366e7877b6a78b104b57d67b60e6b             4"
            ]
          },
          "metadata": {
            "tags": []
          },
          "execution_count": 49
        }
      ]
    },
    {
      "metadata": {
        "id": "zZwm4hDlKP18",
        "colab_type": "text"
      },
      "cell_type": "markdown",
      "source": [
        "## 輸出預測結果檔案"
      ]
    },
    {
      "metadata": {
        "id": "72O0q2pTIctw",
        "colab_type": "code",
        "colab": {}
      },
      "cell_type": "code",
      "source": [
        "Pred_result.to_csv('Flowerclass_21.csv',index = False)"
      ],
      "execution_count": 0,
      "outputs": []
    }
  ]
}