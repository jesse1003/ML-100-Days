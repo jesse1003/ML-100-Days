{
  "nbformat": 4,
  "nbformat_minor": 0,
  "metadata": {
    "colab": {
      "name": "kaggle test 2.ipynb",
      "version": "0.3.2",
      "provenance": [],
      "collapsed_sections": []
    },
    "kernelspec": {
      "name": "python3",
      "display_name": "Python 3"
    },
    "accelerator": "GPU"
  },
  "cells": [
    {
      "metadata": {
        "id": "Mol5uPrvNiFb",
        "colab_type": "text"
      },
      "cell_type": "markdown",
      "source": [
        "##連結 Google Deive，以讀取目錄中的圖片資料"
      ]
    },
    {
      "metadata": {
        "id": "4V1GwAUeUXJl",
        "colab_type": "code",
        "outputId": "f01d5c02-d8f6-46e1-a866-9c7f90482912",
        "colab": {
          "base_uri": "https://localhost:8080/",
          "height": 692
        }
      },
      "cell_type": "code",
      "source": [
        "!apt-get install -y -qq software-properties-common python-software-properties module-init-tools\n",
        "!add-apt-repository -y ppa:alessandro-strada/ppa 2>&1 > /dev/null\n",
        "!apt-get update -qq 2>&1 > /dev/null\n",
        "!apt-get -y install -qq google-drive-ocamlfuse fuse\n",
        "\n",
        "from google.colab import auth\n",
        "auth.authenticate_user()\n",
        "from oauth2client.client import GoogleCredentials\n",
        "creds = GoogleCredentials.get_application_default()\n",
        "import getpass\n",
        "!google-drive-ocamlfuse -headless -id={creds.client_id} -secret={creds.client_secret} < /dev/null 2>&1 | grep URL\n",
        "vcode = getpass.getpass()\n",
        "!echo {vcode} | google-drive-ocamlfuse -headless -id={creds.client_id} -secret={creds.client_secret}\n",
        "\n",
        "# 指定Google Drive云端硬盘的根目录，名为drive\n",
        "!mkdir -p drive\n",
        "!google-drive-ocamlfuse drive\n",
        "# 指定当前的工作目录\n",
        "import os\n",
        "\n",
        "# 此处为google drive中的文件路径,drive为之前指定的工作根目录，要加上\n",
        "os.chdir(\"drive/\") \n",
        "\n",
        "# 查看文件目录，是否包含所需的文件\n",
        "!ls"
      ],
      "execution_count": 1,
      "outputs": [
        {
          "output_type": "stream",
          "text": [
            "E: Package 'python-software-properties' has no installation candidate\n",
            "Selecting previously unselected package google-drive-ocamlfuse.\n",
            "(Reading database ... 131304 files and directories currently installed.)\n",
            "Preparing to unpack .../google-drive-ocamlfuse_0.7.3-0ubuntu3~ubuntu18.04.1_amd64.deb ...\n",
            "Unpacking google-drive-ocamlfuse (0.7.3-0ubuntu3~ubuntu18.04.1) ...\n",
            "Setting up google-drive-ocamlfuse (0.7.3-0ubuntu3~ubuntu18.04.1) ...\n",
            "Processing triggers for man-db (2.8.3-2ubuntu0.1) ...\n",
            "Please, open the following URL in a web browser: https://accounts.google.com/o/oauth2/auth?client_id=32555940559.apps.googleusercontent.com&redirect_uri=urn%3Aietf%3Awg%3Aoauth%3A2.0%3Aoob&scope=https%3A%2F%2Fwww.googleapis.com%2Fauth%2Fdrive&response_type=code&access_type=offline&approval_prompt=force\n",
            "··········\n",
            "Please, open the following URL in a web browser: https://accounts.google.com/o/oauth2/auth?client_id=32555940559.apps.googleusercontent.com&redirect_uri=urn%3Aietf%3Awg%3Aoauth%3A2.0%3Aoob&scope=https%3A%2F%2Fwww.googleapis.com%2Fauth%2Fdrive&response_type=code&access_type=offline&approval_prompt=force\n",
            "Please enter the verification code: Access token retrieved correctly.\n",
            " 2018_02_02-16:53:56.txt.odt\n",
            "'Colab Notebooks'\n",
            " drive\n",
            " Flowerclass_11.csv\n",
            " Flowerclass_12-1.csv\n",
            " Flowerclass_12.csv\n",
            " Flowerclass_13.csv\n",
            " Flowerclass_14.csv\n",
            " Flowerclass_15.csv\n",
            " Flowerclass_16.csv\n",
            " Flowerclass_17.csv\n",
            " Flowerclass_18.csv\n",
            " Flowerclass_19.csv\n",
            " Flowerclass_20.csv\n",
            " flower_identify_insp_01.h5\n",
            " flower_identify_VGG16_01A.h5\n",
            " flower_identify_VGG16_01.h5\n",
            " flower_identify_VGG16_02.h5\n",
            "'Google 相簿'\n",
            " image_data\n",
            " image_data2\n",
            " MindMapperPlanner\n",
            " resnet_builder.py\n",
            " sample\n",
            "'電腦玩物的 Google 商務資訊圖表簡報範本中文版 - 副本.pdf'\n"
          ],
          "name": "stdout"
        }
      ]
    },
    {
      "metadata": {
        "id": "Y96iknrUi9vm",
        "colab_type": "code",
        "outputId": "f8891aa2-3f89-4376-bfa4-3119b1e36ec8",
        "colab": {
          "base_uri": "https://localhost:8080/",
          "height": 35
        }
      },
      "cell_type": "code",
      "source": [
        "import keras\n",
        "from keras.models import Model\n",
        "from keras.layers import Flatten, Dense, Dropout,Input\n",
        "from keras.applications.vgg16 import VGG16\n",
        "from keras.optimizers import Adam\n",
        "from keras.preprocessing.image import ImageDataGenerator\n",
        "from keras.callbacks import EarlyStopping, ReduceLROnPlateau\n",
        "import pandas as pd \n",
        "import numpy as np"
      ],
      "execution_count": 2,
      "outputs": [
        {
          "output_type": "stream",
          "text": [
            "Using TensorFlow backend.\n"
          ],
          "name": "stderr"
        }
      ]
    },
    {
      "metadata": {
        "id": "qTCpTJyuEUuA",
        "colab_type": "text"
      },
      "cell_type": "markdown",
      "source": [
        "## 設定參數"
      ]
    },
    {
      "metadata": {
        "id": "x3tknaLV-b7A",
        "colab_type": "code",
        "colab": {}
      },
      "cell_type": "code",
      "source": [
        " #資料路徑\n",
        "DATASET_PATH  = 'image_data2'\n",
        "\n",
        "# 影像大小\n",
        "IMAGE_SIZE = (224,224)\n",
        "\n",
        "# 影像類別數\n",
        "NUM_CLASSES = 5\n",
        "\n",
        "# 若 GPU 記憶體不足，可調降 batch size 或凍結更多層網路\n",
        "BATCH_SIZE = 16\n",
        "\n",
        "# 凍結網路層數\n",
        "FREEZE_LAYERS = 2\n",
        "\n",
        "# Epoch 數\n",
        "NUM_EPOCHS = 100\n",
        "\n"
      ],
      "execution_count": 0,
      "outputs": []
    },
    {
      "metadata": {
        "id": "poAriTLWE03A",
        "colab_type": "text"
      },
      "cell_type": "markdown",
      "source": [
        "## 建立模型"
      ]
    },
    {
      "metadata": {
        "id": "d3ieYx1Z-zRg",
        "colab_type": "code",
        "outputId": "8d1503d8-6d0f-43ea-f61f-c3fd1d431d3e",
        "colab": {
          "base_uri": "https://localhost:8080/",
          "height": 128
        }
      },
      "cell_type": "code",
      "source": [
        "# 以訓練好的基礎來建立模型，\n",
        "# 捨棄頂層的 fully connected layers\n",
        "keras.backend.clear_session()\n",
        "net = VGG16 (include_top=False, weights='imagenet', input_shape=(IMAGE_SIZE[0],IMAGE_SIZE[1],3))\n",
        "x = net.output\n"
      ],
      "execution_count": 4,
      "outputs": [
        {
          "output_type": "stream",
          "text": [
            "WARNING:tensorflow:From /usr/local/lib/python3.6/dist-packages/tensorflow/python/framework/op_def_library.py:263: colocate_with (from tensorflow.python.framework.ops) is deprecated and will be removed in a future version.\n",
            "Instructions for updating:\n",
            "Colocations handled automatically by placer.\n",
            "Downloading data from https://github.com/fchollet/deep-learning-models/releases/download/v0.1/vgg16_weights_tf_dim_ordering_tf_kernels_notop.h5\n",
            "58892288/58889256 [==============================] - 1s 0us/step\n"
          ],
          "name": "stdout"
        }
      ]
    },
    {
      "metadata": {
        "id": "fOMjW2WWoRa4",
        "colab_type": "code",
        "outputId": "6f4afad2-74d9-4aa3-e925-d2e642114b0e",
        "colab": {
          "base_uri": "https://localhost:8080/",
          "height": 92
        }
      },
      "cell_type": "code",
      "source": [
        "#增加層數\n",
        "D_rate = 0.3\n",
        "\n",
        "x = Flatten()(x)\n",
        "x = Dropout(D_rate)(x)\n",
        "\n",
        "# 增加 Dense layer，以 softmax 產生個類別的機率值\n",
        "output_layer = Dense(NUM_CLASSES, activation='softmax', name='output')(x)\n"
      ],
      "execution_count": 5,
      "outputs": [
        {
          "output_type": "stream",
          "text": [
            "WARNING:tensorflow:From /usr/local/lib/python3.6/dist-packages/keras/backend/tensorflow_backend.py:3445: calling dropout (from tensorflow.python.ops.nn_ops) with keep_prob is deprecated and will be removed in a future version.\n",
            "Instructions for updating:\n",
            "Please use `rate` instead of `keep_prob`. Rate should be set to `rate = 1 - keep_prob`.\n"
          ],
          "name": "stdout"
        }
      ]
    },
    {
      "metadata": {
        "id": "6idlgDry-6JW",
        "colab_type": "code",
        "colab": {}
      },
      "cell_type": "code",
      "source": [
        "# 設定凍結與要進行訓練的網路層\n",
        "net_final = Model(inputs=net.input, outputs=output_layer,name='vgg16_pretrain')\n",
        "\n",
        "if FREEZE_LAYERS == -1 :\n",
        "    for layer in net_final.layers:\n",
        "        layer.trainable = False\n",
        "else:\n",
        "    for layer in net_final.layers[:FREEZE_LAYERS]:\n",
        "        layer.trainable = False\n",
        "\n",
        "    for layer in net_final.layers[FREEZE_LAYERS:]:\n",
        "        layer.trainable = True\n"
      ],
      "execution_count": 0,
      "outputs": []
    },
    {
      "metadata": {
        "id": "WToI0MIW-9Q_",
        "colab_type": "code",
        "outputId": "37a4642a-e9e9-496d-ff8f-a757904417ff",
        "colab": {
          "base_uri": "https://localhost:8080/",
          "height": 963
        }
      },
      "cell_type": "code",
      "source": [
        "# 使用 Adam optimizer，以較低的 learning rate 進行 fine-tuning\n",
        "net_final.compile(optimizer = Adam(lr=1e-5),loss='categorical_crossentropy', metrics=['accuracy'])\n",
        "\n",
        "\n",
        "\n",
        "# 輸出整個網路結構\n",
        "print(net_final.summary())\n"
      ],
      "execution_count": 7,
      "outputs": [
        {
          "output_type": "stream",
          "text": [
            "_________________________________________________________________\n",
            "Layer (type)                 Output Shape              Param #   \n",
            "=================================================================\n",
            "input_1 (InputLayer)         (None, 224, 224, 3)       0         \n",
            "_________________________________________________________________\n",
            "block1_conv1 (Conv2D)        (None, 224, 224, 64)      1792      \n",
            "_________________________________________________________________\n",
            "block1_conv2 (Conv2D)        (None, 224, 224, 64)      36928     \n",
            "_________________________________________________________________\n",
            "block1_pool (MaxPooling2D)   (None, 112, 112, 64)      0         \n",
            "_________________________________________________________________\n",
            "block2_conv1 (Conv2D)        (None, 112, 112, 128)     73856     \n",
            "_________________________________________________________________\n",
            "block2_conv2 (Conv2D)        (None, 112, 112, 128)     147584    \n",
            "_________________________________________________________________\n",
            "block2_pool (MaxPooling2D)   (None, 56, 56, 128)       0         \n",
            "_________________________________________________________________\n",
            "block3_conv1 (Conv2D)        (None, 56, 56, 256)       295168    \n",
            "_________________________________________________________________\n",
            "block3_conv2 (Conv2D)        (None, 56, 56, 256)       590080    \n",
            "_________________________________________________________________\n",
            "block3_conv3 (Conv2D)        (None, 56, 56, 256)       590080    \n",
            "_________________________________________________________________\n",
            "block3_pool (MaxPooling2D)   (None, 28, 28, 256)       0         \n",
            "_________________________________________________________________\n",
            "block4_conv1 (Conv2D)        (None, 28, 28, 512)       1180160   \n",
            "_________________________________________________________________\n",
            "block4_conv2 (Conv2D)        (None, 28, 28, 512)       2359808   \n",
            "_________________________________________________________________\n",
            "block4_conv3 (Conv2D)        (None, 28, 28, 512)       2359808   \n",
            "_________________________________________________________________\n",
            "block4_pool (MaxPooling2D)   (None, 14, 14, 512)       0         \n",
            "_________________________________________________________________\n",
            "block5_conv1 (Conv2D)        (None, 14, 14, 512)       2359808   \n",
            "_________________________________________________________________\n",
            "block5_conv2 (Conv2D)        (None, 14, 14, 512)       2359808   \n",
            "_________________________________________________________________\n",
            "block5_conv3 (Conv2D)        (None, 14, 14, 512)       2359808   \n",
            "_________________________________________________________________\n",
            "block5_pool (MaxPooling2D)   (None, 7, 7, 512)         0         \n",
            "_________________________________________________________________\n",
            "flatten_1 (Flatten)          (None, 25088)             0         \n",
            "_________________________________________________________________\n",
            "dropout_1 (Dropout)          (None, 25088)             0         \n",
            "_________________________________________________________________\n",
            "output (Dense)               (None, 5)                 125445    \n",
            "=================================================================\n",
            "Total params: 14,840,133\n",
            "Trainable params: 14,838,341\n",
            "Non-trainable params: 1,792\n",
            "_________________________________________________________________\n",
            "None\n"
          ],
          "name": "stdout"
        }
      ]
    },
    {
      "metadata": {
        "id": "_nYnCrfgCDmf",
        "colab_type": "text"
      },
      "cell_type": "markdown",
      "source": [
        "## 設定資料優化產生器"
      ]
    },
    {
      "metadata": {
        "id": "SNlwiRiTCKSC",
        "colab_type": "code",
        "outputId": "8493a846-6ade-468a-b3d1-0e4733c6de1d",
        "colab": {
          "base_uri": "https://localhost:8080/",
          "height": 54
        }
      },
      "cell_type": "code",
      "source": [
        "# 透過 data augmentation 產生訓練與驗證用的影像資料\n",
        "\n",
        "\n",
        "train_datagen = ImageDataGenerator(rotation_range=20,\n",
        "                                   width_shift_range=0.2,\n",
        "                                   height_shift_range=0.2,\n",
        "                                   shear_range=0.3,\n",
        "                                   zoom_range=0.2,\n",
        "                                   channel_shift_range=20,\n",
        "                                   horizontal_flip=True,\n",
        "                                   fill_mode= \"nearest\",\n",
        "                                   rescale= 1./255,\n",
        "                                   vertical_flip = True,\n",
        "                                   zca_whitening = False,\n",
        "                                   featurewise_center=True,  \n",
        "                                   samplewise_center=True, \n",
        "                                   featurewise_std_normalization=True, \n",
        "                                   samplewise_std_normalization=True)\n",
        "\n",
        "train_batches = train_datagen.flow_from_directory(DATASET_PATH + '/train',\n",
        "                                                  target_size=IMAGE_SIZE,\n",
        "                                                  interpolation = \"bicubic\",\n",
        "                                                  class_mode='categorical',\n",
        "                                                  shuffle=True,\n",
        "                                                  batch_size=BATCH_SIZE)\n",
        "\n",
        "valid_datagen = ImageDataGenerator(rotation_range=20,\n",
        "                                   width_shift_range=0.2,\n",
        "                                   height_shift_range=0.2,\n",
        "                                   shear_range=0.2,\n",
        "                                   zoom_range=0.3,\n",
        "                                   channel_shift_range=10,\n",
        "                                   horizontal_flip=True,\n",
        "                                   fill_mode= \"nearest\",\n",
        "                                   rescale= 1./255,\n",
        "                                   vertical_flip = True,\n",
        "                                   zca_whitening = False,\n",
        "                                   featurewise_center=True,  \n",
        "                                   samplewise_center=True, \n",
        "                                   featurewise_std_normalization=True, \n",
        "                                   samplewise_std_normalization=True)\n",
        "\n",
        "valid_batches = valid_datagen.flow_from_directory(DATASET_PATH + '/valid',\n",
        "                                                  target_size=IMAGE_SIZE,\n",
        "                                                  interpolation =\"bicubic\",\n",
        "                                                  class_mode='categorical',\n",
        "                                                  shuffle=True,\n",
        "                                                  batch_size=BATCH_SIZE)\n"
      ],
      "execution_count": 8,
      "outputs": [
        {
          "output_type": "stream",
          "text": [
            "Found 2823 images belonging to 5 classes.\n",
            "Found 406 images belonging to 5 classes.\n"
          ],
          "name": "stdout"
        }
      ]
    },
    {
      "metadata": {
        "id": "YuAHymGICa3j",
        "colab_type": "code",
        "outputId": "cf461b20-14a7-4375-b39b-d8853e1c6a9a",
        "colab": {
          "base_uri": "https://localhost:8080/",
          "height": 108
        }
      },
      "cell_type": "code",
      "source": [
        "# 輸出各類別的索引值\n",
        "for cls, idx in train_batches.class_indices.items():\n",
        "    print('Class #{} = {}'.format(idx, cls))"
      ],
      "execution_count": 9,
      "outputs": [
        {
          "output_type": "stream",
          "text": [
            "Class #0 = daisy\n",
            "Class #1 = dandelion\n",
            "Class #2 = rose\n",
            "Class #3 = sunflower\n",
            "Class #4 = tulip\n"
          ],
          "name": "stdout"
        }
      ]
    },
    {
      "metadata": {
        "id": "PT3ZHVnCNYLW",
        "colab_type": "text"
      },
      "cell_type": "markdown",
      "source": [
        "## 設定 callbacks 函式"
      ]
    },
    {
      "metadata": {
        "id": "9YO1O7waNNhl",
        "colab_type": "code",
        "colab": {}
      },
      "cell_type": "code",
      "source": [
        "earlystop = EarlyStopping(monitor=\"val_loss\", patience=5,verbose=1 )\n",
        "reduce_lr = ReduceLROnPlateau(factor=0.2,min_lr=1e-12, monitor='val_loss', patience=5, verbose=1)\n",
        "\n",
        "callbacks = [earlystop,reduce_lr]"
      ],
      "execution_count": 0,
      "outputs": []
    },
    {
      "metadata": {
        "id": "tB-QphFJE-VX",
        "colab_type": "text"
      },
      "cell_type": "markdown",
      "source": [
        "## 訓練模型"
      ]
    },
    {
      "metadata": {
        "id": "Pw_QYwco_ATR",
        "colab_type": "code",
        "outputId": "8d7229b3-0310-42d5-9ece-9de567faf980",
        "colab": {
          "base_uri": "https://localhost:8080/",
          "height": 1201
        }
      },
      "cell_type": "code",
      "source": [
        "# 訓練模型\n",
        "history = net_final.fit_generator(train_batches,\n",
        "                        steps_per_epoch = train_batches.samples // BATCH_SIZE,\n",
        "                        validation_data = valid_batches,\n",
        "                        validation_steps = valid_batches.samples // BATCH_SIZE,\n",
        "                        epochs = NUM_EPOCHS,callbacks=callbacks)\n",
        "\n"
      ],
      "execution_count": 11,
      "outputs": [
        {
          "output_type": "stream",
          "text": [
            "WARNING:tensorflow:From /usr/local/lib/python3.6/dist-packages/tensorflow/python/ops/math_ops.py:3066: to_int32 (from tensorflow.python.ops.math_ops) is deprecated and will be removed in a future version.\n",
            "Instructions for updating:\n",
            "Use tf.cast instead.\n",
            "Epoch 1/100\n"
          ],
          "name": "stdout"
        },
        {
          "output_type": "stream",
          "text": [
            "/usr/local/lib/python3.6/dist-packages/keras_preprocessing/image/image_data_generator.py:699: UserWarning: This ImageDataGenerator specifies `featurewise_center`, but it hasn't been fit on any training data. Fit it first by calling `.fit(numpy_data)`.\n",
            "  warnings.warn('This ImageDataGenerator specifies '\n",
            "/usr/local/lib/python3.6/dist-packages/keras_preprocessing/image/image_data_generator.py:707: UserWarning: This ImageDataGenerator specifies `featurewise_std_normalization`, but it hasn't been fit on any training data. Fit it first by calling `.fit(numpy_data)`.\n",
            "  warnings.warn('This ImageDataGenerator specifies '\n"
          ],
          "name": "stderr"
        },
        {
          "output_type": "stream",
          "text": [
            "176/176 [==============================] - 1557s 9s/step - loss: 1.4299 - acc: 0.3984 - val_loss: 0.9041 - val_acc: 0.6675\n",
            "Epoch 2/100\n",
            "176/176 [==============================] - 68s 386ms/step - loss: 0.7864 - acc: 0.6887 - val_loss: 0.7052 - val_acc: 0.7231\n",
            "Epoch 3/100\n",
            "176/176 [==============================] - 63s 355ms/step - loss: 0.5765 - acc: 0.7847 - val_loss: 0.4747 - val_acc: 0.8231\n",
            "Epoch 4/100\n",
            "176/176 [==============================] - 64s 361ms/step - loss: 0.5028 - acc: 0.8112 - val_loss: 0.3947 - val_acc: 0.8538\n",
            "Epoch 5/100\n",
            "176/176 [==============================] - 62s 351ms/step - loss: 0.4127 - acc: 0.8444 - val_loss: 0.3627 - val_acc: 0.8692\n",
            "Epoch 6/100\n",
            "176/176 [==============================] - 62s 355ms/step - loss: 0.4038 - acc: 0.8484 - val_loss: 0.3221 - val_acc: 0.8872\n",
            "Epoch 7/100\n",
            "176/176 [==============================] - 64s 366ms/step - loss: 0.3641 - acc: 0.8665 - val_loss: 0.3361 - val_acc: 0.8821\n",
            "Epoch 8/100\n",
            "176/176 [==============================] - 63s 358ms/step - loss: 0.3410 - acc: 0.8748 - val_loss: 0.3933 - val_acc: 0.8590\n",
            "Epoch 9/100\n",
            "176/176 [==============================] - 63s 360ms/step - loss: 0.2968 - acc: 0.8902 - val_loss: 0.3163 - val_acc: 0.8872\n",
            "Epoch 10/100\n",
            "176/176 [==============================] - 61s 349ms/step - loss: 0.2765 - acc: 0.8966 - val_loss: 0.1985 - val_acc: 0.9333\n",
            "Epoch 11/100\n",
            "176/176 [==============================] - 63s 356ms/step - loss: 0.2766 - acc: 0.8930 - val_loss: 0.2030 - val_acc: 0.9308\n",
            "Epoch 12/100\n",
            "176/176 [==============================] - 64s 364ms/step - loss: 0.2274 - acc: 0.9183 - val_loss: 0.2097 - val_acc: 0.9077\n",
            "Epoch 13/100\n",
            "176/176 [==============================] - 63s 356ms/step - loss: 0.2284 - acc: 0.9144 - val_loss: 0.1854 - val_acc: 0.9410\n",
            "Epoch 14/100\n",
            "176/176 [==============================] - 62s 354ms/step - loss: 0.2071 - acc: 0.9254 - val_loss: 0.1935 - val_acc: 0.9179\n",
            "Epoch 15/100\n",
            "176/176 [==============================] - 62s 351ms/step - loss: 0.1950 - acc: 0.9265 - val_loss: 0.1627 - val_acc: 0.9462\n",
            "Epoch 16/100\n",
            "176/176 [==============================] - 63s 357ms/step - loss: 0.1730 - acc: 0.9361 - val_loss: 0.1308 - val_acc: 0.9538\n",
            "Epoch 17/100\n",
            "176/176 [==============================] - 63s 358ms/step - loss: 0.1888 - acc: 0.9332 - val_loss: 0.1269 - val_acc: 0.9564\n",
            "Epoch 18/100\n",
            "176/176 [==============================] - 64s 361ms/step - loss: 0.1586 - acc: 0.9435 - val_loss: 0.0941 - val_acc: 0.9795\n",
            "Epoch 19/100\n",
            "176/176 [==============================] - 62s 352ms/step - loss: 0.1408 - acc: 0.9517 - val_loss: 0.0852 - val_acc: 0.9795\n",
            "Epoch 20/100\n",
            "176/176 [==============================] - 63s 358ms/step - loss: 0.1485 - acc: 0.9463 - val_loss: 0.1155 - val_acc: 0.9590\n",
            "Epoch 21/100\n",
            "176/176 [==============================] - 63s 357ms/step - loss: 0.1337 - acc: 0.9528 - val_loss: 0.1308 - val_acc: 0.9410\n",
            "Epoch 22/100\n",
            "176/176 [==============================] - 64s 362ms/step - loss: 0.1200 - acc: 0.9566 - val_loss: 0.0731 - val_acc: 0.9846\n",
            "Epoch 23/100\n",
            "176/176 [==============================] - 63s 356ms/step - loss: 0.1128 - acc: 0.9585 - val_loss: 0.0908 - val_acc: 0.9692\n",
            "Epoch 24/100\n",
            "176/176 [==============================] - 62s 351ms/step - loss: 0.1233 - acc: 0.9563 - val_loss: 0.0874 - val_acc: 0.9769\n",
            "Epoch 25/100\n",
            "176/176 [==============================] - 63s 358ms/step - loss: 0.0915 - acc: 0.9656 - val_loss: 0.1132 - val_acc: 0.9564\n",
            "Epoch 26/100\n",
            "176/176 [==============================] - 62s 354ms/step - loss: 0.1012 - acc: 0.9629 - val_loss: 0.0833 - val_acc: 0.9744\n",
            "Epoch 27/100\n",
            "176/176 [==============================] - 65s 368ms/step - loss: 0.0995 - acc: 0.9652 - val_loss: 0.1143 - val_acc: 0.9675\n",
            "\n",
            "Epoch 00027: ReduceLROnPlateau reducing learning rate to 1.9999999494757505e-06.\n",
            "Epoch 00027: early stopping\n"
          ],
          "name": "stdout"
        }
      ]
    },
    {
      "metadata": {
        "id": "LZDAAFebAVfd",
        "colab_type": "code",
        "outputId": "d0e63e4e-7829-488d-9bb4-58ddf23ef61f",
        "colab": {
          "base_uri": "https://localhost:8080/",
          "height": 497
        }
      },
      "cell_type": "code",
      "source": [
        "import matplotlib.pyplot as plt\n",
        "%matplotlib inline\n",
        "\n",
        "plt.figure(figsize=(8,6))\n",
        "plt.subplot(1,2,1)\n",
        "plt.plot(history.history['acc'])\n",
        "plt.plot(history.history['val_acc'])\n",
        "plt.title('Model accuracy')\n",
        "plt.ylabel('Accuracy')\n",
        "plt.xlabel('Epoch')\n",
        "plt.legend(['Train', 'Test'], loc='best')\n",
        "         \n",
        "    \n",
        "plt.subplot(1,2,2)\n",
        "plt.plot(history.history['loss'])\n",
        "plt.plot(history.history['val_loss'])\n",
        "plt.title('Model loss')\n",
        "plt.ylabel('Loss')\n",
        "plt.xlabel('Epoch')\n",
        "plt.legend(['Train', 'Test'], loc='best')\n",
        "plt.show()"
      ],
      "execution_count": 12,
      "outputs": [
        {
          "output_type": "stream",
          "text": [
            "/usr/local/lib/python3.6/dist-packages/keras_preprocessing/image/image_data_generator.py:699: UserWarning: This ImageDataGenerator specifies `featurewise_center`, but it hasn't been fit on any training data. Fit it first by calling `.fit(numpy_data)`.\n",
            "  warnings.warn('This ImageDataGenerator specifies '\n",
            "/usr/local/lib/python3.6/dist-packages/keras_preprocessing/image/image_data_generator.py:707: UserWarning: This ImageDataGenerator specifies `featurewise_std_normalization`, but it hasn't been fit on any training data. Fit it first by calling `.fit(numpy_data)`.\n",
            "  warnings.warn('This ImageDataGenerator specifies '\n"
          ],
          "name": "stderr"
        },
        {
          "output_type": "display_data",
          "data": {
            "image/png": "[encoded data removed]",
            "text/plain": [
              "<Figure size 576x432 with 2 Axes>"
            ]
          },
          "metadata": {
            "tags": []
          }
        }
      ]
    },
    {
      "metadata": {
        "id": "VW5xCAt4BbMC",
        "colab_type": "code",
        "colab": {}
      },
      "cell_type": "code",
      "source": [
        "# 儲存訓練好的模型\n",
        "net_final.save( 'flower_identify_VGG16_02.h5')"
      ],
      "execution_count": 0,
      "outputs": []
    },
    {
      "metadata": {
        "id": "HmSHpnV__J5V",
        "colab_type": "text"
      },
      "cell_type": "markdown",
      "source": [
        "## 預測結果"
      ]
    },
    {
      "metadata": {
        "id": "Z8gHaAMx_KSu",
        "colab_type": "code",
        "colab": {}
      },
      "cell_type": "code",
      "source": [
        "import keras\n",
        "from keras.models import load_model\n",
        "from keras.preprocessing.image import ImageDataGenerator\n",
        "import pandas as pd\n",
        "import numpy as np"
      ],
      "execution_count": 0,
      "outputs": []
    },
    {
      "metadata": {
        "id": "_dwUu8IiMiWK",
        "colab_type": "code",
        "colab": {}
      },
      "cell_type": "code",
      "source": [
        "# 載入訓練好的模型\n",
        "#net = load_model('flower_identify_insp_01.h5')"
      ],
      "execution_count": 0,
      "outputs": []
    },
    {
      "metadata": {
        "id": "PzO2vC7xGABT",
        "colab_type": "text"
      },
      "cell_type": "markdown",
      "source": [
        "## 測試資料預處裡\n"
      ]
    },
    {
      "metadata": {
        "id": "d6gWsoejF-2_",
        "colab_type": "code",
        "outputId": "e8428b37-2927-46f3-9c8b-6305e68a6c49",
        "colab": {
          "base_uri": "https://localhost:8080/",
          "height": 165
        }
      },
      "cell_type": "code",
      "source": [
        "test_datagen = ImageDataGenerator(rescale = 1./255,\n",
        "                                  rotation_range=0,\n",
        "                                  zca_whitening = True,\n",
        "                                  featurewise_center=True,  \n",
        "                                  samplewise_center=True, \n",
        "                                  featurewise_std_normalization=True, \n",
        "                                  samplewise_std_normalization=True)\n",
        "\n",
        "test_batches = test_datagen.flow_from_directory('image_data/test',\n",
        "                                                target_size = (224,224),\n",
        "                                                interpolation = \"bicubic\",\n",
        "                                                class_mode = 'categorical',\n",
        "                                                shuffle = False,\n",
        "                                                batch_size = 2000\n",
        "                                                )\n"
      ],
      "execution_count": 13,
      "outputs": [
        {
          "output_type": "stream",
          "text": [
            "/usr/local/lib/python3.6/dist-packages/keras_preprocessing/image/image_data_generator.py:339: UserWarning: This ImageDataGenerator specifies `zca_whitening` which overrides setting of`featurewise_std_normalization`.\n",
            "  warnings.warn('This ImageDataGenerator specifies '\n",
            "/usr/local/lib/python3.6/dist-packages/keras_preprocessing/image/image_data_generator.py:699: UserWarning: This ImageDataGenerator specifies `featurewise_center`, but it hasn't been fit on any training data. Fit it first by calling `.fit(numpy_data)`.\n",
            "  warnings.warn('This ImageDataGenerator specifies '\n",
            "/usr/local/lib/python3.6/dist-packages/keras_preprocessing/image/image_data_generator.py:707: UserWarning: This ImageDataGenerator specifies `featurewise_std_normalization`, but it hasn't been fit on any training data. Fit it first by calling `.fit(numpy_data)`.\n",
            "  warnings.warn('This ImageDataGenerator specifies '\n"
          ],
          "name": "stderr"
        },
        {
          "output_type": "stream",
          "text": [
            "Found 2000 images belonging to 1 classes.\n"
          ],
          "name": "stdout"
        }
      ]
    },
    {
      "metadata": {
        "id": "zcOdmbB_GN6v",
        "colab_type": "code",
        "outputId": "689b0837-88ed-46bb-f6e1-b1fdae255bf5",
        "colab": {
          "base_uri": "https://localhost:8080/",
          "height": 128
        }
      },
      "cell_type": "code",
      "source": [
        "#使用產生器讀入辨識圖檔資料\n",
        "imgs,_= next(test_batches )\n",
        "print(f'要預測的圖片數量有 {len(imgs)} 張')"
      ],
      "execution_count": 14,
      "outputs": [
        {
          "output_type": "stream",
          "text": [
            "/usr/local/lib/python3.6/dist-packages/keras_preprocessing/image/image_data_generator.py:699: UserWarning: This ImageDataGenerator specifies `featurewise_center`, but it hasn't been fit on any training data. Fit it first by calling `.fit(numpy_data)`.\n",
            "  warnings.warn('This ImageDataGenerator specifies '\n",
            "/usr/local/lib/python3.6/dist-packages/keras_preprocessing/image/image_data_generator.py:718: UserWarning: This ImageDataGenerator specifies `zca_whitening`, but it hasn't been fit on any training data. Fit it first by calling `.fit(numpy_data)`.\n",
            "  warnings.warn('This ImageDataGenerator specifies '\n"
          ],
          "name": "stderr"
        },
        {
          "output_type": "stream",
          "text": [
            "要預測的圖片數量有 2000 張\n"
          ],
          "name": "stdout"
        }
      ]
    },
    {
      "metadata": {
        "id": "_EJRU_GTH_wc",
        "colab_type": "text"
      },
      "cell_type": "markdown",
      "source": [
        "## 辨識每一張圖"
      ]
    },
    {
      "metadata": {
        "id": "8hc8b_TO32S9",
        "colab_type": "code",
        "outputId": "b7796e25-565e-400a-d4f4-01b52f2654cc",
        "colab": {
          "base_uri": "https://localhost:8080/",
          "height": 198
        }
      },
      "cell_type": "code",
      "source": [
        "#設定儲存資料的串列及DataFrame\n",
        "\n",
        "IDs = []\n",
        "Flower_classes = []\n",
        "Pred_result = pd.DataFrame(columns=['id'])\n",
        "\n",
        "for i,filename in enumerate (test_batches.filenames):\n",
        "    #將圖檔名稱轉換成預測 id 並將 id 存入串列\n",
        "    id = filename.split('/')[1]\n",
        "    IDs.append(id.split('.')[0])           \n",
        "   \n",
        "    #讀入要預測的圖形\n",
        "    img = np.expand_dims(imgs[i], axis = 0)\n",
        "    \n",
        "    #進行預測並將預測結果存入串列\n",
        "    pred =net_final.predict(img)[0]\n",
        "    flower_class = int(pred.argsort()[::-1][0:1])\n",
        "    Flower_classes.append(flower_class)\n",
        "\n",
        "#將預測結果串列存入 DataFrame  \n",
        "Pred_result['id']=IDs\n",
        "Pred_result['flower_class'] = Flower_classes\n",
        "\n",
        "Pred_result.head(5)"
      ],
      "execution_count": 15,
      "outputs": [
        {
          "output_type": "execute_result",
          "data": {
            "text/html": [
              "<div>\n",
              "<style scoped>\n",
              "    .dataframe tbody tr th:only-of-type {\n",
              "        vertical-align: middle;\n",
              "    }\n",
              "\n",
              "    .dataframe tbody tr th {\n",
              "        vertical-align: top;\n",
              "    }\n",
              "\n",
              "    .dataframe thead th {\n",
              "        text-align: right;\n",
              "    }\n",
              "</style>\n",
              "<table border=\"1\" class=\"dataframe\">\n",
              "  <thead>\n",
              "    <tr style=\"text-align: right;\">\n",
              "      <th></th>\n",
              "      <th>id</th>\n",
              "      <th>flower_class</th>\n",
              "    </tr>\n",
              "  </thead>\n",
              "  <tbody>\n",
              "    <tr>\n",
              "      <th>0</th>\n",
              "      <td>0028624c49b3e0610ff9f1d111f5d532</td>\n",
              "      <td>2</td>\n",
              "    </tr>\n",
              "    <tr>\n",
              "      <th>1</th>\n",
              "      <td>002c30700185b7971369258b438070d5</td>\n",
              "      <td>4</td>\n",
              "    </tr>\n",
              "    <tr>\n",
              "      <th>2</th>\n",
              "      <td>00852f4f666acecd0c0d140365b42efd</td>\n",
              "      <td>4</td>\n",
              "    </tr>\n",
              "    <tr>\n",
              "      <th>3</th>\n",
              "      <td>00c08828fce04e360c732cac01edad9e</td>\n",
              "      <td>4</td>\n",
              "    </tr>\n",
              "    <tr>\n",
              "      <th>4</th>\n",
              "      <td>00d366e7877b6a78b104b57d67b60e6b</td>\n",
              "      <td>4</td>\n",
              "    </tr>\n",
              "  </tbody>\n",
              "</table>\n",
              "</div>"
            ],
            "text/plain": [
              "                                 id  flower_class\n",
              "0  0028624c49b3e0610ff9f1d111f5d532             2\n",
              "1  002c30700185b7971369258b438070d5             4\n",
              "2  00852f4f666acecd0c0d140365b42efd             4\n",
              "3  00c08828fce04e360c732cac01edad9e             4\n",
              "4  00d366e7877b6a78b104b57d67b60e6b             4"
            ]
          },
          "metadata": {
            "tags": []
          },
          "execution_count": 15
        }
      ]
    },
    {
      "metadata": {
        "id": "zZwm4hDlKP18",
        "colab_type": "text"
      },
      "cell_type": "markdown",
      "source": [
        "## 輸出預測結果檔案"
      ]
    },
    {
      "metadata": {
        "id": "72O0q2pTIctw",
        "colab_type": "code",
        "colab": {}
      },
      "cell_type": "code",
      "source": [
        "Pred_result.to_csv('Flowerclass_20.csv',index = False)"
      ],
      "execution_count": 0,
      "outputs": []
    }
  ]
}