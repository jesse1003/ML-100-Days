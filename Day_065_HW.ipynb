{
 "cells": [
  {
   "cell_type": "markdown",
   "metadata": {},
   "source": [
    "# 作業:\n",
    "嘗試調整參數:  \n",
    "sg:sg=1表示採用skip-gram,sg=0 表示採用cbow  \n",
    "window:能往左往右看幾個字的意思 "
   ]
  },
  {
   "cell_type": "code",
   "execution_count": 1,
   "metadata": {},
   "outputs": [],
   "source": [
    "import gensim, logging\n",
    "from gensim.models import word2vec"
   ]
  },
  {
   "cell_type": "code",
   "execution_count": 2,
   "metadata": {},
   "outputs": [],
   "source": [
    "sentences = [['I am a hero', 'sentence'], ['She is a teacher', 'sentence']] "
   ]
  },
  {
   "cell_type": "code",
   "execution_count": 3,
   "metadata": {},
   "outputs": [],
   "source": [
    "logging.basicConfig(format='%(asctime)s : %(levelname)s : %(message)s', level=logging.INFO)  "
   ]
  },
  {
   "cell_type": "code",
   "execution_count": 11,
   "metadata": {},
   "outputs": [],
   "source": [
    "# train word2vec on the two sentences  \n",
    "# sg=0 表示COBW, sg=1 表示skip-gram\n",
    "def trainModel (sg=0,window=5):\n",
    "    model = word2vec.Word2Vec(sentences, size=256, min_count=1, window=window, workers=4, sg=sg)\n",
    "    \n",
    "    return model"
   ]
  },
  {
   "cell_type": "code",
   "execution_count": 21,
   "metadata": {},
   "outputs": [
    {
     "name": "stderr",
     "output_type": "stream",
     "text": [
      "2019-03-07 22:28:35,501 : INFO : collecting all words and their counts\n",
      "2019-03-07 22:28:35,503 : INFO : PROGRESS: at sentence #0, processed 0 words, keeping 0 word types\n",
      "2019-03-07 22:28:35,504 : INFO : collected 3 word types from a corpus of 4 raw words and 2 sentences\n",
      "2019-03-07 22:28:35,506 : INFO : Loading a fresh vocabulary\n",
      "2019-03-07 22:28:35,507 : INFO : effective_min_count=1 retains 3 unique words (100% of original 3, drops 0)\n",
      "2019-03-07 22:28:35,509 : INFO : effective_min_count=1 leaves 4 word corpus (100% of original 4, drops 0)\n",
      "2019-03-07 22:28:35,510 : INFO : deleting the raw counts dictionary of 3 items\n",
      "2019-03-07 22:28:35,512 : INFO : sample=0.001 downsamples 3 most-common words\n",
      "2019-03-07 22:28:35,513 : INFO : downsampling leaves estimated 0 word corpus (5.7% of prior 4)\n",
      "2019-03-07 22:28:35,515 : INFO : estimated required memory for 3 words and 256 dimensions: 7644 bytes\n",
      "2019-03-07 22:28:35,516 : INFO : resetting layer weights\n",
      "2019-03-07 22:28:35,519 : INFO : training model with 4 workers on 3 vocabulary and 256 features, using sg=0 hs=0 sample=0.001 negative=5 window=3\n",
      "2019-03-07 22:28:35,526 : INFO : worker thread finished; awaiting finish of 3 more threads\n",
      "2019-03-07 22:28:35,527 : INFO : worker thread finished; awaiting finish of 2 more threads\n",
      "2019-03-07 22:28:35,529 : INFO : worker thread finished; awaiting finish of 1 more threads\n",
      "2019-03-07 22:28:35,530 : INFO : worker thread finished; awaiting finish of 0 more threads\n",
      "2019-03-07 22:28:35,531 : INFO : EPOCH - 1 : training on 4 raw words (0 effective words) took 0.0s, 0 effective words/s\n",
      "2019-03-07 22:28:35,538 : INFO : worker thread finished; awaiting finish of 3 more threads\n",
      "2019-03-07 22:28:35,540 : INFO : worker thread finished; awaiting finish of 2 more threads\n",
      "2019-03-07 22:28:35,541 : INFO : worker thread finished; awaiting finish of 1 more threads\n",
      "2019-03-07 22:28:35,542 : INFO : worker thread finished; awaiting finish of 0 more threads\n",
      "2019-03-07 22:28:35,543 : INFO : EPOCH - 2 : training on 4 raw words (0 effective words) took 0.0s, 0 effective words/s\n",
      "2019-03-07 22:28:35,551 : INFO : worker thread finished; awaiting finish of 3 more threads\n",
      "2019-03-07 22:28:35,552 : INFO : worker thread finished; awaiting finish of 2 more threads\n",
      "2019-03-07 22:28:35,553 : INFO : worker thread finished; awaiting finish of 1 more threads\n",
      "2019-03-07 22:28:35,555 : INFO : worker thread finished; awaiting finish of 0 more threads\n",
      "2019-03-07 22:28:35,556 : INFO : EPOCH - 3 : training on 4 raw words (1 effective words) took 0.0s, 150 effective words/s\n",
      "2019-03-07 22:28:35,572 : INFO : worker thread finished; awaiting finish of 3 more threads\n",
      "2019-03-07 22:28:35,574 : INFO : worker thread finished; awaiting finish of 2 more threads\n",
      "2019-03-07 22:28:35,575 : INFO : worker thread finished; awaiting finish of 1 more threads\n",
      "2019-03-07 22:28:35,576 : INFO : worker thread finished; awaiting finish of 0 more threads\n",
      "2019-03-07 22:28:35,578 : INFO : EPOCH - 4 : training on 4 raw words (1 effective words) took 0.0s, 154 effective words/s\n",
      "2019-03-07 22:28:35,587 : INFO : worker thread finished; awaiting finish of 3 more threads\n",
      "2019-03-07 22:28:35,588 : INFO : worker thread finished; awaiting finish of 2 more threads\n",
      "2019-03-07 22:28:35,590 : INFO : worker thread finished; awaiting finish of 1 more threads\n",
      "2019-03-07 22:28:35,592 : INFO : worker thread finished; awaiting finish of 0 more threads\n",
      "2019-03-07 22:28:35,594 : INFO : EPOCH - 5 : training on 4 raw words (0 effective words) took 0.0s, 0 effective words/s\n",
      "2019-03-07 22:28:35,595 : INFO : training on a 20 raw words (2 effective words) took 0.1s, 26 effective words/s\n",
      "2019-03-07 22:28:35,599 : WARNING : under 10 jobs per worker: consider setting a smaller `batch_words' for smoother alpha decay\n"
     ]
    }
   ],
   "source": [
    "model=trainModel(sg=0,window=3)"
   ]
  },
  {
   "cell_type": "code",
   "execution_count": 22,
   "metadata": {},
   "outputs": [
    {
     "name": "stdout",
     "output_type": "stream",
     "text": [
      "Word2Vec(vocab=3, size=256, alpha=0.025)\n"
     ]
    }
   ],
   "source": [
    "print(model)"
   ]
  },
  {
   "cell_type": "code",
   "execution_count": 23,
   "metadata": {},
   "outputs": [
    {
     "name": "stderr",
     "output_type": "stream",
     "text": [
      "C:\\Users\\jesse\\Anaconda3\\lib\\site-packages\\ipykernel_launcher.py:1: DeprecationWarning: Call to deprecated `similarity` (Method will be removed in 4.0.0, use self.wv.similarity() instead).\n",
      "  \"\"\"Entry point for launching an IPython kernel.\n"
     ]
    },
    {
     "data": {
      "text/plain": [
       "0.0016694143"
      ]
     },
     "execution_count": 23,
     "metadata": {},
     "output_type": "execute_result"
    }
   ],
   "source": [
    "model.similarity('I am a hero','She is a teacher')"
   ]
  },
  {
   "cell_type": "code",
   "execution_count": 24,
   "metadata": {},
   "outputs": [
    {
     "name": "stderr",
     "output_type": "stream",
     "text": [
      "2019-03-07 22:29:09,443 : INFO : saving Word2Vec object under mymodel, separately None\n",
      "2019-03-07 22:29:09,445 : INFO : not storing attribute vectors_norm\n",
      "2019-03-07 22:29:09,447 : INFO : not storing attribute cum_table\n",
      "2019-03-07 22:29:09,450 : INFO : saved mymodel\n",
      "2019-03-07 22:29:09,452 : INFO : loading Word2Vec object from mymodel\n",
      "2019-03-07 22:29:09,454 : INFO : loading wv recursively from mymodel.wv.* with mmap=None\n",
      "2019-03-07 22:29:09,456 : INFO : setting ignored attribute vectors_norm to None\n",
      "2019-03-07 22:29:09,457 : INFO : loading vocabulary recursively from mymodel.vocabulary.* with mmap=None\n",
      "2019-03-07 22:29:09,459 : INFO : loading trainables recursively from mymodel.trainables.* with mmap=None\n",
      "2019-03-07 22:29:09,461 : INFO : setting ignored attribute cum_table to None\n",
      "2019-03-07 22:29:09,462 : INFO : loaded mymodel\n"
     ]
    }
   ],
   "source": [
    "model.save('mymodel')  \n",
    "new_model = gensim.models.Word2Vec.load('mymodel')  "
   ]
  },
  {
   "cell_type": "code",
   "execution_count": 25,
   "metadata": {},
   "outputs": [
    {
     "name": "stderr",
     "output_type": "stream",
     "text": [
      "2019-03-07 22:29:19,408 : INFO : collecting all words and their counts\n",
      "2019-03-07 22:29:19,410 : INFO : PROGRESS: at sentence #0, processed 0 words, keeping 0 word types\n",
      "2019-03-07 22:29:19,412 : INFO : collected 3 word types from a corpus of 4 raw words and 2 sentences\n",
      "2019-03-07 22:29:19,413 : INFO : Loading a fresh vocabulary\n",
      "2019-03-07 22:29:19,415 : INFO : effective_min_count=1 retains 3 unique words (100% of original 3, drops 0)\n",
      "2019-03-07 22:29:19,417 : INFO : effective_min_count=1 leaves 4 word corpus (100% of original 4, drops 0)\n",
      "2019-03-07 22:29:19,418 : INFO : deleting the raw counts dictionary of 3 items\n",
      "2019-03-07 22:29:19,420 : INFO : sample=0.001 downsamples 3 most-common words\n",
      "2019-03-07 22:29:19,421 : INFO : downsampling leaves estimated 0 word corpus (5.7% of prior 4)\n",
      "2019-03-07 22:29:19,423 : INFO : estimated required memory for 3 words and 256 dimensions: 7644 bytes\n",
      "2019-03-07 22:29:19,424 : INFO : resetting layer weights\n",
      "2019-03-07 22:29:19,426 : INFO : training model with 4 workers on 3 vocabulary and 256 features, using sg=1 hs=0 sample=0.001 negative=5 window=7\n",
      "2019-03-07 22:29:19,438 : INFO : worker thread finished; awaiting finish of 3 more threads\n",
      "2019-03-07 22:29:19,440 : INFO : worker thread finished; awaiting finish of 2 more threads\n",
      "2019-03-07 22:29:19,441 : INFO : worker thread finished; awaiting finish of 1 more threads\n",
      "2019-03-07 22:29:19,442 : INFO : worker thread finished; awaiting finish of 0 more threads\n",
      "2019-03-07 22:29:19,443 : INFO : EPOCH - 1 : training on 4 raw words (0 effective words) took 0.0s, 0 effective words/s\n",
      "2019-03-07 22:29:19,451 : INFO : worker thread finished; awaiting finish of 3 more threads\n",
      "2019-03-07 22:29:19,452 : INFO : worker thread finished; awaiting finish of 2 more threads\n",
      "2019-03-07 22:29:19,454 : INFO : worker thread finished; awaiting finish of 1 more threads\n",
      "2019-03-07 22:29:19,455 : INFO : worker thread finished; awaiting finish of 0 more threads\n",
      "2019-03-07 22:29:19,456 : INFO : EPOCH - 2 : training on 4 raw words (0 effective words) took 0.0s, 0 effective words/s\n",
      "2019-03-07 22:29:19,476 : INFO : worker thread finished; awaiting finish of 3 more threads\n",
      "2019-03-07 22:29:19,477 : INFO : worker thread finished; awaiting finish of 2 more threads\n",
      "2019-03-07 22:29:19,478 : INFO : worker thread finished; awaiting finish of 1 more threads\n",
      "2019-03-07 22:29:19,480 : INFO : worker thread finished; awaiting finish of 0 more threads\n",
      "2019-03-07 22:29:19,482 : INFO : EPOCH - 3 : training on 4 raw words (1 effective words) took 0.0s, 139 effective words/s\n",
      "2019-03-07 22:29:19,489 : INFO : worker thread finished; awaiting finish of 3 more threads\n",
      "2019-03-07 22:29:19,491 : INFO : worker thread finished; awaiting finish of 2 more threads\n",
      "2019-03-07 22:29:19,492 : INFO : worker thread finished; awaiting finish of 1 more threads\n",
      "2019-03-07 22:29:19,493 : INFO : worker thread finished; awaiting finish of 0 more threads\n",
      "2019-03-07 22:29:19,494 : INFO : EPOCH - 4 : training on 4 raw words (0 effective words) took 0.0s, 0 effective words/s\n",
      "2019-03-07 22:29:19,502 : INFO : worker thread finished; awaiting finish of 3 more threads\n",
      "2019-03-07 22:29:19,504 : INFO : worker thread finished; awaiting finish of 2 more threads\n",
      "2019-03-07 22:29:19,506 : INFO : worker thread finished; awaiting finish of 1 more threads\n",
      "2019-03-07 22:29:19,507 : INFO : worker thread finished; awaiting finish of 0 more threads\n",
      "2019-03-07 22:29:19,508 : INFO : EPOCH - 5 : training on 4 raw words (0 effective words) took 0.0s, 0 effective words/s\n",
      "2019-03-07 22:29:19,509 : INFO : training on a 20 raw words (1 effective words) took 0.1s, 12 effective words/s\n",
      "2019-03-07 22:29:19,511 : WARNING : under 10 jobs per worker: consider setting a smaller `batch_words' for smoother alpha decay\n"
     ]
    }
   ],
   "source": [
    "model2=trainModel(sg=1,window=7)"
   ]
  },
  {
   "cell_type": "code",
   "execution_count": 26,
   "metadata": {},
   "outputs": [
    {
     "name": "stdout",
     "output_type": "stream",
     "text": [
      "Word2Vec(vocab=3, size=256, alpha=0.025)\n"
     ]
    }
   ],
   "source": [
    "print(model2)"
   ]
  },
  {
   "cell_type": "code",
   "execution_count": 27,
   "metadata": {},
   "outputs": [
    {
     "name": "stderr",
     "output_type": "stream",
     "text": [
      "C:\\Users\\jesse\\Anaconda3\\lib\\site-packages\\ipykernel_launcher.py:1: DeprecationWarning: Call to deprecated `similarity` (Method will be removed in 4.0.0, use self.wv.similarity() instead).\n",
      "  \"\"\"Entry point for launching an IPython kernel.\n"
     ]
    },
    {
     "data": {
      "text/plain": [
       "0.0016694143"
      ]
     },
     "execution_count": 27,
     "metadata": {},
     "output_type": "execute_result"
    }
   ],
   "source": [
    "model2.similarity('I am a hero','She is a teacher')"
   ]
  },
  {
   "cell_type": "code",
   "execution_count": 28,
   "metadata": {},
   "outputs": [
    {
     "name": "stderr",
     "output_type": "stream",
     "text": [
      "2019-03-07 22:29:33,600 : INFO : saving Word2Vec object under mymode2, separately None\n",
      "2019-03-07 22:29:33,602 : INFO : not storing attribute vectors_norm\n",
      "2019-03-07 22:29:33,603 : INFO : not storing attribute cum_table\n",
      "2019-03-07 22:29:33,607 : INFO : saved mymode2\n",
      "2019-03-07 22:29:33,608 : INFO : loading Word2Vec object from mymode2\n",
      "2019-03-07 22:29:33,611 : INFO : loading wv recursively from mymode2.wv.* with mmap=None\n",
      "2019-03-07 22:29:33,613 : INFO : setting ignored attribute vectors_norm to None\n",
      "2019-03-07 22:29:33,614 : INFO : loading vocabulary recursively from mymode2.vocabulary.* with mmap=None\n",
      "2019-03-07 22:29:33,616 : INFO : loading trainables recursively from mymode2.trainables.* with mmap=None\n",
      "2019-03-07 22:29:33,617 : INFO : setting ignored attribute cum_table to None\n",
      "2019-03-07 22:29:33,619 : INFO : loaded mymode2\n"
     ]
    }
   ],
   "source": [
    "model.save('mymode2')  \n",
    "new_model = gensim.models.Word2Vec.load('mymode2')  "
   ]
  },
  {
   "cell_type": "code",
   "execution_count": null,
   "metadata": {},
   "outputs": [],
   "source": []
  }
 ],
 "metadata": {
  "kernelspec": {
   "display_name": "Python 3",
   "language": "python",
   "name": "python3"
  },
  "language_info": {
   "codemirror_mode": {
    "name": "ipython",
    "version": 3
   },
   "file_extension": ".py",
   "mimetype": "text/x-python",
   "name": "python",
   "nbconvert_exporter": "python",
   "pygments_lexer": "ipython3",
   "version": "3.7.2"
  }
 },
 "nbformat": 4,
 "nbformat_minor": 2
}
